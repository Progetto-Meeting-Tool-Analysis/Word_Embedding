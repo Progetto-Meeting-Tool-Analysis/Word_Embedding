{
 "cells": [
  {
   "cell_type": "markdown",
   "metadata": {},
   "source": [
    "TANTE BELLE COSE\n",
    "\n",
    "\n",
    "!pip install langdetect\n",
    "\n",
    "from langdetect import detect"
   ]
  },
  {
   "cell_type": "code",
   "execution_count": 1,
   "metadata": {},
   "outputs": [],
   "source": [
    "#!pip install langdetect\n",
    "\n",
    "from langdetect import detect"
   ]
  },
  {
   "cell_type": "code",
   "execution_count": 2,
   "metadata": {},
   "outputs": [
    {
     "data": {
      "text/html": [
       "<div>\n",
       "<style scoped>\n",
       "    .dataframe tbody tr th:only-of-type {\n",
       "        vertical-align: middle;\n",
       "    }\n",
       "\n",
       "    .dataframe tbody tr th {\n",
       "        vertical-align: top;\n",
       "    }\n",
       "\n",
       "    .dataframe thead th {\n",
       "        text-align: right;\n",
       "    }\n",
       "</style>\n",
       "<table border=\"1\" class=\"dataframe\">\n",
       "  <thead>\n",
       "    <tr style=\"text-align: right;\">\n",
       "      <th></th>\n",
       "      <th>Piattaforma</th>\n",
       "      <th>Vantaggi</th>\n",
       "      <th>Incovenienti</th>\n",
       "    </tr>\n",
       "  </thead>\n",
       "  <tbody>\n",
       "    <tr>\n",
       "      <th>0</th>\n",
       "      <td>Zoom</td>\n",
       "      <td>in tutta sincerità non lo conoscevo. a causa d...</td>\n",
       "      <td>la versione free consente una chiamata massimo...</td>\n",
       "    </tr>\n",
       "    <tr>\n",
       "      <th>1</th>\n",
       "      <td>Zoom</td>\n",
       "      <td>il vantaggio è sicuramente quello di poter far...</td>\n",
       "      <td>non mi piace che alcune opzioni sono difficili...</td>\n",
       "    </tr>\n",
       "    <tr>\n",
       "      <th>2</th>\n",
       "      <td>Zoom</td>\n",
       "      <td>it's pretty easy to use and easy to integrate ...</td>\n",
       "      <td>this is a software i use almost daily, so when...</td>\n",
       "    </tr>\n",
       "    <tr>\n",
       "      <th>3</th>\n",
       "      <td>Zoom</td>\n",
       "      <td>in the wake of covid-19, zoom has become synon...</td>\n",
       "      <td>the free version teases just enough functional...</td>\n",
       "    </tr>\n",
       "    <tr>\n",
       "      <th>4</th>\n",
       "      <td>Zoom</td>\n",
       "      <td>of all the video conferencing tools out there ...</td>\n",
       "      <td>if you have any more than say three - max four...</td>\n",
       "    </tr>\n",
       "    <tr>\n",
       "      <th>...</th>\n",
       "      <td>...</td>\n",
       "      <td>...</td>\n",
       "      <td>...</td>\n",
       "    </tr>\n",
       "    <tr>\n",
       "      <th>42736</th>\n",
       "      <td>Google_Meet</td>\n",
       "      <td>I felt like it quit unexpectedly on me more th...</td>\n",
       "      <td>Less features compared to other products in th...</td>\n",
       "    </tr>\n",
       "    <tr>\n",
       "      <th>42737</th>\n",
       "      <td>Google_Meet</td>\n",
       "      <td>I wish more people were aware of it and used it</td>\n",
       "      <td>Less features compared to other products in th...</td>\n",
       "    </tr>\n",
       "    <tr>\n",
       "      <th>42738</th>\n",
       "      <td>Google_Meet</td>\n",
       "      <td>Weak features, no real grab for attention. The...</td>\n",
       "      <td>Less features compared to other products in th...</td>\n",
       "    </tr>\n",
       "    <tr>\n",
       "      <th>42739</th>\n",
       "      <td>Google_Meet</td>\n",
       "      <td>High data consuming,</td>\n",
       "      <td>Less features compared to other products in th...</td>\n",
       "    </tr>\n",
       "    <tr>\n",
       "      <th>42740</th>\n",
       "      <td>Google_Meet</td>\n",
       "      <td>It’s kind of easy to use, easy instructions</td>\n",
       "      <td>Was slow to load and lagged when I used it</td>\n",
       "    </tr>\n",
       "  </tbody>\n",
       "</table>\n",
       "<p>42741 rows × 3 columns</p>\n",
       "</div>"
      ],
      "text/plain": [
       "       Piattaforma                                           Vantaggi  \\\n",
       "0             Zoom  in tutta sincerità non lo conoscevo. a causa d...   \n",
       "1             Zoom  il vantaggio è sicuramente quello di poter far...   \n",
       "2             Zoom  it's pretty easy to use and easy to integrate ...   \n",
       "3             Zoom  in the wake of covid-19, zoom has become synon...   \n",
       "4             Zoom  of all the video conferencing tools out there ...   \n",
       "...            ...                                                ...   \n",
       "42736  Google_Meet  I felt like it quit unexpectedly on me more th...   \n",
       "42737  Google_Meet    I wish more people were aware of it and used it   \n",
       "42738  Google_Meet  Weak features, no real grab for attention. The...   \n",
       "42739  Google_Meet                               High data consuming,   \n",
       "42740  Google_Meet        It’s kind of easy to use, easy instructions   \n",
       "\n",
       "                                            Incovenienti  \n",
       "0      la versione free consente una chiamata massimo...  \n",
       "1      non mi piace che alcune opzioni sono difficili...  \n",
       "2      this is a software i use almost daily, so when...  \n",
       "3      the free version teases just enough functional...  \n",
       "4      if you have any more than say three - max four...  \n",
       "...                                                  ...  \n",
       "42736  Less features compared to other products in th...  \n",
       "42737  Less features compared to other products in th...  \n",
       "42738  Less features compared to other products in th...  \n",
       "42739  Less features compared to other products in th...  \n",
       "42740         Was slow to load and lagged when I used it  \n",
       "\n",
       "[42741 rows x 3 columns]"
      ]
     },
     "execution_count": 2,
     "metadata": {},
     "output_type": "execute_result"
    }
   ],
   "source": [
    "import pandas as pd\n",
    "\n",
    "df = pd.read_csv(\"C:/Users/David/Downloads/TotVantaggiSvantaggi.csv\")\n",
    "#df\n",
    "\n",
    "df"
   ]
  },
  {
   "cell_type": "code",
   "execution_count": 3,
   "metadata": {},
   "outputs": [],
   "source": [
    "#pd.to_numeric(df['Consigliato'])"
   ]
  },
  {
   "cell_type": "code",
   "execution_count": 4,
   "metadata": {},
   "outputs": [],
   "source": [
    "#def binary(row):\n",
    "   # if row['Consigliato'] == \"8/10\" or row['Consigliato']  == \"9/10\" or row['Consigliato'] ==\"10/10\":\n",
    "   #     val = 1\n",
    "   # elif row['Consigliato'] == \"7/10\" or row['Consigliato'] == row['Consigliato'] == \"7/10\" or \"6/10\" or row['Consigliato'] == \"5/10\" or row['Consigliato'] == \"4/10\" or row['Consigliato'] == \"3/10\" or row['Consigliato'] == \"2/10\" or row['Consigliato'] == \"1/10\" or row['Consigliato'] ==\"0/10\" :\n",
    "   #     val = 0\n",
    "   # else:\n",
    "     #   val = -1\n",
    "   # return val\n",
    "\n",
    "#df['bin_y'] = df.apply(binary, axis=1)\n",
    "#df"
   ]
  },
  {
   "cell_type": "code",
   "execution_count": null,
   "metadata": {},
   "outputs": [],
   "source": []
  },
  {
   "cell_type": "code",
   "execution_count": 7,
   "metadata": {},
   "outputs": [
    {
     "ename": "TypeError",
     "evalue": "expected string or bytes-like object",
     "output_type": "error",
     "traceback": [
      "\u001b[1;31m---------------------------------------------------------------------------\u001b[0m",
      "\u001b[1;31mTypeError\u001b[0m                                 Traceback (most recent call last)",
      "\u001b[1;32m<ipython-input-7-8db51685aa79>\u001b[0m in \u001b[0;36m<module>\u001b[1;34m\u001b[0m\n\u001b[0;32m      2\u001b[0m \u001b[0mlanglist\u001b[0m\u001b[1;33m=\u001b[0m\u001b[1;33m[\u001b[0m\u001b[1;33m]\u001b[0m\u001b[1;33m\u001b[0m\u001b[1;33m\u001b[0m\u001b[0m\n\u001b[0;32m      3\u001b[0m \u001b[1;32mfor\u001b[0m \u001b[0mi\u001b[0m \u001b[1;32min\u001b[0m \u001b[0mrange\u001b[0m\u001b[1;33m(\u001b[0m\u001b[1;36m0\u001b[0m\u001b[1;33m,\u001b[0m\u001b[0mlen\u001b[0m\u001b[1;33m(\u001b[0m\u001b[0mdf\u001b[0m\u001b[1;33m)\u001b[0m\u001b[1;33m)\u001b[0m\u001b[1;33m:\u001b[0m\u001b[1;33m\u001b[0m\u001b[1;33m\u001b[0m\u001b[0m\n\u001b[1;32m----> 4\u001b[1;33m     \u001b[0mLang\u001b[0m\u001b[1;33m=\u001b[0m \u001b[0mdetect\u001b[0m\u001b[1;33m(\u001b[0m\u001b[0mdf\u001b[0m\u001b[1;33m[\u001b[0m\u001b[1;34m'Vantaggi'\u001b[0m\u001b[1;33m]\u001b[0m\u001b[1;33m[\u001b[0m\u001b[0mi\u001b[0m\u001b[1;33m]\u001b[0m\u001b[1;33m)\u001b[0m\u001b[1;33m\u001b[0m\u001b[1;33m\u001b[0m\u001b[0m\n\u001b[0m\u001b[0;32m      5\u001b[0m     \u001b[0mlanglist\u001b[0m\u001b[1;33m.\u001b[0m\u001b[0mappend\u001b[0m\u001b[1;33m(\u001b[0m\u001b[0mLang\u001b[0m\u001b[1;33m)\u001b[0m\u001b[1;33m\u001b[0m\u001b[1;33m\u001b[0m\u001b[0m\n\u001b[0;32m      6\u001b[0m     \u001b[0mdf\u001b[0m\u001b[1;33m[\u001b[0m\u001b[1;34m'Lang'\u001b[0m\u001b[1;33m]\u001b[0m\u001b[1;33m[\u001b[0m\u001b[0mi\u001b[0m\u001b[1;33m]\u001b[0m \u001b[1;33m=\u001b[0m \u001b[0mlanglist\u001b[0m\u001b[1;33m[\u001b[0m\u001b[0mi\u001b[0m\u001b[1;33m]\u001b[0m\u001b[1;33m\u001b[0m\u001b[1;33m\u001b[0m\u001b[0m\n",
      "\u001b[1;32m~\\Anaconda3\\lib\\site-packages\\langdetect\\detector_factory.py\u001b[0m in \u001b[0;36mdetect\u001b[1;34m(text)\u001b[0m\n\u001b[0;32m    127\u001b[0m     \u001b[0minit_factory\u001b[0m\u001b[1;33m(\u001b[0m\u001b[1;33m)\u001b[0m\u001b[1;33m\u001b[0m\u001b[1;33m\u001b[0m\u001b[0m\n\u001b[0;32m    128\u001b[0m     \u001b[0mdetector\u001b[0m \u001b[1;33m=\u001b[0m \u001b[0m_factory\u001b[0m\u001b[1;33m.\u001b[0m\u001b[0mcreate\u001b[0m\u001b[1;33m(\u001b[0m\u001b[1;33m)\u001b[0m\u001b[1;33m\u001b[0m\u001b[1;33m\u001b[0m\u001b[0m\n\u001b[1;32m--> 129\u001b[1;33m     \u001b[0mdetector\u001b[0m\u001b[1;33m.\u001b[0m\u001b[0mappend\u001b[0m\u001b[1;33m(\u001b[0m\u001b[0mtext\u001b[0m\u001b[1;33m)\u001b[0m\u001b[1;33m\u001b[0m\u001b[1;33m\u001b[0m\u001b[0m\n\u001b[0m\u001b[0;32m    130\u001b[0m     \u001b[1;32mreturn\u001b[0m \u001b[0mdetector\u001b[0m\u001b[1;33m.\u001b[0m\u001b[0mdetect\u001b[0m\u001b[1;33m(\u001b[0m\u001b[1;33m)\u001b[0m\u001b[1;33m\u001b[0m\u001b[1;33m\u001b[0m\u001b[0m\n\u001b[0;32m    131\u001b[0m \u001b[1;33m\u001b[0m\u001b[0m\n",
      "\u001b[1;32m~\\Anaconda3\\lib\\site-packages\\langdetect\\detector.py\u001b[0m in \u001b[0;36mappend\u001b[1;34m(self, text)\u001b[0m\n\u001b[0;32m    102\u001b[0m         \u001b[0mDetector\u001b[0m\u001b[1;33m.\u001b[0m\u001b[0mset_max_text_length\u001b[0m\u001b[1;33m(\u001b[0m\u001b[0mint\u001b[0m\u001b[1;33m)\u001b[0m\u001b[1;33m,\u001b[0m \u001b[0mthe\u001b[0m \u001b[0mrest\u001b[0m \u001b[1;32mis\u001b[0m \u001b[0mcut\u001b[0m \u001b[0mdown\u001b[0m\u001b[1;33m.\u001b[0m\u001b[1;33m\u001b[0m\u001b[1;33m\u001b[0m\u001b[0m\n\u001b[0;32m    103\u001b[0m         '''\n\u001b[1;32m--> 104\u001b[1;33m         \u001b[0mtext\u001b[0m \u001b[1;33m=\u001b[0m \u001b[0mself\u001b[0m\u001b[1;33m.\u001b[0m\u001b[0mURL_RE\u001b[0m\u001b[1;33m.\u001b[0m\u001b[0msub\u001b[0m\u001b[1;33m(\u001b[0m\u001b[1;34m' '\u001b[0m\u001b[1;33m,\u001b[0m \u001b[0mtext\u001b[0m\u001b[1;33m)\u001b[0m\u001b[1;33m\u001b[0m\u001b[1;33m\u001b[0m\u001b[0m\n\u001b[0m\u001b[0;32m    105\u001b[0m         \u001b[0mtext\u001b[0m \u001b[1;33m=\u001b[0m \u001b[0mself\u001b[0m\u001b[1;33m.\u001b[0m\u001b[0mMAIL_RE\u001b[0m\u001b[1;33m.\u001b[0m\u001b[0msub\u001b[0m\u001b[1;33m(\u001b[0m\u001b[1;34m' '\u001b[0m\u001b[1;33m,\u001b[0m \u001b[0mtext\u001b[0m\u001b[1;33m)\u001b[0m\u001b[1;33m\u001b[0m\u001b[1;33m\u001b[0m\u001b[0m\n\u001b[0;32m    106\u001b[0m         \u001b[0mtext\u001b[0m \u001b[1;33m=\u001b[0m \u001b[0mNGram\u001b[0m\u001b[1;33m.\u001b[0m\u001b[0mnormalize_vi\u001b[0m\u001b[1;33m(\u001b[0m\u001b[0mtext\u001b[0m\u001b[1;33m)\u001b[0m\u001b[1;33m\u001b[0m\u001b[1;33m\u001b[0m\u001b[0m\n",
      "\u001b[1;31mTypeError\u001b[0m: expected string or bytes-like object"
     ]
    }
   ],
   "source": [
    "from langdetect import detect\n",
    "langlist=[]\n",
    "for i in range(0,len(df)):\n",
    "    Lang= detect(df['Vantaggi'][i])\n",
    "    langlist.append(Lang)\n",
    "    df['Lang'][i] = langlist[i]\n",
    "#df\n",
    "\n"
   ]
  },
  {
   "cell_type": "code",
   "execution_count": 8,
   "metadata": {},
   "outputs": [
    {
     "data": {
      "text/html": [
       "<div>\n",
       "<style scoped>\n",
       "    .dataframe tbody tr th:only-of-type {\n",
       "        vertical-align: middle;\n",
       "    }\n",
       "\n",
       "    .dataframe tbody tr th {\n",
       "        vertical-align: top;\n",
       "    }\n",
       "\n",
       "    .dataframe thead th {\n",
       "        text-align: right;\n",
       "    }\n",
       "</style>\n",
       "<table border=\"1\" class=\"dataframe\">\n",
       "  <thead>\n",
       "    <tr style=\"text-align: right;\">\n",
       "      <th></th>\n",
       "      <th>Piattaforma</th>\n",
       "      <th>Vantaggi</th>\n",
       "      <th>Incovenienti</th>\n",
       "      <th>Lang</th>\n",
       "    </tr>\n",
       "  </thead>\n",
       "  <tbody>\n",
       "    <tr>\n",
       "      <th>0</th>\n",
       "      <td>Zoom</td>\n",
       "      <td>in tutta sincerità non lo conoscevo. a causa d...</td>\n",
       "      <td>la versione free consente una chiamata massimo...</td>\n",
       "      <td>it</td>\n",
       "    </tr>\n",
       "    <tr>\n",
       "      <th>1</th>\n",
       "      <td>Zoom</td>\n",
       "      <td>il vantaggio è sicuramente quello di poter far...</td>\n",
       "      <td>non mi piace che alcune opzioni sono difficili...</td>\n",
       "      <td>it</td>\n",
       "    </tr>\n",
       "    <tr>\n",
       "      <th>2</th>\n",
       "      <td>Zoom</td>\n",
       "      <td>it's pretty easy to use and easy to integrate ...</td>\n",
       "      <td>this is a software i use almost daily, so when...</td>\n",
       "      <td>en</td>\n",
       "    </tr>\n",
       "    <tr>\n",
       "      <th>3</th>\n",
       "      <td>Zoom</td>\n",
       "      <td>in the wake of covid-19, zoom has become synon...</td>\n",
       "      <td>the free version teases just enough functional...</td>\n",
       "      <td>en</td>\n",
       "    </tr>\n",
       "    <tr>\n",
       "      <th>4</th>\n",
       "      <td>Zoom</td>\n",
       "      <td>of all the video conferencing tools out there ...</td>\n",
       "      <td>if you have any more than say three - max four...</td>\n",
       "      <td>en</td>\n",
       "    </tr>\n",
       "  </tbody>\n",
       "</table>\n",
       "</div>"
      ],
      "text/plain": [
       "  Piattaforma                                           Vantaggi  \\\n",
       "0        Zoom  in tutta sincerità non lo conoscevo. a causa d...   \n",
       "1        Zoom  il vantaggio è sicuramente quello di poter far...   \n",
       "2        Zoom  it's pretty easy to use and easy to integrate ...   \n",
       "3        Zoom  in the wake of covid-19, zoom has become synon...   \n",
       "4        Zoom  of all the video conferencing tools out there ...   \n",
       "\n",
       "                                        Incovenienti Lang  \n",
       "0  la versione free consente una chiamata massimo...   it  \n",
       "1  non mi piace che alcune opzioni sono difficili...   it  \n",
       "2  this is a software i use almost daily, so when...   en  \n",
       "3  the free version teases just enough functional...   en  \n",
       "4  if you have any more than say three - max four...   en  "
      ]
     },
     "execution_count": 8,
     "metadata": {},
     "output_type": "execute_result"
    }
   ],
   "source": [
    "df.head()"
   ]
  },
  {
   "cell_type": "code",
   "execution_count": null,
   "metadata": {},
   "outputs": [],
   "source": []
  },
  {
   "cell_type": "code",
   "execution_count": null,
   "metadata": {},
   "outputs": [],
   "source": []
  },
  {
   "cell_type": "code",
   "execution_count": 9,
   "metadata": {},
   "outputs": [],
   "source": [
    "df_01 = df[~(df['Lang']!='en')]\n",
    "            \n",
    "            "
   ]
  },
  {
   "cell_type": "code",
   "execution_count": 10,
   "metadata": {},
   "outputs": [
    {
     "data": {
      "text/html": [
       "<div>\n",
       "<style scoped>\n",
       "    .dataframe tbody tr th:only-of-type {\n",
       "        vertical-align: middle;\n",
       "    }\n",
       "\n",
       "    .dataframe tbody tr th {\n",
       "        vertical-align: top;\n",
       "    }\n",
       "\n",
       "    .dataframe thead th {\n",
       "        text-align: right;\n",
       "    }\n",
       "</style>\n",
       "<table border=\"1\" class=\"dataframe\">\n",
       "  <thead>\n",
       "    <tr style=\"text-align: right;\">\n",
       "      <th></th>\n",
       "      <th>Piattaforma</th>\n",
       "      <th>Vantaggi</th>\n",
       "      <th>Incovenienti</th>\n",
       "      <th>Lang</th>\n",
       "    </tr>\n",
       "  </thead>\n",
       "  <tbody>\n",
       "    <tr>\n",
       "      <th>2</th>\n",
       "      <td>Zoom</td>\n",
       "      <td>it's pretty easy to use and easy to integrate ...</td>\n",
       "      <td>this is a software i use almost daily, so when...</td>\n",
       "      <td>en</td>\n",
       "    </tr>\n",
       "    <tr>\n",
       "      <th>3</th>\n",
       "      <td>Zoom</td>\n",
       "      <td>in the wake of covid-19, zoom has become synon...</td>\n",
       "      <td>the free version teases just enough functional...</td>\n",
       "      <td>en</td>\n",
       "    </tr>\n",
       "    <tr>\n",
       "      <th>4</th>\n",
       "      <td>Zoom</td>\n",
       "      <td>of all the video conferencing tools out there ...</td>\n",
       "      <td>if you have any more than say three - max four...</td>\n",
       "      <td>en</td>\n",
       "    </tr>\n",
       "    <tr>\n",
       "      <th>5</th>\n",
       "      <td>Zoom</td>\n",
       "      <td>flexibility in assigning licenses across users...</td>\n",
       "      <td>i do have concerns with the limited capacity f...</td>\n",
       "      <td>en</td>\n",
       "    </tr>\n",
       "    <tr>\n",
       "      <th>6</th>\n",
       "      <td>Zoom</td>\n",
       "      <td>zoom is great app for online video conferencin...</td>\n",
       "      <td>for most of the times, i am experiencing the r...</td>\n",
       "      <td>en</td>\n",
       "    </tr>\n",
       "    <tr>\n",
       "      <th>...</th>\n",
       "      <td>...</td>\n",
       "      <td>...</td>\n",
       "      <td>...</td>\n",
       "      <td>...</td>\n",
       "    </tr>\n",
       "    <tr>\n",
       "      <th>42736</th>\n",
       "      <td>Google_Meet</td>\n",
       "      <td>I felt like it quit unexpectedly on me more th...</td>\n",
       "      <td>Less features compared to other products in th...</td>\n",
       "      <td>en</td>\n",
       "    </tr>\n",
       "    <tr>\n",
       "      <th>42737</th>\n",
       "      <td>Google_Meet</td>\n",
       "      <td>I wish more people were aware of it and used it</td>\n",
       "      <td>Less features compared to other products in th...</td>\n",
       "      <td>en</td>\n",
       "    </tr>\n",
       "    <tr>\n",
       "      <th>42738</th>\n",
       "      <td>Google_Meet</td>\n",
       "      <td>Weak features, no real grab for attention. The...</td>\n",
       "      <td>Less features compared to other products in th...</td>\n",
       "      <td>en</td>\n",
       "    </tr>\n",
       "    <tr>\n",
       "      <th>42739</th>\n",
       "      <td>Google_Meet</td>\n",
       "      <td>High data consuming,</td>\n",
       "      <td>Less features compared to other products in th...</td>\n",
       "      <td>en</td>\n",
       "    </tr>\n",
       "    <tr>\n",
       "      <th>42740</th>\n",
       "      <td>Google_Meet</td>\n",
       "      <td>It’s kind of easy to use, easy instructions</td>\n",
       "      <td>Was slow to load and lagged when I used it</td>\n",
       "      <td>en</td>\n",
       "    </tr>\n",
       "  </tbody>\n",
       "</table>\n",
       "<p>42715 rows × 4 columns</p>\n",
       "</div>"
      ],
      "text/plain": [
       "       Piattaforma                                           Vantaggi  \\\n",
       "2             Zoom  it's pretty easy to use and easy to integrate ...   \n",
       "3             Zoom  in the wake of covid-19, zoom has become synon...   \n",
       "4             Zoom  of all the video conferencing tools out there ...   \n",
       "5             Zoom  flexibility in assigning licenses across users...   \n",
       "6             Zoom  zoom is great app for online video conferencin...   \n",
       "...            ...                                                ...   \n",
       "42736  Google_Meet  I felt like it quit unexpectedly on me more th...   \n",
       "42737  Google_Meet    I wish more people were aware of it and used it   \n",
       "42738  Google_Meet  Weak features, no real grab for attention. The...   \n",
       "42739  Google_Meet                               High data consuming,   \n",
       "42740  Google_Meet        It’s kind of easy to use, easy instructions   \n",
       "\n",
       "                                            Incovenienti Lang  \n",
       "2      this is a software i use almost daily, so when...   en  \n",
       "3      the free version teases just enough functional...   en  \n",
       "4      if you have any more than say three - max four...   en  \n",
       "5      i do have concerns with the limited capacity f...   en  \n",
       "6      for most of the times, i am experiencing the r...   en  \n",
       "...                                                  ...  ...  \n",
       "42736  Less features compared to other products in th...   en  \n",
       "42737  Less features compared to other products in th...   en  \n",
       "42738  Less features compared to other products in th...   en  \n",
       "42739  Less features compared to other products in th...   en  \n",
       "42740         Was slow to load and lagged when I used it   en  \n",
       "\n",
       "[42715 rows x 4 columns]"
      ]
     },
     "execution_count": 10,
     "metadata": {},
     "output_type": "execute_result"
    }
   ],
   "source": [
    "df_01"
   ]
  },
  {
   "cell_type": "code",
   "execution_count": 11,
   "metadata": {},
   "outputs": [
    {
     "data": {
      "text/plain": [
       "'flexibility in assigning licenses across users on an as needed basis. we are a smaller campus with about 3000 students, faculty , and staff using zoom daily and the cost benefit of not having to have to own more licenses than we really need is a huge help on the budget side. it does require a little more administration effort keeping track of who needs the licenses when but zoom interface is easy for managing the movement.'"
      ]
     },
     "execution_count": 11,
     "metadata": {},
     "output_type": "execute_result"
    }
   ],
   "source": [
    "df_not_na = df_01[~(df_01['Vantaggi'].isna()) & ~(df_01['Incovenienti'].isna())]\n",
    "text_0 = df_not_na['Vantaggi']\n",
    "#y = df_not_na['bin_y'].tolist()\n",
    "text_0[5]"
   ]
  },
  {
   "cell_type": "code",
   "execution_count": 12,
   "metadata": {},
   "outputs": [
    {
     "name": "stdout",
     "output_type": "stream",
     "text": [
      "['flexibility', 'in', 'assigning', 'license', 'across', 'user', 'on', 'an', 'a', 'needed', 'basis', 'we', 'are', 'a', 'smaller', 'campus', 'with', 'about', '3000', 'student', 'faculty', 'and', 'staff', 'using', 'zoom', 'daily', 'and', 'the', 'cost', 'benefit', 'of', 'not', 'having', 'to', 'have', 'to', 'own', 'more', 'license', 'than', 'we', 'really', 'need', 'is', 'a', 'huge', 'help', 'on', 'the', 'budget', 'side', 'it', 'doe', 'require', 'a', 'little', 'more', 'administration', 'effort', 'keeping', 'track', 'of', 'who', 'need', 'the', 'license', 'when', 'but', 'zoom', 'interface', 'is', 'easy', 'for', 'managing', 'the', 'movement']\n"
     ]
    }
   ],
   "source": [
    "from tqdm import tqdm\n",
    "from nltk.stem import WordNetLemmatizer\n",
    "\n",
    "#nltk.download()\n",
    "\n",
    "lemmatizer = WordNetLemmatizer()\n",
    "\n",
    "text = text_0.str.lower().str.replace('[^\\w\\s]',' ')\n",
    "text = text.str.split()\n",
    "# text = text.apply(lambda x: [lemmatizer.lemmatize(word) for sentence in x for word in sentence])\n",
    "text = text.apply(lambda x: [lemmatizer.lemmatize(sent) for sent in x])\n",
    "print(text[5])"
   ]
  },
  {
   "cell_type": "code",
   "execution_count": 13,
   "metadata": {},
   "outputs": [
    {
     "name": "stdout",
     "output_type": "stream",
     "text": [
      "['flexibility', 'in', 'assigning', 'license', 'across', 'user', 'on', 'an', 'a', 'needed', 'basis', 'we', 'are', 'a', 'smaller', 'campus', 'with', 'about', '3000', 'student', 'faculty', 'and', 'staff', 'using', 'zoom', 'daily', 'and', 'the', 'cost', 'benefit', 'of', 'not', 'having', 'to', 'have', 'to', 'own', 'more', 'license', 'than', 'we', 'really', 'need', 'is', 'a', 'huge_help', 'on', 'the', 'budget', 'side', 'it', 'doe', 'require', 'a', 'little', 'more', 'administration', 'effort', 'keeping_track', 'of', 'who', 'need', 'the', 'license', 'when', 'but', 'zoom', 'interface_is_easy', 'for', 'managing', 'the', 'movement']\n"
     ]
    }
   ],
   "source": [
    "from gensim.models.phrases import Phrases\n",
    "from nltk.corpus import stopwords\n",
    "stop_words = pd.read_csv('C:/Users/David/Downloads/stop_list.txt', sep=\" \", header=None)\n",
    "stop = stop_words[0].tolist()\n",
    "\n",
    "\n",
    "#stop = stopwords.words('english')\n",
    "stop.extend(['good', 'bad', 'dont','don', 'many', 'love', 'excellent','to', 'would', 'perfect', 'even', 'great','a','for','go', 'ha','wa', 'withouth', 'u', 'etc','asana',\n",
    "               'google_meet',\n",
    "               'go_to_meeting',\n",
    "               'zoom',\n",
    "               'teamviewer',\n",
    "               'webex',\n",
    "               'microsoft_teams','google_hangout','google','hangout','like','others','get','need','one','also','lot','thing','for','more','with'])\n",
    "\n",
    "\n",
    "\n",
    "\n",
    "bigram = Phrases(text, min_count=5, threshold=0.5, common_terms=stop)\n",
    "print(bigram[text[5]])"
   ]
  },
  {
   "cell_type": "code",
   "execution_count": 14,
   "metadata": {},
   "outputs": [
    {
     "name": "stdout",
     "output_type": "stream",
     "text": [
      "['flexibility', 'in', 'assigning', 'license', 'across', 'user', 'on', 'an', 'a', 'needed', 'basis', 'we', 'are', 'a', 'smaller', 'campus', 'with', 'about', '3000', 'student', 'faculty', 'and', 'staff', 'using', 'zoom', 'daily', 'and', 'the', 'cost', 'benefit', 'of', 'not', 'having', 'to', 'have', 'to', 'own', 'more', 'license', 'than', 'we', 'really', 'need', 'is', 'a', 'huge_help', 'on', 'the', 'budget', 'side', 'it', 'doe', 'require', 'a', 'little', 'more', 'administration', 'effort', 'keeping_track', 'of', 'who', 'need', 'the', 'license', 'when', 'but', 'zoom', 'interface_is_easy', 'for', 'managing', 'the', 'movement']\n"
     ]
    }
   ],
   "source": [
    "print(bigram[text[5]])"
   ]
  },
  {
   "cell_type": "code",
   "execution_count": 15,
   "metadata": {},
   "outputs": [
    {
     "name": "stdout",
     "output_type": "stream",
     "text": [
      "['zoom', 'can', 'be', 'used', 'both', 'on', 'pc', 'and', 'smartphone', 'the', 'app', 'is', 'quite', 'easy_to_navigate', 'connecting', 'to', 'meeting', 'is', 'easy', 'using', 'meeting_link', 'it', 'ha', 'the', 'option', 'to', 'chat', 'share_screen', 'document', 'and', 'whiteboard', 'everything', 'needed', 'for', 'team_meeting', 'the', 'driving', 'mode', 'is', 'quite', 'handy', 'when', 'only', 'voice', 'communication', 'is', 'needed']\n"
     ]
    }
   ],
   "source": [
    "bigrams = [bigram[item] for item in text]\n",
    "ngrams = [bigram[item] for item in bigrams]\n",
    "print(ngrams[5])"
   ]
  },
  {
   "cell_type": "code",
   "execution_count": 16,
   "metadata": {},
   "outputs": [
    {
     "name": "stdout",
     "output_type": "stream",
     "text": [
      "['zoom', 'can', 'be', 'used', 'both', 'on', 'pc', 'and', 'smartphone', 'the', 'app', 'is', 'quite', 'easy_to_navigate', 'connecting', 'to', 'meeting', 'is', 'easy', 'using', 'meeting_link', 'it', 'ha', 'the', 'option', 'to', 'chat', 'share_screen', 'document', 'and', 'whiteboard', 'everything', 'needed', 'for', 'team_meeting', 'the', 'driving', 'mode', 'is', 'quite', 'handy', 'when', 'only', 'voice', 'communication', 'is', 'needed']\n"
     ]
    }
   ],
   "source": [
    "print(ngrams[5])"
   ]
  },
  {
   "cell_type": "code",
   "execution_count": null,
   "metadata": {},
   "outputs": [],
   "source": []
  },
  {
   "cell_type": "code",
   "execution_count": 17,
   "metadata": {},
   "outputs": [
    {
     "name": "stdout",
     "output_type": "stream",
     "text": [
      "['it', 's', 'pretty_easy', 'to', 'use', 'and', 'easy_to_integrate', 'with', 'google', 'calendar', 'the', 'google', 'calendar', 'chrome_plugin', 'is', 'very', 'convenient', 'with', 'a', 'single_click', 'it', 'assigns', 'the', 'zoom', 'meeting', 'to', 'an', 'appointment']\n"
     ]
    },
    {
     "data": {
      "text/plain": [
       "'pretty_easy easy_to_integrate calendar calendar chrome_plugin convenient single_click assigns appointment'"
      ]
     },
     "execution_count": 17,
     "metadata": {},
     "output_type": "execute_result"
    }
   ],
   "source": [
    "from nltk.corpus import stopwords\n",
    "#stop = stopwords.words('english')\n",
    "stop = stop_words[0].tolist()\n",
    "\n",
    "stop.extend(['good', 'bad', 'dont', 'many', 'love', 'excellent', 'would', 'perfect', 'even', 'great','a','for','go', 'ha','wa', 'withouth', 'u', 'etc','asana',\n",
    "               'google_meet',\n",
    "               'go_to_meeting',\n",
    "               'zoom',\n",
    "               'teamviewer',\n",
    "               'webex',\n",
    "               'microsoft_teams','google_hangout','able','say','still','found','everything','ease','someone','find','think','not','easily','problem','issue','use','program','platform','meeting','google','to','hangout','web_ex','don','like','others','get','need','one','also','lot','thing','for','more','with'])\n",
    "print(ngrams[0])\n",
    "train_sentences = []\n",
    "for row in ngrams:\n",
    "    train_sentences.append(' '.join([item for item in row if item not in stop]))\n",
    "#train_sentences = [' '.join(item) for item in ngrams]\n",
    "train_sentences[0]"
   ]
  },
  {
   "cell_type": "code",
   "execution_count": 18,
   "metadata": {},
   "outputs": [],
   "source": [
    "#for u in range(0,len(train_sentences)):\n",
    "   # train_sentences[u] = train_sentences[u].split()\n",
    "#train_sentences[5]"
   ]
  },
  {
   "cell_type": "code",
   "execution_count": 19,
   "metadata": {},
   "outputs": [
    {
     "data": {
      "text/plain": [
       "'online_meeting since 2013 although couple people pre 2020 started emerge time covid_19 started affecting school people social_distance school person essentially impossible getting sick strong solution ever today student attend school pandemic mind online_school especially_since know save peer contracting virus provided student attend school risk exposing exposed covid_19 manageable people family could video_chat option quickly turn mic camera instant message people chat no turn mic ask_a_question quick command menu ask teacher multiple attention re teaching accessing simple send receive_a_link instantly enter room code feature host send separate_group privately effective group_project'"
      ]
     },
     "execution_count": 19,
     "metadata": {},
     "output_type": "execute_result"
    }
   ],
   "source": [
    "train_sentences[6]"
   ]
  },
  {
   "cell_type": "code",
   "execution_count": 20,
   "metadata": {},
   "outputs": [
    {
     "name": "stdout",
     "output_type": "stream",
     "text": [
      "['100', 'ability', 'ability_to_connect', 'ability_to_record', 'ability_to_share', 'ability_to_share screen', 'able_to_communicate', 'able_to_connect', 'able_to_share', 'able_to_share screen', 'absolutely', 'access', 'accessed', 'accessible', 'accessing', 'account', 'across', 'activity', 'actually', 'add', 'added', 'adding', 'addition', 'additional', 'additionally', 'admin', 'administrator', 'advanced', 'advantage', 'affordable', 'allow', 'allowed', 'allowing', 'almost', 'along', 'already', 'alternative', 'although', 'always', 'amazing', 'among', 'android', 'annoying', 'another', 'answer', 'anyone', 'anytime', 'anywhere', 'app', 'application', 'appreciate', 'apps', 'area', 'aren', 'around', 'around_the_world', 'ask', 'ask_question', 'aspect', 'assign', 'assign_task', 'assigned', 'assignment', 'assist', 'assistance', 'attend', 'attendee', 'attending', 'audience', 'audio', 'audio_and_video', 'audio_and_video quality', 'audio_quality', 'audio_video', 'auto', 'automatically', 'availability', 'available', 'away', 'awesome', 'back', 'background', 'bandwidth', 'based', 'basic', 'basically', 'become', 'behind', 'believe', 'beneficial', 'benefit', 'better', 'big', 'biggest', 'board', 'box', 'break', 'breakout_room', 'breeze', 'bring', 'browser', 'bug', 'built', 'business', 'business_meeting', 'button', 'calendar', 'calendar_invite', 'call', 'call phone', 'call_quality', 'calling', 'came', 'camera', 'cannot', 'capability', 'case', 'cell_phone', 'certain', 'change', 'channel', 'chat', 'chat_feature', 'chatting', 'check', 'choice', 'choose', 'chrome', 'cisco', 'cisco_webex_meeting', 'clarity', 'class', 'classroom', 'clean', 'clear', 'clearly', 'click', 'client', 'close', 'cloud', 'co_worker', 'code', 'collaborate', 'collaborating', 'collaboration', 'collaborative', 'colleague', 'come', 'comment', 'common', 'communicate', 'communicating', 'communication', 'company', 'compared', 'compatible', 'competitor', 'complaint', 'complete', 'completed', 'completely', 'complex', 'complicated', 'con', 'conduct', 'conference', 'conference_call', 'conference_room', 'conferencing', 'confusing', 'connect', 'connected', 'connecting', 'connection', 'connection_issue', 'connectivity', 'connects', 'consistent', 'consistently', 'constantly', 'contact', 'content', 'continue', 'control', 'convenience', 'convenient', 'conversation', 'cool', 'cost', 'could', 'couldn', 'country', 'couple', 'course', 'covid', 'covid_19', 'coworkers', 'create', 'create_group', 'created', 'creating', 'cross_platform', 'current', 'currently', 'customer', 'customer_service', 'customer_support', 'customizable', 'customize', 'cut', 'daily', 'daily_basis', 'dashboard', 'data', 'date', 'day', 'de', 'deadline', 'deal', 'decent', 'definitely', 'delay', 'demo', 'department', 'depending', 'design', 'designed', 'desk', 'desktop', 'desktop_sharing', 'detail', 'development', 'device', 'dial', 'different', 'different_location', 'different_project', 'difficult', 'difficulty', 'direct', 'directly', 'discus', 'discussion', 'display', 'distance', 'doc', 'document', 'download', 'downloaded', 'downloading', 'drive', 'drop', 'easier', 'easiest', 'easily_share', 'easy', 'easy connect', 'easy easy', 'easy feature', 'easy people', 'easy set', 'easy simple', 'easy_access', 'easy_to_access', 'easy_to_communicate', 'easy_to_connect', 'easy_to_create', 'easy_to_download', 'easy_to_install', 'easy_to_join', 'easy_to_learn', 'easy_to_navigate', 'easy_to_schedule', 'easy_to_set', 'easy_to_setup', 'easy_to_share', 'easy_to_share screen', 'easy_to_understand', 'edit', 'effective', 'effectively', 'efficient', 'efficiently', 'either', 'else', 'email', 'emojis', 'employee', 'enables', 'end', 'end_user', 'enjoy', 'enjoyed', 'enough', 'enter', 'entire', 'environment', 'especially', 'essential', 'event', 'ever', 'every', 'every_day', 'every_time', 'everybody', 'everyday', 'everyone', 'exactly', 'example', 'expensive', 'experience', 'experienced', 'explain', 'extension', 'external', 'extra', 'extremely', 'extremely_easy', 'face', 'face_to_face', 'facetime', 'facility', 'fairly', 'fairly_easy', 'familiar', 'family', 'fantastic', 'fast', 'faster', 'favorite', 'favorite_feature', 'feature', 'feature easy', 'feedback', 'feel', 'field', 'figure', 'file', 'file_sharing', 'file_transfer', 'fine', 'first', 'first_time', 'fit', 'fix', 'flexibility', 'flexible', 'flow', 'focus', 'folk', 'follow', 'form', 'format', 'free', 'free easy', 'free_version', 'frequently', 'friend', 'friend_and_family', 'friendly', 'full', 'fully', 'fun', 'function', 'functional', 'functionality', 'future', 'g_suite', 'general', 'generally', 'getting', 'gifs', 'give', 'given', 'giving', 'glitch', 'gmail', 'gmail_account', 'goal', 'group', 'group_call', 'group_chat', 'group_meeting', 'gtm', 'guest', 'hand', 'handle', 'handy', 'hang', 'happen', 'happy', 'hard', 'hardware', 'haven', 'hear', 'help', 'helped', 'helpful', 'helping', 'high', 'high_quality', 'highly_recommend', 'history', 'hold', 'hold_meeting', 'home', 'honestly', 'host', 'hosting', 'hour', 'however', 'huge', 'id', 'idea', 'ideal', 'image', 'immediately', 'important', 'improve', 'improved', 'improvement', 'include', 'included', 'includes', 'including', 'incredible', 'incredibly_easy', 'individual', 'industry', 'info', 'information', 'inside', 'install', 'installation', 'installed', 'installing', 'instant', 'instant_messaging', 'instantly', 'instead', 'instruction', 'integrate', 'integrated', 'integrates', 'integration', 'interact', 'interaction', 'interactive', 'interface', 'internal', 'international', 'internet', 'internet_connection', 'interview', 'intuitive', 'invitation', 'invite', 'involved', 'io', 'iphone', 'item', 'job', 'join', 'join_a_meeting', 'join_meeting', 'join_the_meeting', 'joining', 'jump', 'keep', 'keep_in_touch', 'keep_track', 'keeping', 'key', 'kid', 'kind', 'know', 'knowledge', 'known', 'lack', 'lag', 'laptop', 'large', 'large_group', 'last', 'later', 'launch', 'layout', 'le', 'learn', 'learning', 'learning_curve', 'least', 'leave', 'lecture', 'let', 'level', 'license', 'life', 'light', 'liked', 'limit', 'limited', 'line', 'link', 'linked', 'list', 'listen', 'literally', 'little', 'live', 'll', 'load', 'located', 'location', 'log', 'logged', 'logging', 'login', 'long', 'long_distance', 'look', 'looking', 'lost', 'loved', 'low', 'm_not', 'm_team', 'mac', 'machine', 'made', 'mail', 'main', 'mainly', 'maintain', 'major', 'making', 'manage', 'management', 'manager', 'managing', 'market', 'marketing', 'mean', 'meeting_room', 'member', 'message', 'messaging', 'messenger', 'method', 'mic', 'microphone', 'microsoft', 'microsoft_team', 'minimal', 'minute', 'miss', 'mobile', 'mobile_app', 'mobile_device', 'mobile_phone', 'mode', 'modern', 'moment', 'money', 'monitor', 'month', 'mostly', 'move', 'multi', 'multiple', 'multiple_people', 'multiple_user', 'must', 'mute', 'name', 'navigate', 'necessary', 'needed', 'needing', 'network', 'new', 'new_user', 'next', 'no', 'no_issue', 'no_matter', 'no_problem', 'non', 'not_able', 'not_always', 'note', 'notification', 'number', 'occasionally', 'offer', 'office', 'office_365', 'often', 'old', 'online', 'online_meeting', 'open', 'operate', 'opinion', 'opportunity', 'option', 'order', 'organization', 'organize', 'organized', 'organizing', 'otherwise', 'outlook', 'outside', 'overall', 'package', 'page', 'pandemic', 'part', 'participant', 'participate', 'particular', 'partner', 'party', 'password', 'past', 'pay', 'peer', 'people', 'perfectly', 'perform', 'performance', 'permission', 'person', 'personal', 'personally', 'phone', 'phone_call', 'phone_number', 'photo', 'physically', 'pick', 'picture', 'piece', 'place', 'plan', 'planning', 'plug', 'plugin', 'plus', 'point', 'pop', 'popular', 'possibility', 'possible', 'post', 'powerful', 'practical', 'prefer', 'present', 'presentation', 'presenter', 'presenting', 'pretty', 'pretty_easy', 'previous', 'price', 'pricing', 'priority', 'privacy', 'private', 'pro', 'probably', 'process', 'product', 'product easy', 'productive', 'productivity', 'professional', 'progress', 'project', 'project_management', 'provide', 'provided', 'provides', 'providing', 'purpose', 'quality', 'quality_of_the_video', 'quality_of_video', 'question', 'quick', 'quick_and_easy', 'quickly', 'rarely', 're', 'reach', 'read', 'ready', 'real', 'real_time', 'reason', 'receive', 'recently', 'recommend', 'record', 'record_meeting', 'record_the_meeting', 'recording', 'recording_feature', 'regardless', 'regular', 'regularly', 'related', 'relatively', 'relatively_easy', 'reliability', 'reliable', 'remember', 'reminder', 'remote', 'remote_access', 'remote_control', 'remote_desktop', 'remote_location', 'remote_meeting', 'remote_support', 'remote_team', 'remotely', 'report', 'request', 'require', 'required', 'requirement', 'requires', 'resource', 'rest', 'result', 'review', 'right', 'robust', 'room', 'run', 'running', 'safe', 'sale', 'save', 'saved', 'savvy', 'schedule', 'schedule_meeting', 'scheduling', 'school', 'screen', 'screen_share', 'screen_sharing', 'screen_sharing feature', 'screenshare', 'screensharing', 'seamless', 'seamlessly', 'search', 'second', 'section', 'secure', 'security', 'seeing', 'seem', 'seems', 'seen', 'send', 'sending', 'sense', 'sent', 'separate', 'server', 'service', 'session', 'set', 'set_up_meeting', 'setting', 'setup', 'several', 'share', 'share screen', 'share_document', 'share_file', 'share_my_screen', 'share_screen', 'share_the_screen', 'share_their_screen', 'share_your_screen', 'shared', 'sharepoint', 'sharing', 'sharing_screen', 'short', 'show', 'showing', 'side', 'sign', 'similar', 'simple', 'simple_and_easy', 'simplicity', 'simply', 'simultaneously', 'since', 'single', 'site', 'situation', 'size', 'slack', 'slow', 'small', 'smartphone', 'smooth', 'smoothly', 'solid', 'solution', 'solve', 'someone_else', 'something', 'sometimes', 'sort', 'sound', 'sound_quality', 'space', 'speak', 'speaker', 'speaking', 'specific', 'speed', 'stability', 'stable', 'staff', 'standard', 'start', 'started', 'starting', 'state', 'status', 'stay', 'stay_connected', 'step', 'store', 'straight_forward', 'straightforward', 'strong', 'student', 'stuff', 'subtasks', 'suite', 'super', 'super_easy', 'support', 'sure', 'switch', 'switched', 'sync', 'syncs', 'system', 'tab', 'tablet', 'take', 'take_control', 'taking', 'talk', 'talking', 'task', 'task_management', 'teach', 'teacher', 'teaching', 'team', 'team_meeting', 'team_member', 'teammate', 'tech', 'tech_support', 'technical', 'technical_issue', 'technology', 'tell', 'template', 'term', 'text', 'texting', 'thanks', 'though', 'thought', 'throughout', 'time', 'timeline', 'together', 'ton', 'took', 'top', 'touch', 'track', 'tracking', 'train', 'training', 'transfer', 'transfer_file', 'travel', 'trello', 'tried', 'trouble', 'troubleshoot', 'troubleshooting', 'truly', 'try', 'trying', 'turn', 'tutorial', 'type', 'typically', 'understand', 'unique', 'unlike', 'update', 'updated', 'upload', 'url', 'usage', 'useful', 'useful_feature', 'user', 'user_experience', 'user_friendly', 'user_interface', 'usually', 'utilize', 'ux', 'valuable', 'value', 'variety', 'various', 'vendor', 'versatile', 'version', 'via', 'video', 'video_and_audio', 'video_and_audio quality', 'video_audio', 'video_call', 'video_calling', 'video_chat', 'video_chatting', 'video_conference', 'video_conferencing', 'video_meeting', 'video_quality', 'view', 'viewing', 'virtual', 'virtual_background', 'virtual_meeting', 'virtually', 'visual', 'voice', 'voice_and_video', 'voice_call', 'walk', 'wanted', 'wasn', 'watch', 'web', 'web_based', 'web_browser', 'web_conferencing', 'web_meeting', 'webcam', 'webinar', 'website', 'week', 'weekly', 'whenever', 'wherever', 'whether', 'whiteboard', 'whole', 'widely', 'wifi', 'window', 'wish', 'wonderful', 'word', 'worked', 'worker', 'workflow', 'working', 'working_from_home', 'working_remotely', 'world', 'worry', 'worth', 'year']\n"
     ]
    }
   ],
   "source": [
    "import numpy as np\n",
    "from sklearn.feature_extraction.text import CountVectorizer, TfidfVectorizer\n",
    "#vectorizer = CountVectorizer(ngram_range=(1, 1), max_features=1000)\n",
    "vectorizer = TfidfVectorizer(ngram_range=(1, 3), max_features=1000)\n",
    "X = vectorizer.fit_transform(train_sentences)\n",
    "feature_names = vectorizer.get_feature_names()\n",
    "print(feature_names)"
   ]
  },
  {
   "cell_type": "code",
   "execution_count": 21,
   "metadata": {},
   "outputs": [
    {
     "data": {
      "text/html": [
       "<div>\n",
       "<style scoped>\n",
       "    .dataframe tbody tr th:only-of-type {\n",
       "        vertical-align: middle;\n",
       "    }\n",
       "\n",
       "    .dataframe tbody tr th {\n",
       "        vertical-align: top;\n",
       "    }\n",
       "\n",
       "    .dataframe thead th {\n",
       "        text-align: right;\n",
       "    }\n",
       "</style>\n",
       "<table border=\"1\" class=\"dataframe\">\n",
       "  <thead>\n",
       "    <tr style=\"text-align: right;\">\n",
       "      <th></th>\n",
       "      <th>Piattaforma</th>\n",
       "      <th>Vantaggi</th>\n",
       "      <th>Incovenienti</th>\n",
       "    </tr>\n",
       "  </thead>\n",
       "  <tbody>\n",
       "    <tr>\n",
       "      <th>2</th>\n",
       "      <td>Zoom</td>\n",
       "      <td>it's pretty easy to use and easy to integrate ...</td>\n",
       "      <td>this is a software i use almost daily, so when...</td>\n",
       "    </tr>\n",
       "    <tr>\n",
       "      <th>3</th>\n",
       "      <td>Zoom</td>\n",
       "      <td>in the wake of covid-19, zoom has become synon...</td>\n",
       "      <td>the free version teases just enough functional...</td>\n",
       "    </tr>\n",
       "    <tr>\n",
       "      <th>4</th>\n",
       "      <td>Zoom</td>\n",
       "      <td>of all the video conferencing tools out there ...</td>\n",
       "      <td>if you have any more than say three - max four...</td>\n",
       "    </tr>\n",
       "    <tr>\n",
       "      <th>5</th>\n",
       "      <td>Zoom</td>\n",
       "      <td>flexibility in assigning licenses across users...</td>\n",
       "      <td>i do have concerns with the limited capacity f...</td>\n",
       "    </tr>\n",
       "    <tr>\n",
       "      <th>6</th>\n",
       "      <td>Zoom</td>\n",
       "      <td>zoom is great app for online video conferencin...</td>\n",
       "      <td>for most of the times, i am experiencing the r...</td>\n",
       "    </tr>\n",
       "  </tbody>\n",
       "</table>\n",
       "</div>"
      ],
      "text/plain": [
       "  Piattaforma                                           Vantaggi  \\\n",
       "2        Zoom  it's pretty easy to use and easy to integrate ...   \n",
       "3        Zoom  in the wake of covid-19, zoom has become synon...   \n",
       "4        Zoom  of all the video conferencing tools out there ...   \n",
       "5        Zoom  flexibility in assigning licenses across users...   \n",
       "6        Zoom  zoom is great app for online video conferencin...   \n",
       "\n",
       "                                        Incovenienti  \n",
       "2  this is a software i use almost daily, so when...  \n",
       "3  the free version teases just enough functional...  \n",
       "4  if you have any more than say three - max four...  \n",
       "5  i do have concerns with the limited capacity f...  \n",
       "6  for most of the times, i am experiencing the r...  "
      ]
     },
     "execution_count": 21,
     "metadata": {},
     "output_type": "execute_result"
    }
   ],
   "source": [
    "df_not_na = df_not_na.drop(columns = 'Lang')\n",
    "df_not_na.head()"
   ]
  },
  {
   "cell_type": "code",
   "execution_count": 22,
   "metadata": {},
   "outputs": [
    {
     "data": {
      "text/plain": [
       "2        [pretty_easy, easy_to_integrate, calendar, cal...\n",
       "3        [wake, covid_19, become, synonymous, video_con...\n",
       "4        [video_conferencing, no, shortage, either, pas...\n",
       "5        [flexibility, assigning, license, across, user...\n",
       "6        [app, online_video, conferencing, support_mult...\n",
       "                               ...                        \n",
       "42736                           [felt, quit, unexpectedly]\n",
       "42737                                [wish, people, aware]\n",
       "42738    [weak, feature, no_real, grab, attention, bett...\n",
       "42739                              [high, data, consuming]\n",
       "42740                      [kind, easy, easy, instruction]\n",
       "Name: Vantaggi, Length: 39273, dtype: object"
      ]
     },
     "execution_count": 22,
     "metadata": {},
     "output_type": "execute_result"
    }
   ],
   "source": [
    "df_not_na['Vantaggi'] = train_sentences\n",
    "df_not_na.to_csv('C:/Users/David/Downloads/senteces.csv', index=None)\n",
    "\n",
    "\n",
    "corpus = df_not_na['Vantaggi']\n",
    "corpus = corpus.str.split()\n",
    "corpus = corpus.apply(lambda x: [lemmatizer.lemmatize(item) for item in x if item not in stop])\n",
    "corpus = corpus.apply(lambda x: [item for item in x if not item.isnumeric()])\n",
    "corpus\n"
   ]
  },
  {
   "cell_type": "code",
   "execution_count": 23,
   "metadata": {},
   "outputs": [
    {
     "name": "stdout",
     "output_type": "stream",
     "text": [
      "Most common words in the corpus: [('easy', 9468), ('feature', 3938), ('team', 3894), ('call', 3121), ('people', 2775), ('time', 2702), ('user', 2343), ('chat', 2250), ('help', 2010), ('task', 1932), ('simple', 1906), ('project', 1874), ('product', 1871), ('client', 1865), ('app', 1840), ('screen', 1814), ('option', 1811), ('video', 1582), ('free', 1534), ('access', 1449), ('company', 1426), ('connect', 1380), ('set', 1369), ('quality', 1355), ('application', 1347), ('phone', 1330), ('screen_sharing', 1318), ('share', 1126), ('user_friendly', 1117), ('business', 1089), ('connection', 1082), ('email', 1055), ('communication', 1054), ('office', 1042), ('everyone', 1031), ('useful', 1019), ('person', 998), ('no', 995), ('ability', 985), ('group', 964), ('link', 956), ('sometimes', 956), ('support', 955), ('interface', 944), ('functionality', 938), ('video_call', 902), ('control', 900), ('video_conferencing', 887), ('better', 872), ('remote', 872), ('system', 866), ('easier', 837), ('file', 830), ('participant', 825), ('calendar', 821), ('account', 815), ('always', 814), ('device', 804), ('conference', 804), ('helpful', 804), ('message', 761), ('working', 760), ('audio', 758), ('remotely', 748), ('could', 740), ('presentation', 732), ('give', 731), ('service', 717), ('function', 712), ('conversation', 706), ('communicate', 704), ('home', 701), ('needed', 698), ('team_member', 698), ('available', 696), ('since', 694), ('another', 690), ('integration', 688), ('keep', 683), ('experience', 669), ('especially', 667), ('reliable', 667), ('part', 662), ('colleague', 660), ('liked', 658), ('provides', 657), ('customer', 655), ('online', 655), ('different', 650), ('offer', 645), ('organization', 642), ('join', 636), ('contact', 634), ('sharing', 627), ('microsoft_team', 625), ('conference_call', 621), ('intuitive', 619), ('quickly', 610), ('add', 605), ('desktop', 588)]\n",
      "\n",
      "Number of different words in the corpus: 15979\n"
     ]
    }
   ],
   "source": [
    "from collections import Counter\n",
    "c = Counter()\n",
    "for feature_names in corpus:\n",
    "    c.update(feature_names)   \n",
    "\n",
    "print(f'Most common words in the corpus: {c.most_common(100)}\\n')\n",
    "print(f'Number of different words in the corpus: {len(c)}')"
   ]
  },
  {
   "cell_type": "code",
   "execution_count": 24,
   "metadata": {},
   "outputs": [
    {
     "name": "stdout",
     "output_type": "stream",
     "text": [
      "Most common words in the corpus: [('easy', 9468), ('feature', 3938), ('team', 3894), ('call', 3121), ('people', 2775), ('time', 2702), ('user', 2343), ('chat', 2250), ('help', 2010), ('task', 1932), ('simple', 1906), ('project', 1874), ('product', 1871), ('client', 1865), ('app', 1840), ('screen', 1814), ('option', 1811), ('video', 1582), ('free', 1534), ('access', 1449), ('company', 1426), ('connect', 1380), ('set', 1369), ('quality', 1355), ('application', 1347), ('phone', 1330), ('screen_sharing', 1318), ('share', 1126), ('user_friendly', 1117), ('business', 1089), ('connection', 1082), ('email', 1055), ('communication', 1054), ('office', 1042), ('everyone', 1031), ('useful', 1019), ('person', 998), ('no', 995), ('ability', 985), ('group', 964), ('link', 956), ('sometimes', 956), ('support', 955), ('interface', 944), ('functionality', 938), ('video_call', 902), ('control', 900), ('video_conferencing', 887), ('better', 872), ('remote', 872), ('system', 866), ('easier', 837), ('file', 830), ('participant', 825), ('calendar', 821), ('account', 815), ('always', 814), ('device', 804), ('conference', 804), ('helpful', 804), ('message', 761), ('working', 760), ('audio', 758), ('remotely', 748), ('could', 740), ('presentation', 732), ('give', 731), ('service', 717), ('function', 712), ('conversation', 706), ('communicate', 704), ('home', 701), ('needed', 698), ('team_member', 698), ('available', 696), ('since', 694), ('another', 690), ('integration', 688), ('keep', 683), ('experience', 669), ('especially', 667), ('reliable', 667), ('part', 662), ('colleague', 660), ('liked', 658), ('provides', 657), ('customer', 655), ('online', 655), ('different', 650), ('offer', 645), ('organization', 642), ('join', 636), ('contact', 634), ('sharing', 627), ('microsoft_team', 625), ('conference_call', 621), ('intuitive', 619), ('quickly', 610), ('add', 605), ('desktop', 588)]\n",
      "\n",
      "Number of different words in the corpus: 15979\n"
     ]
    }
   ],
   "source": [
    "print(f'Most common words in the corpus: {c.most_common(100)}\\n')\n",
    "print(f'Number of different words in the corpus: {len(c)}')"
   ]
  },
  {
   "cell_type": "code",
   "execution_count": 25,
   "metadata": {},
   "outputs": [
    {
     "name": "stdout",
     "output_type": "stream",
     "text": [
      "Wall time: 5.06 s\n"
     ]
    }
   ],
   "source": [
    "from gensim.models import Word2Vec\n",
    "\n",
    "#sg: training algorithm. 1 for skipgram, 0 for cbow\n",
    "%time w2v_model = Word2Vec(sg=1, sentences=corpus, size=100, window=5, min_count=5, iter=5)"
   ]
  },
  {
   "cell_type": "code",
   "execution_count": 26,
   "metadata": {},
   "outputs": [
    {
     "name": "stdout",
     "output_type": "stream",
     "text": [
      "Wall time: 23.2 s\n"
     ]
    }
   ],
   "source": [
    "from gensim.models import FastText\n",
    "\n",
    "%time ft_model = FastText(sg=1, sentences=corpus, size=100, window=5, min_count=5, iter=5, min_n=4, max_n=10)\n",
    "# ft_model.build_vocab(sentences=corpus)"
   ]
  },
  {
   "cell_type": "code",
   "execution_count": 27,
   "metadata": {},
   "outputs": [
    {
     "data": {
      "text/plain": [
       "7831"
      ]
     },
     "execution_count": 27,
     "metadata": {},
     "output_type": "execute_result"
    }
   ],
   "source": [
    "len(w2v_model.wv.vocab)"
   ]
  },
  {
   "cell_type": "code",
   "execution_count": 28,
   "metadata": {},
   "outputs": [],
   "source": [
    "from gensim.models import KeyedVectors \n",
    "w2v_model.wv.save_word2vec_format('C:/Users/David/Downloads/word_embeddings/vec_models/w2v_model.bin', binary=True)\n",
    "ft_model.wv.save_word2vec_format('C:/Users/David/Downloads/word_embeddings/vec_models/ft_model.vec', binary=False)"
   ]
  },
  {
   "cell_type": "code",
   "execution_count": 29,
   "metadata": {},
   "outputs": [],
   "source": [
    "#w2v_model.most_similar('zoom', topn= 20)"
   ]
  },
  {
   "cell_type": "code",
   "execution_count": null,
   "metadata": {},
   "outputs": [],
   "source": []
  },
  {
   "cell_type": "code",
   "execution_count": 30,
   "metadata": {},
   "outputs": [
    {
     "name": "stderr",
     "output_type": "stream",
     "text": [
      "<ipython-input-30-736df4f9017f>:1: DeprecationWarning: Call to deprecated `most_similar` (Method will be removed in 4.0.0, use self.wv.most_similar() instead).\n",
      "  ft_model.most_similar('google_meet', topn= 20)\n"
     ]
    },
    {
     "data": {
      "text/plain": [
       "[('meeting_additionally', 0.9818262457847595),\n",
       " ('schedule_and_attend', 0.9718943238258362),\n",
       " ('ease_of_scheduling', 0.9664857387542725),\n",
       " ('meeting_interview', 0.9652355909347534),\n",
       " ('meeting_and_interview', 0.9603243470191956),\n",
       " ('schedule_and_host', 0.9599495530128479),\n",
       " ('meeting_solution', 0.9556226134300232),\n",
       " ('meeting_for_future', 0.9554662108421326),\n",
       " ('meeting_organizer', 0.9550672769546509),\n",
       " ('meeting_in_advance', 0.9533076882362366),\n",
       " ('meeting_for_later', 0.9513531923294067),\n",
       " ('meeting_can_be_scheduled', 0.9504417181015015),\n",
       " ('variety_of_meeting', 0.9499216079711914),\n",
       " ('meeting_a_breeze', 0.9493465423583984),\n",
       " ('meeting_on_the_fly', 0.9486777782440186),\n",
       " ('arranging_meeting', 0.9486727714538574),\n",
       " ('reoccurring_meeting', 0.948113203048706),\n",
       " ('impromptu_meeting', 0.947740375995636),\n",
       " ('meeting_online', 0.9462135434150696),\n",
       " ('meeting_space', 0.945791482925415)]"
      ]
     },
     "execution_count": 30,
     "metadata": {},
     "output_type": "execute_result"
    }
   ],
   "source": [
    "ft_model.most_similar('google_meet', topn= 20)"
   ]
  },
  {
   "cell_type": "code",
   "execution_count": 31,
   "metadata": {},
   "outputs": [
    {
     "name": "stderr",
     "output_type": "stream",
     "text": [
      "<ipython-input-31-2b89f61854f0>:1: DeprecationWarning: Call to deprecated `similarity` (Method will be removed in 4.0.0, use self.wv.similarity() instead).\n",
      "  ft_model.similarity('zoom','google_meet')\n"
     ]
    },
    {
     "data": {
      "text/plain": [
       "0.84044755"
      ]
     },
     "execution_count": 31,
     "metadata": {},
     "output_type": "execute_result"
    }
   ],
   "source": [
    "ft_model.similarity('zoom','google_meet')"
   ]
  },
  {
   "cell_type": "code",
   "execution_count": 32,
   "metadata": {},
   "outputs": [],
   "source": [
    "#w2v_model.similarity('google_meet','zoom')"
   ]
  },
  {
   "cell_type": "code",
   "execution_count": 33,
   "metadata": {},
   "outputs": [
    {
     "name": "stderr",
     "output_type": "stream",
     "text": [
      "<ipython-input-33-d4fc78750a1b>:1: DeprecationWarning: Call to deprecated `most_similar` (Method will be removed in 4.0.0, use self.wv.most_similar() instead).\n",
      "  ft_model.most_similar(\"asana\", topn = 10)\n"
     ]
    },
    {
     "data": {
      "text/plain": [
       "[('first_choice', 0.9899218082427979),\n",
       " ('newbie', 0.9895212650299072),\n",
       " ('first_glance', 0.9886744022369385),\n",
       " ('no_prior', 0.9886044263839722),\n",
       " ('hipaa_compliant', 0.9878133535385132),\n",
       " ('kill', 0.9875349998474121),\n",
       " ('sleek', 0.9873999357223511),\n",
       " ('bulky', 0.9869806170463562),\n",
       " ('hippa_compliant', 0.986887514591217),\n",
       " ('citrix', 0.9864132404327393)]"
      ]
     },
     "execution_count": 33,
     "metadata": {},
     "output_type": "execute_result"
    }
   ],
   "source": [
    "ft_model.most_similar(\"asana\", topn = 10)"
   ]
  },
  {
   "cell_type": "code",
   "execution_count": 34,
   "metadata": {},
   "outputs": [],
   "source": [
    "def restrict_w2v(w2v, restricted_word_set):\n",
    "    w2v.most_similar(list(restricted_word_set)[0]) #to inizialize norms\n",
    "    new_vectors = []\n",
    "    new_vocab = {}\n",
    "    new_index2entity = []\n",
    "    new_vectors_norm = []\n",
    "\n",
    "    for i in range(len(w2v.vocab)):\n",
    "        word = w2v.index2entity[i]\n",
    "        vec = w2v.vectors[i]\n",
    "        vocab = w2v.vocab[word]\n",
    "        vec_norm = w2v.vectors_norm[i]\n",
    "        if word in restricted_word_set:\n",
    "            vocab.index = len(new_index2entity)\n",
    "            new_index2entity.append(word)\n",
    "            new_vocab[word] = vocab\n",
    "            new_vectors.append(vec)\n",
    "            new_vectors_norm.append(vec_norm)\n",
    "\n",
    "    w2v.vocab = new_vocab\n",
    "    w2v.vectors = np.array(new_vectors)\n",
    "    w2v.index2entity = np.array(new_index2entity)\n",
    "    w2v.index2word = np.array(new_index2entity)\n",
    "    w2v.vectors_norm = np.array(new_vectors_norm)"
   ]
  },
  {
   "cell_type": "code",
   "execution_count": 35,
   "metadata": {},
   "outputs": [
    {
     "name": "stdout",
     "output_type": "stream",
     "text": [
      "['easy', 'feature', 'team', 'call', 'people', 'time', 'user', 'chat', 'help', 'task', 'simple', 'project', 'product', 'client', 'app', 'screen', 'option', 'video', 'free', 'access', 'company', 'connect', 'set', 'quality', 'application', 'phone', 'screen_sharing', 'share', 'user_friendly', 'business', 'connection', 'email', 'communication', 'office', 'everyone', 'useful', 'person', 'no', 'ability', 'group', 'link', 'sometimes', 'support', 'interface', 'functionality', 'video_call', 'control', 'video_conferencing', 'better', 'remote', 'system', 'easier', 'file', 'participant', 'calendar', 'account', 'always', 'device', 'conference', 'helpful', 'message', 'working', 'audio', 'remotely', 'could', 'presentation', 'give', 'service', 'function', 'conversation', 'communicate', 'home', 'needed', 'team_member', 'available', 'since', 'another', 'integration', 'keep', 'experience', 'especially', 'reliable', 'part', 'colleague', 'liked', 'provides', 'customer', 'online', 'different', 'offer', 'organization', 'join', 'contact', 'sharing', 'microsoft_team', 'conference_call', 'intuitive', 'quickly', 'add', 'desktop', 'know', 'video_chat', 'collaboration', 'anyone', 'made', 'easy_to_set', 'employee', 'gmail', 'convenient', 'place', 'video_conference', 'take', 'setting', 'training', 'member', 'view', 'friend', 'quick', 'solution', 'setup', 'multiple', 'come', 'session', 'information', 'together', 'document', 'screen_share', 'recording', 'download', 'host', 'job', 'fast', 'something', 're', 'm', 'student', 'clear', 'send', 'install', 'right', 'apps', 'show', 'feel', 'allow', 'connected', 'super_easy', 'online_meeting', 'room', 'pretty', 'little', 'create', 'start', 'free_version', 'day', 'new', 'manage', 'cisco', 'amazing', 'seems', 'often', 'update', 'overall', 'number', 'personal', 'list', 'share_screen', 'video_quality', 'log', 'outlook', 'invite', 'talk', 'click', 'webinar', 'laptop', 'multiple_people', 'first', 'important', 'let', 'user_interface', 'audio_and_video', 'attendee', 'started', 'track', 'run', 'look', 'record', 'process', 'integrated', 'capability', 'anywhere', 'schedule', 'conferencing', 'via', 'notification', 'awesome', 'mobile', 'virtual_meeting', 'real_time', 'project_management', 'coworkers']\n"
     ]
    },
    {
     "name": "stderr",
     "output_type": "stream",
     "text": [
      "<ipython-input-35-a5ade420b7b8>:9: DeprecationWarning: Call to deprecated `wv` (Attribute will be removed in 4.0.0, use self instead).\n",
      "  top100 = w2v_model.wv.index2entity[:200]\n"
     ]
    }
   ],
   "source": [
    "from gensim.models import KeyedVectors\n",
    "w2v_model = KeyedVectors.load_word2vec_format('C:/Users/David/Downloads/word_embeddings/vec_models/ft_model.vec', binary=False)\n",
    "# top 100 words\n",
    "\n",
    "#stop = stopwords.words('english')\n",
    "#stop.extend(['good', 'bad', 'dont', 'many', 'love', 'excellent', 'would', 'perfect', 'even', 'great','a','for'])\n",
    "\n",
    "\n",
    "top100 = w2v_model.wv.index2entity[:200]\n",
    "print(top100)"
   ]
  },
  {
   "cell_type": "code",
   "execution_count": 36,
   "metadata": {},
   "outputs": [],
   "source": [
    "df_not_na.head()\n",
    "\n",
    "wn_plot=df_not_na"
   ]
  },
  {
   "cell_type": "code",
   "execution_count": 37,
   "metadata": {},
   "outputs": [],
   "source": [
    "import matplotlib\n",
    "from matplotlib.pyplot import cm\n",
    "\n",
    "cat_unique = list(wn_plot.Piattaforma.unique())\n",
    "n_cat = len(cat_unique)\n",
    "\n",
    "markers = [ \"o\" ,\"v\" , \"p\" , \"d\" , \"h\" , \"s\" , \"8\" , \"|\" , \"1\" , \"P\" , \"*\" , \">\" ,\n",
    "           \"3\" , \"H\" , \"<\" , \"^\" , \"X\" , \"D\" , \"2\" , \"4\" , \"_\"]\n",
    "markers = markers[:n_cat-1]\n",
    "    \n",
    "colors = list(matplotlib.colors.cnames.keys())\n",
    "colors=cm.rainbow(np.linspace(0,1,n_cat))"
   ]
  },
  {
   "cell_type": "code",
   "execution_count": 38,
   "metadata": {},
   "outputs": [
    {
     "name": "stderr",
     "output_type": "stream",
     "text": [
      "<ipython-input-38-1f57cbe34fe9>:14: DeprecationWarning: Call to deprecated `wv` (Attribute will be removed in 4.0.0, use self instead).\n",
      "  X = model[model.wv.vocab]\n",
      "<ipython-input-38-1f57cbe34fe9>:17: DeprecationWarning: Call to deprecated `wv` (Attribute will be removed in 4.0.0, use self instead).\n",
      "  X = model[model.wv.vocab]\n",
      "C:\\Users\\David\\Anaconda3\\lib\\site-packages\\umap\\umap_.py:1158: RuntimeWarning: divide by zero encountered in power\n",
      "  return 1.0 / (1.0 + a * x ** (2 * b))\n",
      "C:\\Users\\David\\Anaconda3\\lib\\site-packages\\umap\\umap_.py:1678: UserWarning: n_neighbors is larger than the dataset size; truncating to X.shape[0] - 1\n",
      "  warn(\n",
      "<ipython-input-38-1f57cbe34fe9>:21: DeprecationWarning: Call to deprecated `wv` (Attribute will be removed in 4.0.0, use self instead).\n",
      "  df['token'] = model.wv.vocab\n"
     ]
    },
    {
     "data": {
      "text/html": [
       "<div>\n",
       "<style scoped>\n",
       "    .dataframe tbody tr th:only-of-type {\n",
       "        vertical-align: middle;\n",
       "    }\n",
       "\n",
       "    .dataframe tbody tr th {\n",
       "        vertical-align: top;\n",
       "    }\n",
       "\n",
       "    .dataframe thead th {\n",
       "        text-align: right;\n",
       "    }\n",
       "</style>\n",
       "<table border=\"1\" class=\"dataframe\">\n",
       "  <thead>\n",
       "    <tr style=\"text-align: right;\">\n",
       "      <th></th>\n",
       "      <th>x</th>\n",
       "      <th>y</th>\n",
       "      <th>token</th>\n",
       "    </tr>\n",
       "  </thead>\n",
       "  <tbody>\n",
       "    <tr>\n",
       "      <th>0</th>\n",
       "      <td>6.413676</td>\n",
       "      <td>10.356829</td>\n",
       "      <td>easy</td>\n",
       "    </tr>\n",
       "    <tr>\n",
       "      <th>1</th>\n",
       "      <td>5.272481</td>\n",
       "      <td>-4.706383</td>\n",
       "      <td>feature</td>\n",
       "    </tr>\n",
       "    <tr>\n",
       "      <th>2</th>\n",
       "      <td>-3.712662</td>\n",
       "      <td>3.038620</td>\n",
       "      <td>team</td>\n",
       "    </tr>\n",
       "    <tr>\n",
       "      <th>3</th>\n",
       "      <td>12.759427</td>\n",
       "      <td>-3.673624</td>\n",
       "      <td>call</td>\n",
       "    </tr>\n",
       "    <tr>\n",
       "      <th>4</th>\n",
       "      <td>5.471996</td>\n",
       "      <td>5.017941</td>\n",
       "      <td>people</td>\n",
       "    </tr>\n",
       "    <tr>\n",
       "      <th>...</th>\n",
       "      <td>...</td>\n",
       "      <td>...</td>\n",
       "      <td>...</td>\n",
       "    </tr>\n",
       "    <tr>\n",
       "      <th>195</th>\n",
       "      <td>12.355553</td>\n",
       "      <td>5.185615</td>\n",
       "      <td>mobile</td>\n",
       "    </tr>\n",
       "    <tr>\n",
       "      <th>196</th>\n",
       "      <td>9.924451</td>\n",
       "      <td>-2.876304</td>\n",
       "      <td>virtual_meeting</td>\n",
       "    </tr>\n",
       "    <tr>\n",
       "      <th>197</th>\n",
       "      <td>4.669623</td>\n",
       "      <td>2.906241</td>\n",
       "      <td>real_time</td>\n",
       "    </tr>\n",
       "    <tr>\n",
       "      <th>198</th>\n",
       "      <td>-3.407575</td>\n",
       "      <td>0.613760</td>\n",
       "      <td>project_management</td>\n",
       "    </tr>\n",
       "    <tr>\n",
       "      <th>199</th>\n",
       "      <td>1.339798</td>\n",
       "      <td>7.843705</td>\n",
       "      <td>coworkers</td>\n",
       "    </tr>\n",
       "  </tbody>\n",
       "</table>\n",
       "<p>200 rows × 3 columns</p>\n",
       "</div>"
      ],
      "text/plain": [
       "             x          y               token\n",
       "0     6.413676  10.356829                easy\n",
       "1     5.272481  -4.706383             feature\n",
       "2    -3.712662   3.038620                team\n",
       "3    12.759427  -3.673624                call\n",
       "4     5.471996   5.017941              people\n",
       "..         ...        ...                 ...\n",
       "195  12.355553   5.185615              mobile\n",
       "196   9.924451  -2.876304     virtual_meeting\n",
       "197   4.669623   2.906241           real_time\n",
       "198  -3.407575   0.613760  project_management\n",
       "199   1.339798   7.843705           coworkers\n",
       "\n",
       "[200 rows x 3 columns]"
      ]
     },
     "execution_count": 38,
     "metadata": {},
     "output_type": "execute_result"
    }
   ],
   "source": [
    "#!pip install adjustText\n",
    "import numpy as np\n",
    "import matplotlib.pyplot as plt\n",
    "import matplotlib\n",
    "import random\n",
    "from adjustText import adjust_text\n",
    "random.seed(42)\n",
    "plt.rcParams['figure.figsize'] = 25, 12\n",
    "\n",
    "import umap\n",
    "def train_umap(model):\n",
    "    random.seed(42)\n",
    "    np.random.seed(42)\n",
    "    X = model[model.wv.vocab]\n",
    "    reducer = umap.UMAP(n_neighbors=2000, metric = 'cosine', learning_rate=0.01,#0.01\n",
    "                        n_epochs=2000, spread=5, min_dist=0.5, random_state=42)#min_dist=0.5\n",
    "    X = model[model.wv.vocab]\n",
    "    embedding = reducer.fit_transform(X)\n",
    "\n",
    "    df = pd.DataFrame(embedding)\n",
    "    df['token'] = model.wv.vocab\n",
    "    df.columns  = ['x', 'y', 'token']\n",
    "    return df\n",
    "\n",
    "word_set = {w for w in top100 if w in w2v_model.vocab}\n",
    "restrict_w2v(w2v_model, word_set)\n",
    "wn_umap = train_umap(w2v_model)\n",
    "wn_umap"
   ]
  },
  {
   "cell_type": "code",
   "execution_count": null,
   "metadata": {},
   "outputs": [],
   "source": []
  },
  {
   "cell_type": "code",
   "execution_count": null,
   "metadata": {},
   "outputs": [],
   "source": []
  },
  {
   "cell_type": "code",
   "execution_count": 39,
   "metadata": {},
   "outputs": [
    {
     "data": {
      "text/plain": [
       "17"
      ]
     },
     "execution_count": 39,
     "metadata": {},
     "output_type": "execute_result"
    },
    {
     "data": {
      "image/png": "[encoded data removed]",
      "text/plain": [
       "<Figure size 1800x864 with 1 Axes>"
      ]
     },
     "metadata": {
      "needs_background": "light"
     },
     "output_type": "display_data"
    }
   ],
   "source": [
    "\n",
    "\n",
    "from adjustText import adjust_text\n",
    "text = []\n",
    "\n",
    "for cat, color, marker in zip(cat_unique, colors, markers):\n",
    "    keys = wn_plot['Vantaggi'][wn_plot['Piattaforma'] == cat].values\n",
    "    df_reduced = wn_umap[wn_umap['token'].isin(keys)]\n",
    "    if not df_reduced.empty:\n",
    "        i = 0\n",
    "\n",
    "\n",
    "        for index,row in df_reduced.iterrows():\n",
    "            i+=1\n",
    "            plt.scatter(row['x'], row['y'], c=np.array([color]), alpha=0.6, marker=marker, s=100, edgecolors='black',label=cat if i == 1 else \"\")\n",
    "            text.append(plt.annotate(row['token'], alpha=0.5, xy=(row['x'], row['y']), ha='right', va='bottom', size=14))\n",
    "    \n",
    "plt.legend(fontsize=15, loc='best')\n",
    "\n",
    "plt.title('Meeting tools vantaggi')\n",
    "\n",
    "\n",
    "test_Umap=adjust_text(text)\n",
    "test_Umap\n"
   ]
  },
  {
   "cell_type": "code",
   "execution_count": 40,
   "metadata": {},
   "outputs": [
    {
     "data": {
      "text/plain": [
       "\"i do have concerns with the limited capacity for multiple users to have control over meeting/webinar settings. you have to be at an administrator level to make changes in someone else's webinar settings for example. it would be nice if your co hosts had access to any webinar they where invited into(with restrictions). we also get occasional confusion around the invitation links for panelists vs attendees vs co hosts. as the organizer yo do not have access to the text of the email they received on your behalf so troubleshooting can be tricky.\""
      ]
     },
     "execution_count": 40,
     "metadata": {},
     "output_type": "execute_result"
    }
   ],
   "source": [
    "df_not_na = df_01[~(df_01['Vantaggi'].isna()) & ~(df_01['Incovenienti'].isna())]\n",
    "text_02 = df_not_na['Incovenienti']\n",
    "#y = df_not_na['bin_y'].tolist()\n",
    "text_02[5]"
   ]
  },
  {
   "cell_type": "code",
   "execution_count": 41,
   "metadata": {},
   "outputs": [
    {
     "name": "stdout",
     "output_type": "stream",
     "text": [
      "['i', 'do', 'have', 'concern', 'with', 'the', 'limited', 'capacity', 'for', 'multiple', 'user', 'to', 'have', 'control', 'over', 'meeting', 'webinar', 'setting', 'you', 'have', 'to', 'be', 'at', 'an', 'administrator', 'level', 'to', 'make', 'change', 'in', 'someone', 'else', 's', 'webinar', 'setting', 'for', 'example', 'it', 'would', 'be', 'nice', 'if', 'your', 'co', 'host', 'had', 'access', 'to', 'any', 'webinar', 'they', 'where', 'invited', 'into', 'with', 'restriction', 'we', 'also', 'get', 'occasional', 'confusion', 'around', 'the', 'invitation', 'link', 'for', 'panelist', 'v', 'attendee', 'v', 'co', 'host', 'a', 'the', 'organizer', 'yo', 'do', 'not', 'have', 'access', 'to', 'the', 'text', 'of', 'the', 'email', 'they', 'received', 'on', 'your', 'behalf', 'so', 'troubleshooting', 'can', 'be', 'tricky']\n"
     ]
    }
   ],
   "source": [
    "from tqdm import tqdm\n",
    "from nltk.stem import WordNetLemmatizer\n",
    "\n",
    "#nltk.download()\n",
    "\n",
    "lemmatizer = WordNetLemmatizer()\n",
    "\n",
    "text1 = text_02.str.lower().str.replace('[^\\w\\s]',' ')\n",
    "text1 = text1.str.split()\n",
    "# text = text.apply(lambda x: [lemmatizer.lemmatize(word) for sentence in x for word in sentence])\n",
    "text1 = text1.apply(lambda x: [lemmatizer.lemmatize(sent) for sent in x])\n",
    "print(text1[5])"
   ]
  },
  {
   "cell_type": "code",
   "execution_count": 42,
   "metadata": {},
   "outputs": [
    {
     "name": "stdout",
     "output_type": "stream",
     "text": [
      "['i', 'do', 'have', 'concern', 'with', 'the', 'limited', 'capacity', 'for', 'multiple_user', 'to', 'have', 'control', 'over', 'meeting', 'webinar', 'setting', 'you', 'have', 'to', 'be', 'at', 'an', 'administrator', 'level', 'to', 'make', 'change', 'in', 'someone_else', 's', 'webinar', 'setting', 'for', 'example', 'it', 'would', 'be', 'nice', 'if', 'your', 'co_host', 'had', 'access', 'to', 'any', 'webinar', 'they', 'where', 'invited', 'into', 'with', 'restriction', 'we', 'also', 'get', 'occasional', 'confusion', 'around', 'the', 'invitation', 'link', 'for', 'panelist', 'v', 'attendee', 'v', 'co_host', 'a', 'the', 'organizer', 'yo', 'do', 'not', 'have', 'access', 'to', 'the', 'text', 'of', 'the', 'email', 'they', 'received', 'on', 'your', 'behalf', 'so', 'troubleshooting', 'can', 'be', 'tricky']\n"
     ]
    }
   ],
   "source": [
    "from gensim.models.phrases import Phrases\n",
    "from nltk.corpus import stopwords\n",
    "stop_words = pd.read_csv('C:/Users/David/Downloads/stop_list.txt', sep=\" \", header=None)\n",
    "stop = stop_words[0].tolist()\n",
    "\n",
    "\n",
    "#stop = stopwords.words('english')\n",
    "stop.extend(['good', 'bad', 'dont','don', 'many', 'love', 'excellent','to', 'would', 'perfect', 'even', 'great','a','for','go', 'ha','wa', 'withouth', 'u', 'etc','asana',\n",
    "               'google_meet',\n",
    "               'go_to_meeting',\n",
    "               'zoom',\n",
    "               'teamviewer',\n",
    "               'webex',\n",
    "               'microsoft_teams','google_hangout','google','hangout','like','others','get','need','one','also','lot','thing','for','more','with'])\n",
    "\n",
    "\n",
    "\n",
    "\n",
    "bigram1 = Phrases(text1, min_count=5, threshold=0.5, common_terms=stop)\n",
    "print(bigram1[text1[5]])\n"
   ]
  },
  {
   "cell_type": "code",
   "execution_count": 43,
   "metadata": {},
   "outputs": [
    {
     "name": "stdout",
     "output_type": "stream",
     "text": [
      "['the', 'meeting', 'interface', 'is', 'kind', 'of', 'old', 'ish', 'lag', 'quite', 'a', 'lot', 'sometimes_disconnect', 'and', 'reconnects', 'again', 'and', 'agin', 'on', 'weak', 'network', 'it', 'doesn', 't', 'have', 'advanced_feature', 'like', 'auto', 'connecting', 'to', 'meeting', 'according', 'to', 'the', 'schedule']\n"
     ]
    }
   ],
   "source": [
    "bigrams1 = [bigram1[item] for item in text1]\n",
    "ngrams1 = [bigram1[item] for item in bigrams1]\n",
    "print(ngrams1[5])"
   ]
  },
  {
   "cell_type": "code",
   "execution_count": 92,
   "metadata": {},
   "outputs": [
    {
     "name": "stdout",
     "output_type": "stream",
     "text": [
      "['this', 'is', 'a', 'software', 'i', 'use', 'almost_daily', 'so', 'when', 'i', 'moved', 'from', 'window', 'to', 'ubuntu', 'linux', 'i', 'figured', 'out', 'i', 'could', 'use', 'zoom', 'for', 'linux', 'the', 'linux', 'version', 'definitely', 'need', 'polishing', 'in', 'the', 'user_experience', 'to', 'get', 'up', 'to', 'speed', 'to', 'the', 'window', 'version', 'a', 'some', 'meeting', 'control', 'get', 'in', 'the', 'way', 'when', 'working', 'with', 'customer', 'for', 'this', 'software', 'and', 'another', 'unrelated', 'one', 'i', 'had', 'to', 'switch_back', 'to', 'window', 'because', 'definitely', 'it', 'wa', 'getting', 'in', 'the', 'way', 'on', 'my', 'productivity', 'guilty', 'of', 'bad', 'ux', 'in', 'linux', 'additionally', 'saving', 'the', 'meeting_recording', 'to', 'cloud', 'and', 'then', 'sharing', 'sometimes', 'work', 'weird', 'or', 'in', 'a', 'counterintuitive', 'way', 'i', 'solved', 'this', 'by', 'saving', 'the', 'recording', 'in', 'the', 'computer', 'and', 'then', 'uploading', 'to', 'google', 'drive', 'and', 'sharing', 'it', 'that', 'way']\n"
     ]
    },
    {
     "data": {
      "text/plain": [
       "'almost_daily moved window ubuntu linux figured could linux linux version definitely polishing user_experience speed window version control working customer another unrelated switch_back window definitely productivity guilty ux linux additionally saving meeting_recording cloud sharing weird counterintuitive solved saving recording uploading drive sharing'"
      ]
     },
     "execution_count": 92,
     "metadata": {},
     "output_type": "execute_result"
    }
   ],
   "source": [
    "from nltk.corpus import stopwords\n",
    "#stop = stopwords.words('english')\n",
    "stop = stop_words[0].tolist()\n",
    "\n",
    "stop.extend(['good', 'bad', 'dont', 'many', 'love', 'excellent', 'would', 'perfect', 'even', 'great','a','for','go', 'ha','wa', 'withouth', 'u', 'etc','asana',\n",
    "               'google_meet',\n",
    "               'go_to_meeting',\n",
    "               'zoom',\n",
    "               'teamviewer',\n",
    "               'webex',\n",
    "               'microsoft_teams','google_hangout','found','pretty','add','user_friendly','aren','however','otherwise','simple','still','always','usually','keep','d','sometime','learning_curve','something','con','complaint','useful','comepared','haven','wasn','around','honestly','little','example','product','right','actually','every','enough','year','microsoft_team','seems','least','no_complaint','point','no_con','find','easy','easier','getting','overall','know','though','m','re','doesen','say','better','not','no','think','sometimes','everything','use','program','platform','meeting','google','to','hangout','web_ex','don','like','others','get','need','one','also','lot','thing','for','more','with'])\n",
    "print(ngrams1[0])\n",
    "train_sentences1 = []\n",
    "for row in ngrams1:\n",
    "    train_sentences1.append(' '.join([item for item in row if item not in stop]))\n",
    "#train_sentences = [' '.join(item) for item in ngrams]\n",
    "train_sentences1[0]"
   ]
  },
  {
   "cell_type": "code",
   "execution_count": 93,
   "metadata": {},
   "outputs": [
    {
     "name": "stdout",
     "output_type": "stream",
     "text": [
      "['10', '100', '40_minute', 'ability', 'able', 'absolutely', 'access', 'accessing', 'account', 'across', 'active', 'activity', 'actual', 'added', 'adding', 'addition', 'additional', 'adjust', 'admin', 'administrator', 'advanced', 'advanced_feature', 'affect', 'alert', 'allow', 'allowed', 'allowing', 'almost', 'alot', 'already', 'alternative', 'although', 'amazing', 'amount', 'android', 'annoying', 'another', 'answer', 'anyone', 'apart', 'app', 'appear', 'appears', 'application', 'apps', 'area', 'ask', 'aspect', 'assign', 'assigned', 'attachment', 'attend', 'attendee', 'attractive', 'audio', 'audio_and_video', 'audio_issue', 'audio_quality', 'auto', 'automatically', 'available', 'aware', 'away', 'awesome', 'back', 'background', 'background_noise', 'bandwidth', 'bar', 'based', 'basic', 'become', 'becomes', 'beginning', 'behind', 'believe', 'benefit', 'besides', 'big', 'bigger', 'biggest', 'block', 'board', 'box', 'break', 'browser', 'bug', 'buggy', 'built', 'business', 'busy', 'button', 'buy', 'calendar', 'call', 'call_quality', 'calling', 'came', 'camera', 'cannot', 'capability', 'case', 'cause', 'caused', 'cell_phone', 'certain', 'challenge', 'challenging', 'change', 'changed', 'changing', 'channel', 'charge', 'chat', 'chat_feature', 'chatting', 'cheaper', 'check', 'choice', 'choose', 'choppy', 'chrome', 'cisco', 'class', 'clear', 'click', 'clicking', 'client', 'close', 'clunky', 'code', 'collaboration', 'colleague', 'color', 'come', 'coming', 'comment', 'commercial', 'common', 'communicate', 'communication', 'company', 'compare', 'compared', 'competition', 'competitive', 'competitor', 'complain', 'complete', 'completed', 'completely', 'complex', 'complicated', 'concern', 'conference', 'conference_call', 'conferencing', 'configuration', 'confused', 'confusing', 'confusion', 'connect', 'connected', 'connecting', 'connection', 'connection_issue', 'connectivity', 'connectivity_issue', 'consider', 'considering', 'constant', 'constantly', 'consumes', 'contact', 'content', 'continue', 'control', 'convenient', 'conversation', 'cool', 'copy', 'correct', 'correctly', 'cost', 'costly', 'could', 'could_be_a_little', 'could_be_better', 'could_be_improved', 'could_not', 'couldn', 'country', 'couple', 'course', 'coworkers', 'crash', 'create', 'created', 'creates', 'creating', 'cumbersome', 'current', 'currently', 'curve', 'customer', 'customer_service', 'customer_support', 'customization', 'customize', 'cut', 'daily', 'dashboard', 'data', 'date', 'day', 'deal', 'default', 'definitely', 'delay', 'delayed', 'delete', 'department', 'depending', 'depends', 'design', 'designed', 'desktop', 'desktop_app', 'desktop_version', 'despite', 'detail', 'device', 'dial', 'difference', 'different', 'difficult', 'difficult_to_find', 'difficulty', 'direct', 'directly', 'disadvantage', 'disconnect', 'disconnected', 'disliked', 'display', 'distracting', 'document', 'download', 'downloaded', 'downloading', 'downside', 'drawback', 'drive', 'drop', 'dropped', 'e_g', 'ease', 'easily', 'echo', 'edit', 'effective', 'efficient', 'either', 'else', 'email', 'emojis', 'employee', 'encountered', 'end', 'end_user', 'ended', 'enjoy', 'ensure', 'enter', 'entering', 'enterprise', 'entire', 'environment', 'error', 'especially', 'event', 'eventually', 'ever', 'every_time', 'everyone', 'exactly', 'except', 'expect', 'expected', 'expensive', 'experience', 'experienced', 'extension', 'external', 'extra', 'extremely', 'face', 'faced', 'facetime', 'factor', 'fails', 'fairly', 'familiar', 'fast', 'faster', 'fault', 'feature', 'feedback', 'feel', 'felt', 'field', 'figure', 'figured', 'figuring', 'file', 'file_sharing', 'file_transfer', 'finding', 'fine', 'first', 'first_time', 'first_time user', 'fix', 'fixed', 'flaw', 'folder', 'folk', 'follow', 'force', 'format', 'free', 'free_trial', 'free_version', 'freeze', 'frequent', 'frequently', 'friend', 'friendly', 'frustrating', 'full', 'full_screen', 'fully', 'fun', 'function', 'functional', 'functionality', 'future', 'general', 'generally', 'give', 'given', 'giving', 'glitch', 'glitchy', 'gmail', 'gmail_account', 'graphic', 'group', 'group_chat', 'gtm', 'guess', 'guest', 'hand', 'handle', 'hang', 'happen', 'happened', 'happening', 'happens', 'happy', 'hard', 'hard_time', 'hard_to_find', 'harder', 'hasn', 'hassle', 'hate', 'haven_t_found', 'hear', 'heard', 'heavy', 'help', 'helpful', 'hidden', 'hide', 'high', 'high_speed', 'higher', 'highly_recommend', 'history', 'hold', 'home', 'honest', 'hope', 'host', 'hosting', 'hour', 'huge', 'icon', 'id', 'image', 'immediately', 'implement', 'important', 'improve', 'improved', 'improvement', 'inability', 'inbox', 'include', 'included', 'including', 'increase', 'individual', 'info', 'information', 'initial', 'initially', 'inside', 'install', 'installation', 'installed', 'instance', 'instead', 'instruction', 'integrate', 'integrated', 'integration', 'interface', 'internal', 'internet', 'internet_connection', 'internet_speed', 'intuitive', 'invitation', 'invite', 'invited', 'involved', 'iphone', 'issue', 'item', 'job', 'join', 'join_a_meeting', 'join_the_meeting', 'joining', 'jump', 'kept', 'key', 'kind', 'knowledge', 'known', 'lack', 'lacking', 'lag', 'lagging', 'laggy', 'laptop', 'large', 'large_group', 'larger', 'last', 'late', 'later', 'launch', 'layout', 'le', 'lead', 'learn', 'learning', 'least_favorite', 'leave', 'left', 'let', 'level', 'license', 'life', 'liked', 'liked_least', 'likely', 'limit', 'limitation', 'limited', 'limited_feature', 'line', 'link', 'linux', 'list', 'little_confusing', 'little_difficult', 'little_hard', 'little_slow', 'live', 'll', 'load', 'loading', 'location', 'log', 'logged', 'logging', 'login', 'long', 'long_time', 'longer', 'look', 'looking', 'lose', 'lost', 'low', 'm_not', 'm_not sure', 'mac', 'machine', 'made', 'main', 'mainly', 'major', 'major_issue', 'making', 'manage', 'management', 'managing', 'manually', 'market', 'mean', 'medium', 'meeting_room', 'member', 'memory', 'mention', 'menu', 'message', 'messaging', 'messenger', 'method', 'mic', 'microphone', 'microsoft', 'middle', 'mind', 'minor', 'minute', 'miss', 'missed', 'missing', 'mobile', 'mobile_app', 'mobile_device', 'mobile_version', 'mode', 'modern', 'moment', 'money', 'monitor', 'month', 'mostly', 'mouse', 'move', 'moving', 'multiple', 'multiple_people', 'multiple_time', 'multiple_user', 'must', 'mute', 'muted', 'muting', 'name', 'navigate', 'navigation', 'necessary', 'needed', 'negative', 'negative_to_say', 'network', 'new', 'new_feature', 'new_user', 'next', 'no_issue', 'no_negative', 'no_option', 'no_problem', 'no_real', 'noise', 'non', 'none', 'not_a_big', 'not_a_easy', 'not_able', 'not_allow', 'not_always', 'not_available', 'not_being_able', 'not_easy', 'not_everyone', 'not_find', 'not_found', 'not_intuitive', 'not_know', 'not_possible', 'not_sure', 'not_working', 'note', 'notice', 'noticed', 'notification', 'number', 'obvious', 'occasion', 'occasional', 'occasionally', 'occur', 'offer', 'offered', 'offering', 'office', 'offline', 'often', 'ok', 'old', 'older', 'online', 'online_meeting', 'onto', 'open', 'opinion', 'option', 'order', 'organization', 'organize', 'organized', 'outdated', 'outlook', 'outside', 'overwhelming', 'package', 'page', 'paid', 'paid_version', 'pain', 'part', 'participant', 'particular', 'particularly', 'party', 'password', 'past', 'pay', 'paying', 'people', 'per', 'perfectly', 'performance', 'perhaps', 'permission', 'person', 'personal', 'personally', 'phone', 'phone_call', 'phone_number', 'photo', 'pick', 'picture', 'piece', 'pin', 'place', 'plan', 'play', 'plug', 'plugin', 'plus', 'poor', 'pop', 'popular', 'possibility', 'possible', 'post', 'prefer', 'premium', 'present', 'presentation', 'presenter', 'presenting', 'previous', 'price', 'pricey', 'pricing', 'prior', 'privacy', 'private', 'pro', 'probably', 'problem', 'problematic', 'process', 'professional', 'progress', 'project', 'project_management', 'properly', 'provide', 'provided', 'provides', 'purchase', 'purpose', 'quality', 'quality_of_the_video', 'question', 'quick', 'quickly', 'random', 'randomly', 'rare', 'rarely', 'read', 'real', 'reason', 'receive', 'received', 'recent', 'recently', 'recommend', 'reconnect', 'record', 'recorded', 'recording', 'regarding', 'regularly', 'related', 'reliable', 'remember', 'reminder', 'remote', 'remote_access', 'remote_control', 'remotely', 'remove', 'reply', 'report', 'reporting', 'request', 'require', 'required', 'requirement', 'requires', 'resolved', 'resource', 'response', 'rest', 'restart', 'restriction', 'result', 'review', 'robust', 'room', 'run', 'running', 'said', 'satisfied', 'save', 'saved', 'saying', 'scammer', 'schedule', 'scheduled', 'scheduling', 'school', 'screen', 'screen_share', 'screen_sharing', 'scroll', 'seamless', 'search', 'searching', 'second', 'section', 'secure', 'security', 'security_issue', 'seeing', 'seem', 'seemed', 'seen', 'select', 'send', 'sending', 'sense', 'sent', 'separate', 'server', 'service', 'session', 'set', 'setting', 'setup', 'several', 'share', 'share_screen', 'shared', 'sharing', 'sharing_screen', 'short', 'show', 'showing', 'side', 'sign', 'signal', 'similar', 'simply', 'since', 'single', 'site', 'situation', 'size', 'slack', 'slightly', 'slow', 'slow_internet', 'slower', 'slows', 'small', 'small_business', 'smaller', 'smooth', 'smoothly', 'solution', 'somehow', 'someone', 'someone_else', 'sometimes_it_take', 'sometimes_the_audio', 'sometimes_the_connection', 'sometimes_the_video', 'somewhat', 'soon', 'sort', 'sound', 'sound_quality', 'space', 'speak', 'speaker', 'speaking', 'specific', 'specifically', 'speed', 'spend', 'spotty', 'stable', 'staff', 'standard', 'start', 'started', 'starting', 'status', 'stay', 'step', 'stop', 'strong', 'strong_internet', 'structure', 'struggle', 'stuck', 'student', 'stuff', 'sub_task', 'subscription', 'subtasks', 'suggest', 'super', 'support', 'supposed', 'sure', 'switch', 'switching', 'sync', 'system', 'tab', 'take', 'take time', 'take_a_little', 'take_some_time', 'take_time', 'taken', 'taking', 'talk', 'talking', 'task', 'team', 'team_member', 'technical', 'technical_issue', 'technology', 'tell', 'template', 'tend', 'tends', 'term', 'terrible', 'test', 'text', 'therefore', 'third_party', 'thought', 'thread', 'thus', 'time', 'time_consuming', 'time_limit', 'time_to_time', 'timeline', 'together', 'ton', 'took', 'top', 'tough', 'track', 'training', 'transfer', 'tricky', 'tried', 'trouble', 'truly', 'try', 'trying', 'turn', 'tutorial', 'twice', 'type', 'typically', 'unable', 'understand', 'unfortunately', 'unless', 'unlike', 'unstable', 'update', 'updated', 'updating', 'upgrade', 'upload', 'upon', 'usage', 'user', 'user_error', 'user_experience', 'user_interface', 'utilize', 'ux', 'value', 'various', 'version', 'via', 'video', 'video_and_audio', 'video_call', 'video_calling', 'video_chat', 'video_conference', 'video_conferencing', 'video_quality', 'view', 'viewing', 'virtual_background', 'virtual_meeting', 'visible', 'visual', 'voice', 'volume', 'wait', 'waiting', 'wanted', 'web', 'web_browser', 'web_version', 'webcam', 'webinar', 'website', 'week', 'weird', 'went', 'whatsapp', 'whenever', 'whether', 'whole', 'wifi', 'window', 'wish', 'wish_i_could', 'wish_you_could', 'won', 'word', 'worked', 'working', 'world', 'worst', 'worth', 'wouldn', 'wrong']\n"
     ]
    }
   ],
   "source": [
    "import numpy as np\n",
    "from sklearn.feature_extraction.text import CountVectorizer, TfidfVectorizer\n",
    "#vectorizer = CountVectorizer(ngram_range=(1, 1), max_features=1000)\n",
    "vectorizer = TfidfVectorizer(ngram_range=(1, 3), max_features=1000)\n",
    "X = vectorizer.fit_transform(train_sentences1)\n",
    "feature_names1 = vectorizer.get_feature_names()\n",
    "print(feature_names1)"
   ]
  },
  {
   "cell_type": "code",
   "execution_count": 94,
   "metadata": {},
   "outputs": [
    {
     "ename": "KeyError",
     "evalue": "\"['Lang'] not found in axis\"",
     "output_type": "error",
     "traceback": [
      "\u001b[1;31m---------------------------------------------------------------------------\u001b[0m",
      "\u001b[1;31mKeyError\u001b[0m                                  Traceback (most recent call last)",
      "\u001b[1;32m<ipython-input-94-3157bbbb0b95>\u001b[0m in \u001b[0;36m<module>\u001b[1;34m\u001b[0m\n\u001b[1;32m----> 1\u001b[1;33m \u001b[0mdf_not_na\u001b[0m \u001b[1;33m=\u001b[0m \u001b[0mdf_not_na\u001b[0m\u001b[1;33m.\u001b[0m\u001b[0mdrop\u001b[0m\u001b[1;33m(\u001b[0m\u001b[0mcolumns\u001b[0m \u001b[1;33m=\u001b[0m \u001b[1;34m'Lang'\u001b[0m\u001b[1;33m)\u001b[0m\u001b[1;33m\u001b[0m\u001b[1;33m\u001b[0m\u001b[0m\n\u001b[0m\u001b[0;32m      2\u001b[0m \u001b[0mdf_not_na\u001b[0m\u001b[1;33m.\u001b[0m\u001b[0mhead\u001b[0m\u001b[1;33m(\u001b[0m\u001b[1;33m)\u001b[0m\u001b[1;33m\u001b[0m\u001b[1;33m\u001b[0m\u001b[0m\n",
      "\u001b[1;32m~\\Anaconda3\\lib\\site-packages\\pandas\\core\\frame.py\u001b[0m in \u001b[0;36mdrop\u001b[1;34m(self, labels, axis, index, columns, level, inplace, errors)\u001b[0m\n\u001b[0;32m   3988\u001b[0m                 \u001b[0mweight\u001b[0m  \u001b[1;36m1.0\u001b[0m     \u001b[1;36m0.8\u001b[0m\u001b[1;33m\u001b[0m\u001b[1;33m\u001b[0m\u001b[0m\n\u001b[0;32m   3989\u001b[0m         \"\"\"\n\u001b[1;32m-> 3990\u001b[1;33m         return super().drop(\n\u001b[0m\u001b[0;32m   3991\u001b[0m             \u001b[0mlabels\u001b[0m\u001b[1;33m=\u001b[0m\u001b[0mlabels\u001b[0m\u001b[1;33m,\u001b[0m\u001b[1;33m\u001b[0m\u001b[1;33m\u001b[0m\u001b[0m\n\u001b[0;32m   3992\u001b[0m             \u001b[0maxis\u001b[0m\u001b[1;33m=\u001b[0m\u001b[0maxis\u001b[0m\u001b[1;33m,\u001b[0m\u001b[1;33m\u001b[0m\u001b[1;33m\u001b[0m\u001b[0m\n",
      "\u001b[1;32m~\\Anaconda3\\lib\\site-packages\\pandas\\core\\generic.py\u001b[0m in \u001b[0;36mdrop\u001b[1;34m(self, labels, axis, index, columns, level, inplace, errors)\u001b[0m\n\u001b[0;32m   3934\u001b[0m         \u001b[1;32mfor\u001b[0m \u001b[0maxis\u001b[0m\u001b[1;33m,\u001b[0m \u001b[0mlabels\u001b[0m \u001b[1;32min\u001b[0m \u001b[0maxes\u001b[0m\u001b[1;33m.\u001b[0m\u001b[0mitems\u001b[0m\u001b[1;33m(\u001b[0m\u001b[1;33m)\u001b[0m\u001b[1;33m:\u001b[0m\u001b[1;33m\u001b[0m\u001b[1;33m\u001b[0m\u001b[0m\n\u001b[0;32m   3935\u001b[0m             \u001b[1;32mif\u001b[0m \u001b[0mlabels\u001b[0m \u001b[1;32mis\u001b[0m \u001b[1;32mnot\u001b[0m \u001b[1;32mNone\u001b[0m\u001b[1;33m:\u001b[0m\u001b[1;33m\u001b[0m\u001b[1;33m\u001b[0m\u001b[0m\n\u001b[1;32m-> 3936\u001b[1;33m                 \u001b[0mobj\u001b[0m \u001b[1;33m=\u001b[0m \u001b[0mobj\u001b[0m\u001b[1;33m.\u001b[0m\u001b[0m_drop_axis\u001b[0m\u001b[1;33m(\u001b[0m\u001b[0mlabels\u001b[0m\u001b[1;33m,\u001b[0m \u001b[0maxis\u001b[0m\u001b[1;33m,\u001b[0m \u001b[0mlevel\u001b[0m\u001b[1;33m=\u001b[0m\u001b[0mlevel\u001b[0m\u001b[1;33m,\u001b[0m \u001b[0merrors\u001b[0m\u001b[1;33m=\u001b[0m\u001b[0merrors\u001b[0m\u001b[1;33m)\u001b[0m\u001b[1;33m\u001b[0m\u001b[1;33m\u001b[0m\u001b[0m\n\u001b[0m\u001b[0;32m   3937\u001b[0m \u001b[1;33m\u001b[0m\u001b[0m\n\u001b[0;32m   3938\u001b[0m         \u001b[1;32mif\u001b[0m \u001b[0minplace\u001b[0m\u001b[1;33m:\u001b[0m\u001b[1;33m\u001b[0m\u001b[1;33m\u001b[0m\u001b[0m\n",
      "\u001b[1;32m~\\Anaconda3\\lib\\site-packages\\pandas\\core\\generic.py\u001b[0m in \u001b[0;36m_drop_axis\u001b[1;34m(self, labels, axis, level, errors)\u001b[0m\n\u001b[0;32m   3968\u001b[0m                 \u001b[0mnew_axis\u001b[0m \u001b[1;33m=\u001b[0m \u001b[0maxis\u001b[0m\u001b[1;33m.\u001b[0m\u001b[0mdrop\u001b[0m\u001b[1;33m(\u001b[0m\u001b[0mlabels\u001b[0m\u001b[1;33m,\u001b[0m \u001b[0mlevel\u001b[0m\u001b[1;33m=\u001b[0m\u001b[0mlevel\u001b[0m\u001b[1;33m,\u001b[0m \u001b[0merrors\u001b[0m\u001b[1;33m=\u001b[0m\u001b[0merrors\u001b[0m\u001b[1;33m)\u001b[0m\u001b[1;33m\u001b[0m\u001b[1;33m\u001b[0m\u001b[0m\n\u001b[0;32m   3969\u001b[0m             \u001b[1;32melse\u001b[0m\u001b[1;33m:\u001b[0m\u001b[1;33m\u001b[0m\u001b[1;33m\u001b[0m\u001b[0m\n\u001b[1;32m-> 3970\u001b[1;33m                 \u001b[0mnew_axis\u001b[0m \u001b[1;33m=\u001b[0m \u001b[0maxis\u001b[0m\u001b[1;33m.\u001b[0m\u001b[0mdrop\u001b[0m\u001b[1;33m(\u001b[0m\u001b[0mlabels\u001b[0m\u001b[1;33m,\u001b[0m \u001b[0merrors\u001b[0m\u001b[1;33m=\u001b[0m\u001b[0merrors\u001b[0m\u001b[1;33m)\u001b[0m\u001b[1;33m\u001b[0m\u001b[1;33m\u001b[0m\u001b[0m\n\u001b[0m\u001b[0;32m   3971\u001b[0m             \u001b[0mresult\u001b[0m \u001b[1;33m=\u001b[0m \u001b[0mself\u001b[0m\u001b[1;33m.\u001b[0m\u001b[0mreindex\u001b[0m\u001b[1;33m(\u001b[0m\u001b[1;33m**\u001b[0m\u001b[1;33m{\u001b[0m\u001b[0maxis_name\u001b[0m\u001b[1;33m:\u001b[0m \u001b[0mnew_axis\u001b[0m\u001b[1;33m}\u001b[0m\u001b[1;33m)\u001b[0m\u001b[1;33m\u001b[0m\u001b[1;33m\u001b[0m\u001b[0m\n\u001b[0;32m   3972\u001b[0m \u001b[1;33m\u001b[0m\u001b[0m\n",
      "\u001b[1;32m~\\Anaconda3\\lib\\site-packages\\pandas\\core\\indexes\\base.py\u001b[0m in \u001b[0;36mdrop\u001b[1;34m(self, labels, errors)\u001b[0m\n\u001b[0;32m   5016\u001b[0m         \u001b[1;32mif\u001b[0m \u001b[0mmask\u001b[0m\u001b[1;33m.\u001b[0m\u001b[0many\u001b[0m\u001b[1;33m(\u001b[0m\u001b[1;33m)\u001b[0m\u001b[1;33m:\u001b[0m\u001b[1;33m\u001b[0m\u001b[1;33m\u001b[0m\u001b[0m\n\u001b[0;32m   5017\u001b[0m             \u001b[1;32mif\u001b[0m \u001b[0merrors\u001b[0m \u001b[1;33m!=\u001b[0m \u001b[1;34m\"ignore\"\u001b[0m\u001b[1;33m:\u001b[0m\u001b[1;33m\u001b[0m\u001b[1;33m\u001b[0m\u001b[0m\n\u001b[1;32m-> 5018\u001b[1;33m                 \u001b[1;32mraise\u001b[0m \u001b[0mKeyError\u001b[0m\u001b[1;33m(\u001b[0m\u001b[1;34mf\"{labels[mask]} not found in axis\"\u001b[0m\u001b[1;33m)\u001b[0m\u001b[1;33m\u001b[0m\u001b[1;33m\u001b[0m\u001b[0m\n\u001b[0m\u001b[0;32m   5019\u001b[0m             \u001b[0mindexer\u001b[0m \u001b[1;33m=\u001b[0m \u001b[0mindexer\u001b[0m\u001b[1;33m[\u001b[0m\u001b[1;33m~\u001b[0m\u001b[0mmask\u001b[0m\u001b[1;33m]\u001b[0m\u001b[1;33m\u001b[0m\u001b[1;33m\u001b[0m\u001b[0m\n\u001b[0;32m   5020\u001b[0m         \u001b[1;32mreturn\u001b[0m \u001b[0mself\u001b[0m\u001b[1;33m.\u001b[0m\u001b[0mdelete\u001b[0m\u001b[1;33m(\u001b[0m\u001b[0mindexer\u001b[0m\u001b[1;33m)\u001b[0m\u001b[1;33m\u001b[0m\u001b[1;33m\u001b[0m\u001b[0m\n",
      "\u001b[1;31mKeyError\u001b[0m: \"['Lang'] not found in axis\""
     ]
    }
   ],
   "source": [
    "df_not_na = df_not_na.drop(columns = 'Lang')\n",
    "df_not_na.head()"
   ]
  },
  {
   "cell_type": "code",
   "execution_count": null,
   "metadata": {},
   "outputs": [],
   "source": []
  },
  {
   "cell_type": "code",
   "execution_count": 95,
   "metadata": {},
   "outputs": [
    {
     "data": {
      "text/plain": [
       "2        [almost_daily, moved, window, ubuntu, linux, f...\n",
       "3        [free_version, tease, functionality, usefulnes...\n",
       "4        [three, max, four_participant, crazy, trying, ...\n",
       "5        [concern, limited, capacity, multiple_user, co...\n",
       "6        [time, experiencing, repetition, audio, speak,...\n",
       "                               ...                        \n",
       "42736      [le_feature, compared_to_other_product, amrket]\n",
       "42737      [le_feature, compared_to_other_product, amrket]\n",
       "42738      [le_feature, compared_to_other_product, amrket]\n",
       "42739      [le_feature, compared_to_other_product, amrket]\n",
       "42740                               [slow_to_load, lagged]\n",
       "Name: Incovenienti, Length: 39273, dtype: object"
      ]
     },
     "execution_count": 95,
     "metadata": {},
     "output_type": "execute_result"
    }
   ],
   "source": [
    "df_not_na['Incovenienti'] = train_sentences1\n",
    "df_not_na.to_csv('C:/Users/David/Downloads/senteces2.csv', index=None)\n",
    "\n",
    "\n",
    "corpusN = df_not_na['Incovenienti']\n",
    "corpusN = corpusN.str.split()\n",
    "corpusN = corpusN.apply(lambda x: [lemmatizer.lemmatize(item) for item in x if item not in stop])\n",
    "corpusN = corpusN.apply(lambda x: [item for item in x if not item.isnumeric()])\n",
    "corpusN"
   ]
  },
  {
   "cell_type": "code",
   "execution_count": 96,
   "metadata": {},
   "outputs": [
    {
     "name": "stdout",
     "output_type": "stream",
     "text": [
      "Most common words in the corpus: [('time', 4163), ('feature', 3203), ('issue', 2749), ('user', 2319), ('call', 2219), ('people', 2092), ('could', 1828), ('app', 1668), ('team', 1601), ('option', 1593), ('connection', 1487), ('problem', 1364), ('video', 1292), ('task', 1233), ('screen', 1222), ('chat', 1161), ('wish', 1156), ('application', 1002), ('audio', 983), ('difficult', 862), ('set', 827), ('person', 813), ('often', 802), ('project', 791), ('message', 788), ('client', 772), ('free', 770), ('take', 754), ('system', 751), ('phone', 747), ('feel', 741), ('slow', 720), ('company', 716), ('access', 707), ('experience', 694), ('able', 692), ('someone', 689), ('first', 689), ('internet_connection', 679), ('quality', 673), ('functionality', 667), ('setting', 662), ('update', 657), ('interface', 651), ('free_version', 641), ('service', 629), ('hard', 629), ('participant', 622), ('account', 608), ('notification', 608), ('link', 607), ('confusing', 604), ('download', 600), ('business', 598), ('lag', 594), ('file', 587), ('connect', 584), ('start', 575), ('internet', 572), ('email', 564), ('everyone', 562), ('change', 562), ('function', 557), ('since', 557), ('version', 551), ('support', 547), ('especially', 544), ('different', 542), ('cannot', 530), ('limited', 523), ('expensive', 516), ('end', 514), ('cost', 513), ('come', 512), ('open', 502), ('conversation', 490), ('sure', 483), ('host', 477), ('available', 475), ('help', 467), ('another', 465), ('control', 457), ('sound', 448), ('new', 445), ('video_call', 443), ('group', 437), ('look', 434), ('price', 430), ('lack', 429), ('window', 428), ('needed', 426), ('easily', 424), ('annoying', 422), ('communication', 412), ('number', 406), ('requires', 402), ('working', 400), ('session', 399), ('share', 398), ('day', 395)]\n",
      "\n",
      "Number of different words in the corpus: 14936\n"
     ]
    }
   ],
   "source": [
    "from collections import Counter\n",
    "c = Counter()\n",
    "for feature_names1 in corpusN:\n",
    "    c.update(feature_names1)   \n",
    "\n",
    "print(f'Most common words in the corpus: {c.most_common(100)}\\n')\n",
    "print(f'Number of different words in the corpus: {len(c)}')"
   ]
  },
  {
   "cell_type": "code",
   "execution_count": 97,
   "metadata": {},
   "outputs": [
    {
     "name": "stdout",
     "output_type": "stream",
     "text": [
      "Wall time: 4.78 s\n"
     ]
    }
   ],
   "source": [
    "from gensim.models import Word2Vec\n",
    "\n",
    "#sg: training algorithm. 1 for skipgram, 0 for cbow\n",
    "%time w2v_model = Word2Vec(sg=1, sentences=corpusN, size=100, window=5, min_count=5, iter=5)"
   ]
  },
  {
   "cell_type": "code",
   "execution_count": 98,
   "metadata": {},
   "outputs": [
    {
     "name": "stdout",
     "output_type": "stream",
     "text": [
      "Wall time: 25.7 s\n"
     ]
    }
   ],
   "source": [
    "from gensim.models import FastText\n",
    "\n",
    "%time ft_model = FastText(sg=1, sentences=corpusN, size=100, window=5, min_count=5, iter=5, min_n=4, max_n=10)\n",
    "# ft_model.build_vocab(sentences=corpus)"
   ]
  },
  {
   "cell_type": "code",
   "execution_count": 99,
   "metadata": {},
   "outputs": [
    {
     "data": {
      "text/plain": [
       "7332"
      ]
     },
     "execution_count": 99,
     "metadata": {},
     "output_type": "execute_result"
    }
   ],
   "source": [
    "len(w2v_model.wv.vocab)"
   ]
  },
  {
   "cell_type": "code",
   "execution_count": 100,
   "metadata": {},
   "outputs": [],
   "source": [
    "from gensim.models import KeyedVectors \n",
    "w2v_model.wv.save_word2vec_format('C:/Users/David/Downloads/word_embeddings/vec_models/w2v_model2.bin', binary=True)\n",
    "ft_model.wv.save_word2vec_format('C:/Users/David/Downloads/word_embeddings/vec_models/ft_model2.vec', binary=False)"
   ]
  },
  {
   "cell_type": "code",
   "execution_count": 101,
   "metadata": {},
   "outputs": [],
   "source": [
    "df_not_na.head()\n",
    "\n",
    "wn_plotN=df_not_na"
   ]
  },
  {
   "cell_type": "code",
   "execution_count": 102,
   "metadata": {},
   "outputs": [
    {
     "name": "stderr",
     "output_type": "stream",
     "text": [
      "<ipython-input-102-80fcc236b3b6>:1: DeprecationWarning: Call to deprecated `most_similar` (Method will be removed in 4.0.0, use self.wv.most_similar() instead).\n",
      "  ft_model.most_similar('zoom', topn= 20)\n"
     ]
    },
    {
     "data": {
      "text/plain": [
       "[('anyone_else', 0.984214723110199),\n",
       " ('admit', 0.9822666049003601),\n",
       " ('co_host', 0.9794783592224121),\n",
       " ('audience_member', 0.9745491743087769),\n",
       " ('administrator', 0.9720349311828613),\n",
       " ('permission_setting', 0.9709262847900391),\n",
       " ('anyone_can_join', 0.9695459604263306),\n",
       " ('waiting_room', 0.9687486290931702),\n",
       " ('weren_t_able', 0.9683189988136292),\n",
       " ('unattended', 0.9672984480857849),\n",
       " ('attendance', 0.9650338888168335),\n",
       " ('talked', 0.9644675254821777),\n",
       " ('certain_people', 0.9644274115562439),\n",
       " ('admins', 0.9642819166183472),\n",
       " ('hosted', 0.9636124968528748),\n",
       " ('classroom', 0.9631984829902649),\n",
       " ('attended', 0.963157057762146),\n",
       " ('guest', 0.9625640511512756),\n",
       " ('attendant', 0.962196946144104),\n",
       " ('folk', 0.9621082544326782)]"
      ]
     },
     "execution_count": 102,
     "metadata": {},
     "output_type": "execute_result"
    }
   ],
   "source": [
    "ft_model.most_similar('zoom', topn= 20)"
   ]
  },
  {
   "cell_type": "code",
   "execution_count": 103,
   "metadata": {},
   "outputs": [],
   "source": [
    "def restrict_w2v(w2v, restricted_word_set):\n",
    "    w2v.most_similar(list(restricted_word_set)[0]) #to inizialize norms\n",
    "    new_vectors = []\n",
    "    new_vocab = {}\n",
    "    new_index2entity = []\n",
    "    new_vectors_norm = []\n",
    "\n",
    "    for i in range(len(w2v.vocab)):\n",
    "        word = w2v.index2entity[i]\n",
    "        vec = w2v.vectors[i]\n",
    "        vocab = w2v.vocab[word]\n",
    "        vec_norm = w2v.vectors_norm[i]\n",
    "        if word in restricted_word_set:\n",
    "            vocab.index = len(new_index2entity)\n",
    "            new_index2entity.append(word)\n",
    "            new_vocab[word] = vocab\n",
    "            new_vectors.append(vec)\n",
    "            new_vectors_norm.append(vec_norm)\n",
    "\n",
    "    w2v.vocab = new_vocab\n",
    "    w2v.vectors = np.array(new_vectors)\n",
    "    w2v.index2entity = np.array(new_index2entity)\n",
    "    w2v.index2word = np.array(new_index2entity)\n",
    "    w2v.vectors_norm = np.array(new_vectors_norm)"
   ]
  },
  {
   "cell_type": "code",
   "execution_count": 104,
   "metadata": {},
   "outputs": [
    {
     "name": "stdout",
     "output_type": "stream",
     "text": [
      "['time', 'feature', 'issue', 'user', 'call', 'people', 'could', 'app', 'team', 'option', 'connection', 'problem', 'video', 'task', 'screen', 'chat', 'wish', 'application', 'audio', 'difficult', 'set', 'person', 'often', 'project', 'message', 'client', 'free', 'take', 'system', 'phone', 'feel', 'slow', 'company', 'access', 'experience', 'able', 'someone', 'first', 'internet_connection', 'quality', 'functionality', 'setting', 'update', 'interface', 'free_version', 'service', 'hard', 'participant', 'account', 'notification', 'link', 'confusing', 'download', 'business', 'lag', 'file', 'connect', 'start', 'internet', 'email', 'everyone', 'change', 'function', 'since', 'version', 'support', 'especially', 'different', 'cannot', 'limited', 'expensive', 'end', 'cost', 'come', 'open', 'conversation', 'sure', 'host', 'available', 'help', 'another', 'control', 'sound', 'new', 'video_call', 'group', 'look', 'price', 'lack', 'window', 'needed', 'easily', 'annoying', 'communication', 'number', 'requires', 'working', 'session', 'share', 'day', 'browser', 'screen_sharing', 'trying', 'integration', 'made', 'log', 'le', 'although', 'small', 'back', 'device', 'improved', 'process', 'view', 'part', 'run', 'desktop', 'seem', 'apps', 'give', 'security', 'offer', 'show', 'intuitive', 'join', 'send', 'instead', 'compared', 'conference', 'setup', 'understand', 'occasionally', 'try', 'must', 'recording', 'negative', 'solution', 'install', 'ability', 'glitch', 'contact', 'calendar', 'order', 'slack', 'frustrating', 'sharing', 'allow', 'information', 'pay', 'long', 'online', 'first_time', 'attendee', 'multiple', 'figure', 'video_quality', 'click', 'not_sure', 'user_interface', 'limit', 'delay', 'automatically', 'organization', 'm_not', 'connecting', 'button', 'personal', 'customer', 'competitor', 'voice', 'video_conferencing', 'already', 'worked', 'probably', 'improve', 'not_always', 'camera', 'freeze', 'case', 'microsoft', 'connected', 'background', 'create', 'data', 'mobile_app', 'side', 'room', 'helpful', 'reason', 'high', 'job', 'pricing', 'turn', 'complain', 'mute', 'required', 'mobile', 'running', 'laptop', 'gmail']\n"
     ]
    },
    {
     "name": "stderr",
     "output_type": "stream",
     "text": [
      "<ipython-input-104-3af914985f50>:9: DeprecationWarning: Call to deprecated `wv` (Attribute will be removed in 4.0.0, use self instead).\n",
      "  top100N = w2v_model.wv.index2entity[:200]\n"
     ]
    }
   ],
   "source": [
    "from gensim.models import KeyedVectors\n",
    "w2v_model = KeyedVectors.load_word2vec_format('C:/Users/David/Downloads/word_embeddings/vec_models/ft_model2.vec', binary=False)\n",
    "# top 100 words\n",
    "\n",
    "#stop = stopwords.words('english')\n",
    "#stop.extend(['good', 'bad', 'dont', 'many', 'love', 'excellent', 'would', 'perfect', 'even', 'great','a','for'])\n",
    "\n",
    "\n",
    "top100N = w2v_model.wv.index2entity[:200]\n",
    "print(top100N)"
   ]
  },
  {
   "cell_type": "code",
   "execution_count": 105,
   "metadata": {},
   "outputs": [],
   "source": [
    "import matplotlib\n",
    "from matplotlib.pyplot import cm\n",
    "\n",
    "cat_unique = list(wn_plotN.Piattaforma.unique())\n",
    "n_cat = len(cat_unique)\n",
    "\n",
    "markers = [ \"o\" ,\"v\" , \"p\" , \"d\" , \"h\" , \"s\" , \"8\" , \"|\" , \"1\" , \"P\" , \"*\" , \">\" ,\n",
    "           \"3\" , \"H\" , \"<\" , \"^\" , \"X\" , \"D\" , \"2\" , \"4\" , \"_\"]\n",
    "markers = markers[:n_cat-1]\n",
    "    \n",
    "colors = list(matplotlib.colors.cnames.keys())\n",
    "colors=cm.rainbow(np.linspace(0,1,n_cat))"
   ]
  },
  {
   "cell_type": "code",
   "execution_count": 106,
   "metadata": {},
   "outputs": [
    {
     "name": "stderr",
     "output_type": "stream",
     "text": [
      "<ipython-input-106-db6f365f7c22>:14: DeprecationWarning: Call to deprecated `wv` (Attribute will be removed in 4.0.0, use self instead).\n",
      "  X = model[model.wv.vocab]\n",
      "<ipython-input-106-db6f365f7c22>:17: DeprecationWarning: Call to deprecated `wv` (Attribute will be removed in 4.0.0, use self instead).\n",
      "  X = model[model.wv.vocab]\n",
      "C:\\Users\\David\\Anaconda3\\lib\\site-packages\\umap\\umap_.py:1158: RuntimeWarning: divide by zero encountered in power\n",
      "  return 1.0 / (1.0 + a * x ** (2 * b))\n",
      "C:\\Users\\David\\Anaconda3\\lib\\site-packages\\umap\\umap_.py:1678: UserWarning: n_neighbors is larger than the dataset size; truncating to X.shape[0] - 1\n",
      "  warn(\n",
      "<ipython-input-106-db6f365f7c22>:21: DeprecationWarning: Call to deprecated `wv` (Attribute will be removed in 4.0.0, use self instead).\n",
      "  dfN['token'] = model.wv.vocab\n"
     ]
    },
    {
     "data": {
      "text/html": [
       "<div>\n",
       "<style scoped>\n",
       "    .dataframe tbody tr th:only-of-type {\n",
       "        vertical-align: middle;\n",
       "    }\n",
       "\n",
       "    .dataframe tbody tr th {\n",
       "        vertical-align: top;\n",
       "    }\n",
       "\n",
       "    .dataframe thead th {\n",
       "        text-align: right;\n",
       "    }\n",
       "</style>\n",
       "<table border=\"1\" class=\"dataframe\">\n",
       "  <thead>\n",
       "    <tr style=\"text-align: right;\">\n",
       "      <th></th>\n",
       "      <th>x</th>\n",
       "      <th>y</th>\n",
       "      <th>token</th>\n",
       "    </tr>\n",
       "  </thead>\n",
       "  <tbody>\n",
       "    <tr>\n",
       "      <th>0</th>\n",
       "      <td>-4.543031</td>\n",
       "      <td>9.064445</td>\n",
       "      <td>time</td>\n",
       "    </tr>\n",
       "    <tr>\n",
       "      <th>1</th>\n",
       "      <td>10.370388</td>\n",
       "      <td>-1.292672</td>\n",
       "      <td>feature</td>\n",
       "    </tr>\n",
       "    <tr>\n",
       "      <th>2</th>\n",
       "      <td>5.177580</td>\n",
       "      <td>14.572652</td>\n",
       "      <td>issue</td>\n",
       "    </tr>\n",
       "    <tr>\n",
       "      <th>3</th>\n",
       "      <td>-2.851238</td>\n",
       "      <td>5.894309</td>\n",
       "      <td>user</td>\n",
       "    </tr>\n",
       "    <tr>\n",
       "      <th>4</th>\n",
       "      <td>-1.816854</td>\n",
       "      <td>11.201733</td>\n",
       "      <td>call</td>\n",
       "    </tr>\n",
       "    <tr>\n",
       "      <th>...</th>\n",
       "      <td>...</td>\n",
       "      <td>...</td>\n",
       "      <td>...</td>\n",
       "    </tr>\n",
       "    <tr>\n",
       "      <th>195</th>\n",
       "      <td>-2.019449</td>\n",
       "      <td>7.870131</td>\n",
       "      <td>required</td>\n",
       "    </tr>\n",
       "    <tr>\n",
       "      <th>196</th>\n",
       "      <td>4.185846</td>\n",
       "      <td>7.566165</td>\n",
       "      <td>mobile</td>\n",
       "    </tr>\n",
       "    <tr>\n",
       "      <th>197</th>\n",
       "      <td>-2.595950</td>\n",
       "      <td>9.878457</td>\n",
       "      <td>running</td>\n",
       "    </tr>\n",
       "    <tr>\n",
       "      <th>198</th>\n",
       "      <td>2.044595</td>\n",
       "      <td>8.463050</td>\n",
       "      <td>laptop</td>\n",
       "    </tr>\n",
       "    <tr>\n",
       "      <th>199</th>\n",
       "      <td>-0.643253</td>\n",
       "      <td>-4.916454</td>\n",
       "      <td>gmail</td>\n",
       "    </tr>\n",
       "  </tbody>\n",
       "</table>\n",
       "<p>200 rows × 3 columns</p>\n",
       "</div>"
      ],
      "text/plain": [
       "             x          y     token\n",
       "0    -4.543031   9.064445      time\n",
       "1    10.370388  -1.292672   feature\n",
       "2     5.177580  14.572652     issue\n",
       "3    -2.851238   5.894309      user\n",
       "4    -1.816854  11.201733      call\n",
       "..         ...        ...       ...\n",
       "195  -2.019449   7.870131  required\n",
       "196   4.185846   7.566165    mobile\n",
       "197  -2.595950   9.878457   running\n",
       "198   2.044595   8.463050    laptop\n",
       "199  -0.643253  -4.916454     gmail\n",
       "\n",
       "[200 rows x 3 columns]"
      ]
     },
     "execution_count": 106,
     "metadata": {},
     "output_type": "execute_result"
    }
   ],
   "source": [
    "#!pip install adjustText\n",
    "import numpy as np\n",
    "import matplotlib.pyplot as plt\n",
    "import matplotlib\n",
    "import random\n",
    "from adjustText import adjust_text\n",
    "random.seed(42)\n",
    "plt.rcParams['figure.figsize'] = 25, 12\n",
    "\n",
    "import umap\n",
    "def train_umap(model):\n",
    "    random.seed(42)\n",
    "    np.random.seed(42)\n",
    "    X = model[model.wv.vocab]\n",
    "    reducer = umap.UMAP(n_neighbors=2000, metric = 'cosine', learning_rate=0.01,#0.01\n",
    "                        n_epochs=2000, spread=5, min_dist=0.5, random_state=42)#min_dist=0.5\n",
    "    X = model[model.wv.vocab]\n",
    "    embedding = reducer.fit_transform(X)\n",
    "\n",
    "    dfN = pd.DataFrame(embedding)\n",
    "    dfN['token'] = model.wv.vocab\n",
    "    dfN.columns  = ['x', 'y', 'token']\n",
    "    return dfN\n",
    "\n",
    "word_setN = {w for w in top100N if w in w2v_model.vocab}\n",
    "restrict_w2v(w2v_model, word_setN)\n",
    "#top100umapN = train_umap(w2v_model)\n",
    "wn_umapN = train_umap(w2v_model)\n",
    "wn_umapN\n"
   ]
  },
  {
   "cell_type": "code",
   "execution_count": 107,
   "metadata": {},
   "outputs": [
    {
     "data": {
      "text/plain": [
       "500"
      ]
     },
     "execution_count": 107,
     "metadata": {},
     "output_type": "execute_result"
    },
    {
     "data": {
      "image/png": "[encoded data removed]",
      "text/plain": [
       "<Figure size 1800x864 with 1 Axes>"
      ]
     },
     "metadata": {
      "needs_background": "light"
     },
     "output_type": "display_data"
    }
   ],
   "source": [
    "\n",
    "from adjustText import adjust_text\n",
    "text = []\n",
    "\n",
    "for cat, color, marker in zip(cat_unique, colors, markers):\n",
    "    keys = wn_plotN['Incovenienti'][wn_plotN['Piattaforma'] == cat].values\n",
    "    df_reduced = wn_umapN[wn_umapN['token'].isin(keys)]\n",
    "    if not df_reduced.empty:\n",
    "        i = 0\n",
    "\n",
    "\n",
    "        for index,row in df_reduced.iterrows():\n",
    "            i+=1\n",
    "            plt.scatter(row['x'], row['y'], c=np.array([color]), alpha=0.6, marker=marker, s=100, edgecolors='black',label=cat if i == 1 else \"\")\n",
    "            text.append(plt.annotate(row['token'], alpha=0.5, xy=(row['x'], row['y']), ha='right', va='bottom', size=14))\n",
    "    \n",
    "plt.legend(fontsize=10, loc='best')\n",
    "\n",
    "plt.title('Meeting tools Inconvenienti')\n",
    "\n",
    "\n",
    "test_Umap=adjust_text(text)\n",
    "test_Umap\n"
   ]
  },
  {
   "cell_type": "code",
   "execution_count": null,
   "metadata": {},
   "outputs": [],
   "source": []
  },
  {
   "cell_type": "code",
   "execution_count": null,
   "metadata": {},
   "outputs": [],
   "source": [
    "import pandas as pd\n",
    "\n",
    "df2 = pd.read_csv(\"C:/Users/David/Downloads/WebExVantaggiSvantaggi.csv\")\n",
    "#df\n",
    "\n",
    "df2"
   ]
  },
  {
   "cell_type": "code",
   "execution_count": null,
   "metadata": {},
   "outputs": [],
   "source": [
    "from langdetect import detect\n",
    "langlist=[]\n",
    "for i in range(0,len(df2)):\n",
    "    Lang= detect(df2['Vantaggi'][i])\n",
    "    langlist.append(Lang)\n",
    "    df2['Lang'][i] = langlist[i]\n",
    "#df\n"
   ]
  },
  {
   "cell_type": "code",
   "execution_count": null,
   "metadata": {},
   "outputs": [],
   "source": [
    "df2.head()"
   ]
  },
  {
   "cell_type": "code",
   "execution_count": null,
   "metadata": {},
   "outputs": [],
   "source": [
    "df_02 = df2[~(df2['Lang']!='en')]\n",
    "df_02"
   ]
  },
  {
   "cell_type": "code",
   "execution_count": null,
   "metadata": {},
   "outputs": [],
   "source": [
    "df_not_na1 = df_02[~(df_02['Vantaggi'].isna()) & ~(df_02['Incovenienti'].isna())]\n",
    "text_03 = df_not_na1['Vantaggi']\n",
    "#y = df_not_na['bin_y'].tolist()\n",
    "text_03[5]"
   ]
  },
  {
   "cell_type": "code",
   "execution_count": null,
   "metadata": {},
   "outputs": [],
   "source": [
    "from tqdm import tqdm\n",
    "from nltk.stem import WordNetLemmatizer\n",
    "\n",
    "#nltk.download()\n",
    "\n",
    "lemmatizer = WordNetLemmatizer()\n",
    "\n",
    "text2 = text_03.str.lower().str.replace('[^\\w\\s]',' ')\n",
    "text2 = text2.str.split()\n",
    "# text = text.apply(lambda x: [lemmatizer.lemmatize(word) for sentence in x for word in sentence])\n",
    "text2 = text2.apply(lambda x: [lemmatizer.lemmatize(sent) for sent in x])\n",
    "print(text2[5])"
   ]
  },
  {
   "cell_type": "code",
   "execution_count": null,
   "metadata": {},
   "outputs": [],
   "source": [
    "from gensim.models.phrases import Phrases\n",
    "from nltk.corpus import stopwords\n",
    "\n",
    "\n",
    "stop = stopwords.words('english')\n",
    "stop.extend(['good', 'bad', 'dont', 'many', 'love', 'excellent', 'would', 'perfect', 'even', 'great','a','for','go', 'ha','wa', 'withouth', 'u', 'etc','asana',\n",
    "               'google_meet',\n",
    "               'go_to_meeting',\n",
    "               'zoom',\n",
    "               'teamviewer',\n",
    "               'webex',\n",
    "               'microsoft_teams','google_hangout','like','others','get','need','one''withouth','also','lot','thing'])\n",
    "\n",
    "\n",
    "😊\n",
    "\n",
    "bigram2 = Phrases(text2, min_count=5, threshold=0.5, common_terms=stop)\n",
    "print(bigram2[text2[5]])\n"
   ]
  },
  {
   "cell_type": "code",
   "execution_count": null,
   "metadata": {},
   "outputs": [],
   "source": [
    "bigrams2 = [bigram2[item] for item in text2]\n",
    "ngrams2 = [bigram2[item] for item in bigrams2]\n",
    "print(ngrams2[5])"
   ]
  },
  {
   "cell_type": "code",
   "execution_count": null,
   "metadata": {},
   "outputs": [],
   "source": [
    "from nltk.corpus import stopwords\n",
    "stop = stopwords.words('english')\n",
    "stop.extend(['good', 'bad', 'dont', 'many', 'love', 'excellent', 'would', 'perfect', 'even', 'great','a','for','go', 'ha','wa', 'withouth', 'u', 'etc','asana',\n",
    "               'google_meet',\n",
    "               'go_to_meeting',\n",
    "               'zoom',\n",
    "               'teamviewer',\n",
    "               'webex',\n",
    "               'microsoft_teams','like','others','get','need','one''withouth','also','lot','thing'])\n",
    "print(ngrams2[0])\n",
    "train_sentences2 = []\n",
    "for row in ngrams2:\n",
    "    train_sentences2.append(' '.join([item for item in row if item not in stop]))\n",
    "#train_sentences = [' '.join(item) for item in ngrams]\n",
    "train_sentences2[0]"
   ]
  },
  {
   "cell_type": "code",
   "execution_count": null,
   "metadata": {},
   "outputs": [],
   "source": [
    "import numpy as np\n",
    "from sklearn.feature_extraction.text import CountVectorizer, TfidfVectorizer\n",
    "#vectorizer = CountVectorizer(ngram_range=(1, 1), max_features=1000)\n",
    "vectorizer = TfidfVectorizer(ngram_range=(1, 3), max_features=1000)\n",
    "X = vectorizer.fit_transform(train_sentences2)\n",
    "feature_names2 = vectorizer.get_feature_names()\n",
    "print(feature_names2)"
   ]
  },
  {
   "cell_type": "code",
   "execution_count": null,
   "metadata": {},
   "outputs": [],
   "source": [
    "df_not_na1['Vantaggi'] = train_sentences2\n",
    "df_not_na1.to_csv('C:/Users/David/Downloads/senteces3.csv', index=None)\n",
    "\n",
    "\n",
    "corpusWP = df_not_na1['Vantaggi']\n",
    "corpusWP = corpusWP.str.split()\n",
    "corpusWP = corpusWP.apply(lambda x: [lemmatizer.lemmatize(item) for item in x if item not in stop])\n",
    "corpusWP = corpusWP.apply(lambda x: [item for item in x if not item.isnumeric()])\n",
    "corpusWP"
   ]
  },
  {
   "cell_type": "code",
   "execution_count": null,
   "metadata": {},
   "outputs": [],
   "source": [
    "from collections import Counter\n",
    "c = Counter()\n",
    "for feature_names2 in corpusWP:\n",
    "    c.update(feature_names2)   \n",
    "\n",
    "print(f'Most common words in the corpus: {c.most_common(100)}\\n')\n",
    "print(f'Number of different words in the corpus: {len(c)}')"
   ]
  },
  {
   "cell_type": "code",
   "execution_count": null,
   "metadata": {},
   "outputs": [],
   "source": [
    "from gensim.models import Word2Vec\n",
    "\n",
    "#sg: training algorithm. 1 for skipgram, 0 for cbow\n",
    "%time w2v_model = Word2Vec(sg=1, sentences=corpusWP, size=100, window=5, min_count=5, iter=5)"
   ]
  },
  {
   "cell_type": "code",
   "execution_count": null,
   "metadata": {},
   "outputs": [],
   "source": [
    "from gensim.models import FastText\n",
    "\n",
    "%time ft_model = FastText(sg=1, sentences=corpusWP, size=100, window=5, min_count=5, iter=5, min_n=4, max_n=10)\n",
    "# ft_model.build_vocab(sentences=corpus)"
   ]
  },
  {
   "cell_type": "code",
   "execution_count": null,
   "metadata": {},
   "outputs": [],
   "source": [
    "len(w2v_model.wv.vocab)"
   ]
  },
  {
   "cell_type": "code",
   "execution_count": null,
   "metadata": {},
   "outputs": [],
   "source": [
    "from gensim.models import KeyedVectors \n",
    "w2v_model.wv.save_word2vec_format('C:/Users/David/Downloads/word_embeddings/vec_models/w2v_model3.bin', binary=True)\n",
    "ft_model.wv.save_word2vec_format('C:/Users/David/Downloads/word_embeddings/vec_models/ft_model3.vec', binary=False)"
   ]
  },
  {
   "cell_type": "code",
   "execution_count": null,
   "metadata": {},
   "outputs": [],
   "source": [
    "ft_model.most_similar('webex', topn= 20)"
   ]
  },
  {
   "cell_type": "code",
   "execution_count": null,
   "metadata": {},
   "outputs": [],
   "source": [
    "def restrict_w2v(w2v, restricted_word_set):\n",
    "    w2v.most_similar(list(restricted_word_set)[0]) #to inizialize norms\n",
    "    new_vectors = []\n",
    "    new_vocab = {}\n",
    "    new_index2entity = []\n",
    "    new_vectors_norm = []\n",
    "\n",
    "    for i in range(len(w2v.vocab)):\n",
    "        word = w2v.index2entity[i]\n",
    "        vec = w2v.vectors[i]\n",
    "        vocab = w2v.vocab[word]\n",
    "        vec_norm = w2v.vectors_norm[i]\n",
    "        if word in restricted_word_set:\n",
    "            vocab.index = len(new_index2entity)\n",
    "            new_index2entity.append(word)\n",
    "            new_vocab[word] = vocab\n",
    "            new_vectors.append(vec)\n",
    "            new_vectors_norm.append(vec_norm)\n",
    "\n",
    "    w2v.vocab = new_vocab\n",
    "    w2v.vectors = np.array(new_vectors)\n",
    "    w2v.index2entity = np.array(new_index2entity)\n",
    "    w2v.index2word = np.array(new_index2entity)\n",
    "    w2v.vectors_norm = np.array(new_vectors_norm)"
   ]
  },
  {
   "cell_type": "code",
   "execution_count": null,
   "metadata": {},
   "outputs": [],
   "source": [
    "from gensim.models import KeyedVectors\n",
    "w2v_model = KeyedVectors.load_word2vec_format('C:/Users/David/Downloads/word_embeddings/vec_models/ft_model3.vec', binary=False)\n",
    "# top 100 words\n",
    "\n",
    "#stop = stopwords.words('english')\n",
    "#stop.extend(['good', 'bad', 'dont', 'many', 'love', 'excellent', 'would', 'perfect', 'even', 'great','a','for'])\n",
    "\n",
    "\n",
    "top100WP = w2v_model.wv.index2entity[:5]\n",
    "print(top100WP)"
   ]
  },
  {
   "cell_type": "code",
   "execution_count": null,
   "metadata": {},
   "outputs": [],
   "source": [
    "#!pip install adjustText\n",
    "import numpy as np\n",
    "import matplotlib.pyplot as plt\n",
    "import matplotlib\n",
    "import random\n",
    "from adjustText import adjust_text\n",
    "random.seed(42)\n",
    "plt.rcParams['figure.figsize'] = 25, 12\n",
    "\n",
    "import umap\n",
    "def train_umap(model):\n",
    "    random.seed(42)\n",
    "    np.random.seed(42)\n",
    "    X = model[model.wv.vocab]\n",
    "    reducer = umap.UMAP(n_neighbors=2000, metric = 'cosine', learning_rate=0.01,#0.01\n",
    "                        n_epochs=2000, spread=5, min_dist=0.5, random_state=42)#min_dist=0.5\n",
    "    X = model[model.wv.vocab]\n",
    "    embedding = reducer.fit_transform(X)\n",
    "\n",
    "    dfWP = pd.DataFrame(embedding)\n",
    "    dfWP['token'] = model.wv.vocab\n",
    "    dfWP.columns  = ['x', 'y', 'token']\n",
    "    return dfWP\n",
    "\n",
    "word_setWP = {w for w in top100WP if w in w2v_model.vocab}\n",
    "restrict_w2v(w2v_model, word_setWP)\n",
    "top100umapWP = train_umap(w2v_model)\n",
    "top100umapWP"
   ]
  },
  {
   "cell_type": "code",
   "execution_count": null,
   "metadata": {},
   "outputs": [],
   "source": [
    "\n",
    "from adjustText import adjust_text\n",
    "text2 = []\n",
    "for index, row in top100umapWP.iterrows():\n",
    "    plt.scatter(row['x'], row['y'], c='green', alpha=0.6, marker='o', s=100, edgecolors='black')\n",
    "    text2.append(plt.annotate(row['token'], alpha=0.5, xy=(row['x'], row['y']), ha='right', va='bottom', size=14))\n",
    "    \n",
    "                \n",
    "test_UmapWP=adjust_text(text2)\n",
    "test_UmapWP\n"
   ]
  },
  {
   "cell_type": "code",
   "execution_count": null,
   "metadata": {},
   "outputs": [],
   "source": [
    "text_04 = df_not_na1['Incovenienti']\n",
    "#y = df_not_na['bin_y'].tolist()\n",
    "text_04[0]"
   ]
  },
  {
   "cell_type": "code",
   "execution_count": null,
   "metadata": {},
   "outputs": [],
   "source": [
    "from tqdm import tqdm\n",
    "from nltk.stem import WordNetLemmatizer\n",
    "\n",
    "#nltk.download()\n",
    "\n",
    "lemmatizer = WordNetLemmatizer()\n",
    "\n",
    "text3 = text_04.str.lower().str.replace('[^\\w\\s]',' ')\n",
    "text3 = text3.str.split()\n",
    "# text = text.apply(lambda x: [lemmatizer.lemmatize(word) for sentence in x for word in sentence])\n",
    "text3 = text3.apply(lambda x: [lemmatizer.lemmatize(sent) for sent in x])\n",
    "print(text3[5])"
   ]
  },
  {
   "cell_type": "code",
   "execution_count": null,
   "metadata": {},
   "outputs": [],
   "source": [
    "from gensim.models.phrases import Phrases\n",
    "from nltk.corpus import stopwords\n",
    "\n",
    "\n",
    "stop = stopwords.words('english')\n",
    "stop.extend(['good', 'bad', 'dont', 'many', 'love', 'excellent', 'would', 'perfect', 'even', 'great','a','for','go', 'ha','wa', 'withouth', 'u', 'etc','asana',\n",
    "               'google_meet',\n",
    "               'go_to_meeting',\n",
    "               'zoom',\n",
    "               'teamviewer',\n",
    "               'webex',\n",
    "               'microsoft_teams','like','others','get','need','one''withouth','also','lot','thing'])\n",
    "\n",
    "\n",
    "\n",
    "\n",
    "bigram3 = Phrases(text3, min_count=5, threshold=0.5, common_terms=stop)\n",
    "print(bigram3[text3[5]])\n"
   ]
  },
  {
   "cell_type": "code",
   "execution_count": null,
   "metadata": {},
   "outputs": [],
   "source": [
    "bigrams3 = [bigram3[item] for item in text3]\n",
    "ngrams3 = [bigram3[item] for item in bigrams3]\n",
    "print(ngrams3[5])"
   ]
  },
  {
   "cell_type": "code",
   "execution_count": null,
   "metadata": {},
   "outputs": [],
   "source": [
    "from nltk.corpus import stopwords\n",
    "stop = stopwords.words('english')\n",
    "stop.extend(['good', 'bad', 'dont', 'many', 'love', 'excellent', 'would', 'perfect', 'even', 'great','a','for','go', 'ha','wa', 'withouth', 'u', 'etc','asana',\n",
    "               'google_meet',\n",
    "               'go_to_meeting',\n",
    "               'zoom',\n",
    "               'teamviewer',\n",
    "               'webex',\n",
    "               'microsoft_teams','google_hangout','like','others','get','need','one''withouth','also','lot','thing'])\n",
    "print(ngrams3[0])\n",
    "train_sentences3 = []\n",
    "for row in ngrams3:\n",
    "    train_sentences3.append(' '.join([item for item in row if item not in stop]))\n",
    "#train_sentences = [' '.join(item) for item in ngrams]\n",
    "train_sentences3[0]"
   ]
  },
  {
   "cell_type": "code",
   "execution_count": null,
   "metadata": {},
   "outputs": [],
   "source": [
    "import numpy as np\n",
    "from sklearn.feature_extraction.text import CountVectorizer, TfidfVectorizer\n",
    "#vectorizer = CountVectorizer(ngram_range=(1, 1), max_features=1000)\n",
    "vectorizer = TfidfVectorizer(ngram_range=(1, 3), max_features=1000)\n",
    "X = vectorizer.fit_transform(train_sentences3)\n",
    "feature_names3 = vectorizer.get_feature_names()\n",
    "print(feature_names3)"
   ]
  },
  {
   "cell_type": "code",
   "execution_count": null,
   "metadata": {},
   "outputs": [],
   "source": [
    "df_not_na1['Incovenienti'] = train_sentences3\n",
    "df_not_na1.to_csv('C:/Users/David/Downloads/senteces4.csv', index=None)\n",
    "\n",
    "\n",
    "corpusWN = df_not_na1['Incovenienti']\n",
    "corpusWN = corpusWN.str.split()\n",
    "corpusWN = corpusWN.apply(lambda x: [lemmatizer.lemmatize(item) for item in x if item not in stop])\n",
    "corpusWN = corpusWN.apply(lambda x: [item for item in x if not item.isnumeric()])\n",
    "corpusWN"
   ]
  },
  {
   "cell_type": "code",
   "execution_count": null,
   "metadata": {},
   "outputs": [],
   "source": [
    "from collections import Counter\n",
    "c = Counter()\n",
    "for feature_names3 in corpusWN:\n",
    "    c.update(feature_names3)   \n",
    "\n",
    "print(f'Most common words in the corpus: {c.most_common(100)}\\n')\n",
    "print(f'Number of different words in the corpus: {len(c)}')"
   ]
  },
  {
   "cell_type": "code",
   "execution_count": null,
   "metadata": {},
   "outputs": [],
   "source": [
    "from gensim.models import Word2Vec\n",
    "\n",
    "#sg: training algorithm. 1 for skipgram, 0 for cbow\n",
    "%time w2v_model = Word2Vec(sg=1, sentences=corpusWN, size=100, window=5, min_count=5, iter=5)"
   ]
  },
  {
   "cell_type": "code",
   "execution_count": null,
   "metadata": {},
   "outputs": [],
   "source": [
    "from gensim.models import FastText\n",
    "\n",
    "%time ft_model = FastText(sg=1, sentences=corpusWN, size=100, window=5, min_count=5, iter=5, min_n=4, max_n=10)\n",
    "# ft_model.build_vocab(sentences=corpus)"
   ]
  },
  {
   "cell_type": "code",
   "execution_count": null,
   "metadata": {},
   "outputs": [],
   "source": [
    "len(w2v_model.wv.vocab)"
   ]
  },
  {
   "cell_type": "code",
   "execution_count": null,
   "metadata": {},
   "outputs": [],
   "source": [
    "len(w2v_model.wv.vocab)\n",
    "from gensim.models import KeyedVectors \n",
    "w2v_model.wv.save_word2vec_format('C:/Users/David/Downloads/word_embeddings/vec_models/w2v_model4.bin', binary=True)\n",
    "ft_model.wv.save_word2vec_format('C:/Users/David/Downloads/word_embeddings/vec_models/ft_model4.vec', binary=False)"
   ]
  },
  {
   "cell_type": "code",
   "execution_count": null,
   "metadata": {},
   "outputs": [],
   "source": [
    "ft_model.most_similar('webex', topn= 20)"
   ]
  },
  {
   "cell_type": "code",
   "execution_count": null,
   "metadata": {},
   "outputs": [],
   "source": [
    "def restrict_w2v(w2v, restricted_word_set):\n",
    "    w2v.most_similar(list(restricted_word_set)[0]) #to inizialize norms\n",
    "    new_vectors = []\n",
    "    new_vocab = {}\n",
    "    new_index2entity = []\n",
    "    new_vectors_norm = []\n",
    "\n",
    "    for i in range(len(w2v.vocab)):\n",
    "        word = w2v.index2entity[i]\n",
    "        vec = w2v.vectors[i]\n",
    "        vocab = w2v.vocab[word]\n",
    "        vec_norm = w2v.vectors_norm[i]\n",
    "        if word in restricted_word_set:\n",
    "            vocab.index = len(new_index2entity)\n",
    "            new_index2entity.append(word)\n",
    "            new_vocab[word] = vocab\n",
    "            new_vectors.append(vec)\n",
    "            new_vectors_norm.append(vec_norm)\n",
    "\n",
    "    w2v.vocab = new_vocab\n",
    "    w2v.vectors = np.array(new_vectors)\n",
    "    w2v.index2entity = np.array(new_index2entity)\n",
    "    w2v.index2word = np.array(new_index2entity)\n",
    "    w2v.vectors_norm = np.array(new_vectors_norm)"
   ]
  },
  {
   "cell_type": "code",
   "execution_count": null,
   "metadata": {},
   "outputs": [],
   "source": [
    "from gensim.models import KeyedVectors\n",
    "w2v_model = KeyedVectors.load_word2vec_format('C:/Users/David/Downloads/word_embeddings/vec_models/ft_model4.vec', binary=False)\n",
    "# top 100 words\n",
    "\n",
    "#stop = stopwords.words('english')\n",
    "#stop.extend(['good', 'bad', 'dont', 'many', 'love', 'excellent', 'would', 'perfect', 'even', 'great','a','for'])\n",
    "\n",
    "\n",
    "top100WN = w2v_model.wv.index2entity[:5]\n",
    "print(top100WN)"
   ]
  },
  {
   "cell_type": "code",
   "execution_count": null,
   "metadata": {},
   "outputs": [],
   "source": [
    "#!pip install adjustText\n",
    "import numpy as np\n",
    "import matplotlib.pyplot as plt\n",
    "import matplotlib\n",
    "import random\n",
    "from adjustText import adjust_text\n",
    "random.seed(42)\n",
    "plt.rcParams['figure.figsize'] = 25, 12\n",
    "\n",
    "import umap\n",
    "def train_umap(model):\n",
    "    random.seed(42)\n",
    "    np.random.seed(42)\n",
    "    X = model[model.wv.vocab]\n",
    "    reducer = umap.UMAP(n_neighbors=2000, metric = 'cosine', learning_rate=0.01,#0.01\n",
    "                        n_epochs=2000, spread=5, min_dist=0.5, random_state=42)#min_dist=0.5\n",
    "    X = model[model.wv.vocab]\n",
    "    embedding = reducer.fit_transform(X)\n",
    "\n",
    "    dfWN = pd.DataFrame(embedding)\n",
    "    dfWN['token'] = model.wv.vocab\n",
    "    dfWN.columns  = ['x', 'y', 'token']\n",
    "    return dfWN\n",
    "\n",
    "word_setWN = {w for w in top100WN if w in w2v_model.vocab}\n",
    "restrict_w2v(w2v_model, word_setWN)\n",
    "top100umapWN = train_umap(w2v_model)\n",
    "top100umapWN"
   ]
  },
  {
   "cell_type": "code",
   "execution_count": null,
   "metadata": {},
   "outputs": [],
   "source": [
    "from adjustText import adjust_text\n",
    "text2 = []\n",
    "for index, row in top100umapWN.iterrows():\n",
    "    plt.scatter(row['x'], row['y'], c='red', alpha=0.6, marker='o', s=100, edgecolors='black')\n",
    "    text2.append(plt.annotate(row['token'], alpha=0.5, xy=(row['x'], row['y']), ha='right', va='bottom', size=14))\n",
    "    \n",
    "                \n",
    "test_UmapWN=adjust_text(text2)\n",
    "test_UmapWN"
   ]
  },
  {
   "cell_type": "code",
   "execution_count": null,
   "metadata": {},
   "outputs": [],
   "source": [
    "from adjustText import adjust_text\n",
    "text = []\n",
    "text1= []\n",
    "text2=[]\n",
    "text3=[]   \n",
    "    \n",
    "for index, row in top100umapWP.iterrows():\n",
    "    plt.scatter(row['x'], row['y'], c='green', alpha=0.6, marker='^', s=100, edgecolors='black')\n",
    "    text.append(plt.annotate(row['token'], alpha=0.5, xy=(row['x'], row['y']), ha='right', va='bottom', size=14))\n",
    "    \n",
    "for index, row in top100umapWN.iterrows():\n",
    "    \n",
    "    plt.scatter(row['x'], row['y'], c='red', alpha=0.6, marker='^', s=100, edgecolors='black')\n",
    "    text1.append(plt.annotate(row['token'], alpha=0.5, xy=(row['x'], row['y']), ha='right', va='bottom', size=14))\n",
    "    \n",
    "\n",
    "                \n",
    "#test_UmapN=adjust_text(text)\n",
    "#test_UmapN"
   ]
  },
  {
   "cell_type": "code",
   "execution_count": null,
   "metadata": {},
   "outputs": [],
   "source": [
    "from adjustText import adjust_text\n",
    "text = []\n",
    "text1= []\n",
    "text2=[]\n",
    "text3=[]   \n",
    "    \n",
    "#marker = ['o','^']\n",
    "\n",
    "for index, row in top100umapWP.iterrows():\n",
    "    plt.scatter(row['x'], row['y'], c='green', alpha=0.6, marker='^', s=100, edgecolors='black')\n",
    "    text.append(plt.annotate(row['token'], alpha=0.5, xy=(row['x'], row['y']), ha='right', va='bottom', size=14))\n",
    "    \n",
    "for index, row in top100umapWN.iterrows():\n",
    "    plt.scatter(row['x'], row['y'], c='red', alpha=0.6, marker='^', s=100, edgecolors='black')\n",
    "    text1.append(plt.annotate(row['token'], alpha=0.5, xy=(row['x'], row['y']), ha='right', va='bottom', size=14))\n",
    "    \n",
    "\n",
    "for index, row in top100umap.iterrows():\n",
    "    plt.scatter(row['x'], row['y'], c='green', alpha=0.6, marker='o', s=100, edgecolors='black')\n",
    "    text2.append(plt.annotate(row['token'], alpha=0.5, xy=(row['x'], row['y']), ha='right', va='bottom', size=14))\n",
    "    \n",
    "for index, row in top100umapN.iterrows():\n",
    "    plt.scatter(row['x'], row['y'], c='red', alpha=0.6, marker='o', s=100, edgecolors='black')\n",
    "    text3.append(plt.annotate(row['token'], alpha=0.5, xy=(row['x'], row['y']), ha='right', va='bottom', size=14))\n",
    "    \n",
    "#plt.legend(['zoom','webex'],fontsize=20, loc= 2)\n",
    "\n",
    "plt.title('Zoom & Webex Vantaggi e Svantaggi')\n",
    "plt.show()"
   ]
  },
  {
   "cell_type": "code",
   "execution_count": null,
   "metadata": {},
   "outputs": [],
   "source": [
    "import pandas as pd\n",
    "\n",
    "df3 = pd.read_csv(\"C:/Users/David/Downloads/TeamViewerVantSvant.csv\")\n",
    "#df\n",
    "\n",
    "df3 "
   ]
  },
  {
   "cell_type": "code",
   "execution_count": null,
   "metadata": {},
   "outputs": [],
   "source": [
    "from langdetect import detect\n",
    "langlist=[]\n",
    "for i in range(0,len(df3)):\n",
    "    Lang= detect(df3['Vantaggi'][i])\n",
    "    langlist.append(Lang)\n",
    "    df3['Lang'][i] = langlist[i]\n",
    "#df"
   ]
  },
  {
   "cell_type": "code",
   "execution_count": null,
   "metadata": {},
   "outputs": [],
   "source": [
    "df3.head()"
   ]
  },
  {
   "cell_type": "code",
   "execution_count": null,
   "metadata": {},
   "outputs": [],
   "source": [
    "df_03 = df3[~(df3['Lang']!='en')]\n",
    "df_03"
   ]
  },
  {
   "cell_type": "code",
   "execution_count": null,
   "metadata": {},
   "outputs": [],
   "source": [
    "df_not_na2 = df_03[~(df_03['Vantaggi'].isna()) & ~(df_03['Incovenienti'].isna())]\n",
    "text_05 = df_not_na2['Vantaggi']\n",
    "#y = df_not_na['bin_y'].tolist()\n",
    "text_05[5]"
   ]
  },
  {
   "cell_type": "code",
   "execution_count": null,
   "metadata": {},
   "outputs": [],
   "source": [
    "from tqdm import tqdm\n",
    "from nltk.stem import WordNetLemmatizer\n",
    "\n",
    "#nltk.download()\n",
    "\n",
    "lemmatizer = WordNetLemmatizer()\n",
    "\n",
    "text4 = text_05.str.lower().str.replace('[^\\w\\s]',' ')\n",
    "text4 = text4.str.split()\n",
    "# text = text.apply(lambda x: [lemmatizer.lemmatize(word) for sentence in x for word in sentence])\n",
    "text4 = text4.apply(lambda x: [lemmatizer.lemmatize(sent) for sent in x])\n",
    "print(text4[5])"
   ]
  },
  {
   "cell_type": "code",
   "execution_count": null,
   "metadata": {},
   "outputs": [],
   "source": [
    "from gensim.models.phrases import Phrases\n",
    "from nltk.corpus import stopwords\n",
    "\n",
    "\n",
    "stop = stopwords.words('english')\n",
    "stop.extend(['good', 'bad', 'dont', 'many', 'love', 'excellent', 'would', 'perfect', 'even', 'great','a','for','go', 'ha','wa', 'withouth', 'u', 'etc','asana',\n",
    "               'google_meet',\n",
    "               'go_to_meeting',\n",
    "               'zoom',\n",
    "               'teamviewer',\n",
    "               'webex',\n",
    "               'microsoft_teams','like','others','get','need','one''withouth','also','lot','thing'])\n",
    "\n",
    "\n",
    "\n",
    "\n",
    "bigram4 = Phrases(text4, min_count=5, threshold=0.5, common_terms=stop)\n",
    "print(bigram4[text4[5]])\n"
   ]
  },
  {
   "cell_type": "code",
   "execution_count": null,
   "metadata": {},
   "outputs": [],
   "source": [
    "bigrams4 = [bigram4[item] for item in text4]\n",
    "ngrams4 = [bigram4[item] for item in bigrams4]\n",
    "print(ngrams4[5])"
   ]
  },
  {
   "cell_type": "code",
   "execution_count": null,
   "metadata": {},
   "outputs": [],
   "source": [
    "from nltk.corpus import stopwords\n",
    "stop = stopwords.words('english')\n",
    "stop.extend(['good', 'bad', 'dont', 'many', 'love', 'excellent', 'would', 'perfect', 'even', 'great','a','for','go', 'ha','wa', 'withouth', 'u', 'etc','asana',\n",
    "               'google_meet',\n",
    "               'go_to_meeting',\n",
    "               'zoom',\n",
    "               'teamviewer','team_viewer',\n",
    "               'webex',\n",
    "               'microsoft_teams','google_hangout','like','others','get','need','one''withouth','also','lot','thing'])\n",
    "print(ngrams4[0])\n",
    "train_sentences4 = []\n",
    "for row in ngrams4:\n",
    "    train_sentences4.append(' '.join([item for item in row if item not in stop]))\n",
    "#train_sentences = [' '.join(item) for item in ngrams]\n",
    "train_sentences4[0]"
   ]
  },
  {
   "cell_type": "code",
   "execution_count": null,
   "metadata": {},
   "outputs": [],
   "source": [
    "import numpy as np\n",
    "from sklearn.feature_extraction.text import CountVectorizer, TfidfVectorizer\n",
    "#vectorizer = CountVectorizer(ngram_range=(1, 1), max_features=1000)\n",
    "vectorizer = TfidfVectorizer(ngram_range=(1, 3), max_features=1000)\n",
    "X = vectorizer.fit_transform(train_sentences4)\n",
    "feature_names4 = vectorizer.get_feature_names()\n",
    "print(feature_names4)"
   ]
  },
  {
   "cell_type": "code",
   "execution_count": null,
   "metadata": {},
   "outputs": [],
   "source": [
    "df_not_na2['Vantaggi'] = train_sentences4\n",
    "df_not_na2.to_csv('C:/Users/David/Downloads/senteces5.csv', index=None)\n",
    "\n",
    "\n",
    "corpusTVP = df_not_na2['Vantaggi']\n",
    "corpusTVP = corpusTVP.str.split()\n",
    "corpusTVP = corpusTVP.apply(lambda x: [lemmatizer.lemmatize(item) for item in x if item not in stop])\n",
    "corpusTVP = corpusTVP.apply(lambda x: [item for item in x if not item.isnumeric()])\n",
    "corpusTVP"
   ]
  },
  {
   "cell_type": "code",
   "execution_count": null,
   "metadata": {},
   "outputs": [],
   "source": [
    "from collections import Counter\n",
    "c = Counter()\n",
    "for feature_names4 in corpusTVP:\n",
    "    c.update(feature_names4)   \n",
    "\n",
    "print(f'Most common words in the corpus: {c.most_common(100)}\\n')\n",
    "print(f'Number of different words in the corpus: {len(c)}')"
   ]
  },
  {
   "cell_type": "code",
   "execution_count": null,
   "metadata": {},
   "outputs": [],
   "source": [
    "from gensim.models import Word2Vec\n",
    "\n",
    "#sg: training algorithm. 1 for skipgram, 0 for cbow\n",
    "%time w2v_model = Word2Vec(sg=1, sentences=corpusTVP, size=100, window=5, min_count=5, iter=5)"
   ]
  },
  {
   "cell_type": "code",
   "execution_count": null,
   "metadata": {},
   "outputs": [],
   "source": [
    "from gensim.models import FastText\n",
    "\n",
    "%time ft_model = FastText(sg=1, sentences=corpusTVP, size=100, window=5, min_count=5, iter=5, min_n=4, max_n=10)\n",
    "# ft_model.build_vocab(sentences=corpus)"
   ]
  },
  {
   "cell_type": "code",
   "execution_count": null,
   "metadata": {},
   "outputs": [],
   "source": [
    "len(w2v_model.wv.vocab)\n",
    "from gensim.models import KeyedVectors \n",
    "w2v_model.wv.save_word2vec_format('C:/Users/David/Downloads/word_embeddings/vec_models/w2v_model5.bin', binary=True)\n",
    "ft_model.wv.save_word2vec_format('C:/Users/David/Downloads/word_embeddings/vec_models/ft_model5.vec', binary=False)"
   ]
  },
  {
   "cell_type": "code",
   "execution_count": null,
   "metadata": {},
   "outputs": [],
   "source": [
    "ft_model.most_similar('teamviewer', topn= 20)"
   ]
  },
  {
   "cell_type": "code",
   "execution_count": null,
   "metadata": {},
   "outputs": [],
   "source": [
    "from gensim.models import KeyedVectors\n",
    "w2v_model = KeyedVectors.load_word2vec_format('C:/Users/David/Downloads/word_embeddings/vec_models/ft_model5.vec', binary=False)\n",
    "# top 100 words\n",
    "\n",
    "#stop = stopwords.words('english')\n",
    "#stop.extend(['good', 'bad', 'dont', 'many', 'love', 'excellent', 'would', 'perfect', 'even', 'great','a','for'])\n",
    "\n",
    "\n",
    "top100TVP = w2v_model.wv.index2entity[:5]\n",
    "print(top100TVP)"
   ]
  },
  {
   "cell_type": "code",
   "execution_count": null,
   "metadata": {},
   "outputs": [],
   "source": [
    "#!pip install adjustText\n",
    "import numpy as np\n",
    "import matplotlib.pyplot as plt\n",
    "import matplotlib\n",
    "import random\n",
    "from adjustText import adjust_text\n",
    "random.seed(42)\n",
    "plt.rcParams['figure.figsize'] = 25, 12\n",
    "\n",
    "import umap\n",
    "def train_umap(model):\n",
    "    random.seed(42)\n",
    "    np.random.seed(42)\n",
    "    X = model[model.wv.vocab]\n",
    "    reducer = umap.UMAP(n_neighbors=2000, metric = 'cosine', learning_rate=0.01,#0.01\n",
    "                        n_epochs=2000, spread=5, min_dist=0.5, random_state=42)#min_dist=0.5\n",
    "    X = model[model.wv.vocab]\n",
    "    embedding = reducer.fit_transform(X)\n",
    "\n",
    "    dfTVP = pd.DataFrame(embedding)\n",
    "    dfTVP['token'] = model.wv.vocab\n",
    "    dfTVP.columns  = ['x', 'y', 'token']\n",
    "    return dfTVP\n",
    "\n",
    "word_setTVP = {w for w in top100TVP if w in w2v_model.vocab}\n",
    "restrict_w2v(w2v_model, word_setTVP)\n",
    "top100umapTVP = train_umap(w2v_model)\n",
    "top100umapTVP"
   ]
  },
  {
   "cell_type": "code",
   "execution_count": null,
   "metadata": {},
   "outputs": [],
   "source": [
    "from adjustText import adjust_text\n",
    "text2 = []\n",
    "for index, row in top100umapTVP.iterrows():\n",
    "    plt.scatter(row['x'], row['y'], c='green', alpha=0.6, marker='v', s=100, edgecolors='black')\n",
    "    text2.append(plt.annotate(row['token'], alpha=0.5, xy=(row['x'], row['y']), ha='right', va='bottom', size=14))\n",
    "    \n",
    "                \n",
    "test_UmapTVP=adjust_text(text2)\n",
    "test_UmapTVP"
   ]
  },
  {
   "cell_type": "code",
   "execution_count": null,
   "metadata": {},
   "outputs": [],
   "source": [
    "text_06 = df_not_na2['Incovenienti']\n",
    "#y = df_not_na['bin_y'].tolist()\n",
    "text_06[5]"
   ]
  },
  {
   "cell_type": "code",
   "execution_count": null,
   "metadata": {},
   "outputs": [],
   "source": [
    "from tqdm import tqdm\n",
    "from nltk.stem import WordNetLemmatizer\n",
    "\n",
    "#nltk.download()\n",
    "\n",
    "lemmatizer = WordNetLemmatizer()\n",
    "\n",
    "text5 = text_06.str.lower().str.replace('[^\\w\\s]',' ')\n",
    "text5 = text5.str.split()\n",
    "# text = text.apply(lambda x: [lemmatizer.lemmatize(word) for sentence in x for word in sentence])\n",
    "text5 = text5.apply(lambda x: [lemmatizer.lemmatize(sent) for sent in x])\n",
    "print(text5[5])"
   ]
  },
  {
   "cell_type": "code",
   "execution_count": null,
   "metadata": {},
   "outputs": [],
   "source": [
    "from gensim.models.phrases import Phrases\n",
    "from nltk.corpus import stopwords\n",
    "\n",
    "\n",
    "stop = stopwords.words('english')\n",
    "stop.extend(['good', 'bad', 'dont', 'many', 'love', 'excellent', 'would', 'perfect', 'even', 'great','a','for','go', 'ha','wa', 'withouth', 'u', 'etc','asana',\n",
    "               'google_meet',\n",
    "               'go_to_meeting',\n",
    "               'zoom',\n",
    "               'teamviewer',\n",
    "               'webex',\n",
    "               'microsoft_teams','like','others','get','need','one''withouth','also','lot','thing'])\n",
    "\n",
    "\n",
    "\n",
    "\n",
    "bigram5 = Phrases(text5, min_count=5, threshold=0.5, common_terms=stop)\n",
    "print(bigram5[text5[5]])"
   ]
  },
  {
   "cell_type": "code",
   "execution_count": null,
   "metadata": {},
   "outputs": [],
   "source": [
    "bigrams5 = [bigram5[item] for item in text5]\n",
    "ngrams5 = [bigram5[item] for item in bigrams5]\n",
    "print(ngrams5[5])"
   ]
  },
  {
   "cell_type": "code",
   "execution_count": null,
   "metadata": {},
   "outputs": [],
   "source": [
    "from nltk.corpus import stopwords\n",
    "stop = stopwords.words('english')\n",
    "stop.extend(['good', 'bad', 'dont', 'many', 'love', 'excellent', 'would', 'perfect', 'even', 'great','a','for','go', 'ha','wa', 'withouth', 'u', 'etc','asana',\n",
    "               'google_meet',\n",
    "               'go_to_meeting',\n",
    "               'zoom',\n",
    "               'teamviewer','team_viewer',\n",
    "               'webex',\n",
    "               'microsoft_teams','google_hangout','like','others','get','need','one''withouth','also','lot','thing'])\n",
    "print(ngrams5[0])\n",
    "train_sentences5 = []\n",
    "for row in ngrams5:\n",
    "    train_sentences5.append(' '.join([item for item in row if item not in stop]))\n",
    "#train_sentences = [' '.join(item) for item in ngrams]\n",
    "train_sentences5[0]"
   ]
  },
  {
   "cell_type": "code",
   "execution_count": null,
   "metadata": {},
   "outputs": [],
   "source": [
    "import numpy as np\n",
    "from sklearn.feature_extraction.text import CountVectorizer, TfidfVectorizer\n",
    "#vectorizer = CountVectorizer(ngram_range=(1, 1), max_features=1000)\n",
    "vectorizer = TfidfVectorizer(ngram_range=(1, 3), max_features=1000)\n",
    "X = vectorizer.fit_transform(train_sentences5)\n",
    "feature_names5 = vectorizer.get_feature_names()\n",
    "print(feature_names5)"
   ]
  },
  {
   "cell_type": "code",
   "execution_count": null,
   "metadata": {},
   "outputs": [],
   "source": [
    "df_not_na2['Incovenienti'] = train_sentences5\n",
    "df_not_na2.to_csv('C:/Users/David/Downloads/senteces6.csv', index=None)\n",
    "\n",
    "\n",
    "corpusTVN = df_not_na2['Incovenienti']\n",
    "corpusTVN = corpusTVN.str.split()\n",
    "corpusTVN = corpusTVN.apply(lambda x: [lemmatizer.lemmatize(item) for item in x if item not in stop])\n",
    "corpusTVN = corpusTVN.apply(lambda x: [item for item in x if not item.isnumeric()])\n",
    "corpusTVN"
   ]
  },
  {
   "cell_type": "code",
   "execution_count": null,
   "metadata": {},
   "outputs": [],
   "source": [
    "from collections import Counter\n",
    "c = Counter()\n",
    "for feature_names5 in corpusTVN:\n",
    "    c.update(feature_names5)   \n",
    "\n",
    "print(f'Most common words in the corpus: {c.most_common(100)}\\n')\n",
    "print(f'Number of different words in the corpus: {len(c)}')"
   ]
  },
  {
   "cell_type": "code",
   "execution_count": null,
   "metadata": {},
   "outputs": [],
   "source": [
    "from gensim.models import FastText\n",
    "\n",
    "%time ft_model = FastText(sg=1, sentences=corpusTVN, size=100, window=5, min_count=5, iter=5, min_n=4, max_n=10)\n",
    "# ft_model.build_vocab(sentences=corpus)"
   ]
  },
  {
   "cell_type": "code",
   "execution_count": null,
   "metadata": {},
   "outputs": [],
   "source": [
    "from gensim.models import KeyedVectors \n",
    "w2v_model.wv.save_word2vec_format('C:/Users/David/Downloads/word_embeddings/vec_models/w2v_model6.bin', binary=True)\n",
    "ft_model.wv.save_word2vec_format('C:/Users/David/Downloads/word_embeddings/vec_models/ft_model6.vec', binary=False)"
   ]
  },
  {
   "cell_type": "code",
   "execution_count": null,
   "metadata": {},
   "outputs": [],
   "source": [
    "ft_model.most_similar('teamviewer', topn= 20)"
   ]
  },
  {
   "cell_type": "code",
   "execution_count": null,
   "metadata": {},
   "outputs": [],
   "source": [
    "from gensim.models import KeyedVectors\n",
    "w2v_model = KeyedVectors.load_word2vec_format('C:/Users/David/Downloads/word_embeddings/vec_models/ft_model6.vec', binary=False)\n",
    "# top 100 words\n",
    "\n",
    "#stop = stopwords.words('english')\n",
    "#stop.extend(['good', 'bad', 'dont', 'many', 'love', 'excellent', 'would', 'perfect', 'even', 'great','a','for'])\n",
    "\n",
    "\n",
    "top100TVN = w2v_model.wv.index2entity[:5]\n",
    "print(top100TVN)"
   ]
  },
  {
   "cell_type": "code",
   "execution_count": null,
   "metadata": {},
   "outputs": [],
   "source": [
    "#!pip install adjustText\n",
    "import numpy as np\n",
    "import matplotlib.pyplot as plt\n",
    "import matplotlib\n",
    "import random\n",
    "from adjustText import adjust_text\n",
    "random.seed(42)\n",
    "plt.rcParams['figure.figsize'] = 25, 12\n",
    "\n",
    "import umap\n",
    "def train_umap(model):\n",
    "    random.seed(42)\n",
    "    np.random.seed(42)\n",
    "    X = model[model.wv.vocab]\n",
    "    reducer = umap.UMAP(n_neighbors=2000, metric = 'cosine', learning_rate=0.01,#0.01\n",
    "                        n_epochs=2000, spread=5, min_dist=0.5, random_state=42)#min_dist=0.5\n",
    "    X = model[model.wv.vocab]\n",
    "    embedding = reducer.fit_transform(X)\n",
    "\n",
    "    dfTVN = pd.DataFrame(embedding)\n",
    "    dfTVN['token'] = model.wv.vocab\n",
    "    dfTVN.columns  = ['x', 'y', 'token']\n",
    "    return dfTVN\n",
    "\n",
    "word_setTVN = {w for w in top100TVN if w in w2v_model.vocab}\n",
    "restrict_w2v(w2v_model, word_setTVN)\n",
    "top100umapTVN = train_umap(w2v_model)\n",
    "top100umapTVN"
   ]
  },
  {
   "cell_type": "code",
   "execution_count": null,
   "metadata": {},
   "outputs": [],
   "source": [
    "from adjustText import adjust_text\n",
    "text2 = []\n",
    "for index, row in top100umapTVN.iterrows():\n",
    "    plt.scatter(row['x'], row['y'], c='red', alpha=0.6, marker='v', s=100, edgecolors='black')\n",
    "    text2.append(plt.annotate(row['token'], alpha=0.5, xy=(row['x'], row['y']), ha='right', va='bottom', size=14))\n",
    "    \n",
    "                \n",
    "test_UmapTVN=adjust_text(text2)\n",
    "test_UmapTVN"
   ]
  },
  {
   "cell_type": "code",
   "execution_count": null,
   "metadata": {},
   "outputs": [],
   "source": [
    "text2 = []\n",
    "text3 = []\n",
    "for index, row in top100umapTVP.iterrows():\n",
    "    plt.scatter(row['x'], row['y'], c='green', alpha=0.6, marker='v', s=100, edgecolors='black')\n",
    "    text2.append(plt.annotate(row['token'], alpha=0.5, xy=(row['x'], row['y']), ha='right', va='bottom', size=14))\n",
    "\n",
    "for index, row in top100umapTVN.iterrows():\n",
    "    plt.scatter(row['x'], row['y'], c='red', alpha=0.6, marker='v', s=100, edgecolors='black')\n",
    "    text3.append(plt.annotate(row['token'], alpha=0.5, xy=(row['x'], row['y']), ha='right', va='bottom', size=14))\n"
   ]
  },
  {
   "cell_type": "code",
   "execution_count": null,
   "metadata": {},
   "outputs": [],
   "source": [
    "import matplotlib\n",
    "from matplotlib.pyplot import cm\n",
    "\n",
    "cat_unique = list(wn_plot.category.unique())\n",
    "n_cat = len(cat_unique)\n",
    "\n",
    "markers = [ \"o\" ,\"v\" , \"^\" , \"<\" , \">\" , \"1\" , \"2\" , \"3\" , \"4\" , \"8\" , \"s\" , \"p\" , \"P\" , \"*\" ,\n",
    "           \"h\" , \"H\" , \"+\" , \"x\" , \"X\" , \"D\" , \"d\" , \"|\" , \"_\"]\n",
    "markers = markers[:n_cat]\n",
    "\n"
   ]
  },
  {
   "cell_type": "code",
   "execution_count": null,
   "metadata": {},
   "outputs": [],
   "source": [
    "from adjustText import adjust_text\n",
    "text = []\n",
    "text1= []\n",
    "text2=[]\n",
    "text3=[]   \n",
    "text4=[]\n",
    "text5=[]   \n",
    "#marker = ['o','^']\n",
    "\n",
    "for index, row in top100umapWP.iterrows():\n",
    "    plt.scatter(row['x'], row['y'], c='green', alpha=0.6, marker='^', s=100, edgecolors='black')\n",
    "    text.append(plt.annotate(row['token'], alpha=0.5, xy=(row['x'], row['y']), ha='right', va='bottom', size=14))\n",
    "    \n",
    "for index, row in top100umapWN.iterrows():\n",
    "    plt.scatter(row['x'], row['y'], c='red', alpha=0.6, marker='^', s=100, edgecolors='black')\n",
    "    text1.append(plt.annotate(row['token'], alpha=0.5, xy=(row['x'], row['y']), ha='right', va='bottom', size=14))\n",
    "    \n",
    "\n",
    "for index, row in top100umap.iterrows():\n",
    "    plt.scatter(row['x'], row['y'], c='green', alpha=0.6, marker='o', s=100, edgecolors='black')\n",
    "    text2.append(plt.annotate(row['token'], alpha=0.5, xy=(row['x'], row['y']), ha='right', va='bottom', size=14))\n",
    "    \n",
    "for index, row in top100umapN.iterrows():\n",
    "    plt.scatter(row['x'], row['y'], c='red', alpha=0.6, marker='o', s=100, edgecolors='black')\n",
    "    text3.append(plt.annotate(row['token'], alpha=0.5, xy=(row['x'], row['y']), ha='right', va='bottom', size=14))\n",
    "    \n",
    "for index, row in top100umapTVP.iterrows():\n",
    "    plt.scatter(row['x'], row['y'], c='green', alpha=0.6, marker='v', s=100, edgecolors='black')\n",
    "    text4.append(plt.annotate(row['token'], alpha=0.5, xy=(row['x'], row['y']), ha='right', va='bottom', size=14))\n",
    "\n",
    "for index, row in top100umapTVN.iterrows():\n",
    "    plt.scatter(row['x'], row['y'], c='red', alpha=0.6, marker='v', s=100, edgecolors='black')\n",
    "    text5.append(plt.annotate(row['token'], alpha=0.5, xy=(row['x'], row['y']), ha='right', va='bottom', size=14))\n",
    "    \n",
    "#m1 = '^'\n",
    "#m2 = 'o'\n",
    "#m3 = 'v'\n",
    "\n",
    "#import matplotlib.patches as mpatches\n",
    "#import matplotlib.pyplot as plt\n",
    "import matplotlib.lines as mlines\n",
    "\n",
    "blue_line = mlines.Line2D([], [],color = \"green\", marker='^',\n",
    "                          markersize=15, label='webex-vantaggi')\n",
    "\n",
    "lue_line = mlines.Line2D([], [],color = \"green\", marker='o',\n",
    "                          markersize=15, label='zoom-vantaggi')\n",
    "ue_line = mlines.Line2D([], [],color = \"green\", marker='v',\n",
    "                          markersize=15, label='teamviewer-vantaggi')\n",
    "\n",
    "glue_line = mlines.Line2D([], [],color = 'red', marker='^',\n",
    "                          markersize=15, label='webex-Inconvenienti')\n",
    "\n",
    "rue_line = mlines.Line2D([], [],color = 'red', marker='o',\n",
    "                          markersize=15, label='zoom-Inconvenienti')\n",
    "ie_line = mlines.Line2D([], [],color = 'red', marker='v',\n",
    "                          markersize=15, label='teamviewer-Inconvenienti')\n",
    "\n",
    "#red_patch = mpatches.Patch(marker = '^', label='webex')\n",
    "#bad_patch = mpatches.Patch(marker = 'o', label='zoom')\n",
    "#ted_patch = mpatches.Patch(marker = 'v', label='teamviewer')\n",
    "\n",
    "plt.legend(handles=[blue_line,lue_line,ue_line,glue_line,rue_line,ie_line],fontsize=20)\n",
    "\n",
    "\n",
    "\n",
    "plt.title('Zoom & Webex & Team Viewer Vantaggi e Svantaggi')\n",
    "plt.show()\n",
    "\n",
    "\n",
    "\n",
    "\n",
    "\n"
   ]
  },
  {
   "cell_type": "code",
   "execution_count": null,
   "metadata": {},
   "outputs": [],
   "source": []
  }
 ],
 "metadata": {
  "kernelspec": {
   "display_name": "Python 3",
   "language": "python",
   "name": "python3"
  },
  "language_info": {
   "codemirror_mode": {
    "name": "ipython",
    "version": 3
   },
   "file_extension": ".py",
   "mimetype": "text/x-python",
   "name": "python",
   "nbconvert_exporter": "python",
   "pygments_lexer": "ipython3",
   "version": "3.8.3"
  }
 },
 "nbformat": 4,
 "nbformat_minor": 4
}
