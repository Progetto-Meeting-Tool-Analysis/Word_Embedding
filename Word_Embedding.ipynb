{
 "cells": [
  {
   "cell_type": "markdown",
   "metadata": {},
   "source": [
    "### Import your corpus"
   ]
  },
  {
   "cell_type": "markdown",
   "metadata": {},
   "source": [
    "Wikidata is a collaboratively edited knowledgebase provides a common source of data for Wikipedia.\n",
    "We use a slice of 500k documents of the 2008 dump"
   ]
  },
  {
   "cell_type": "code",
   "execution_count": 2,
   "metadata": {},
   "outputs": [],
   "source": [
    "import pandas as pd\n",
    "\n",
    "df = pd.read_csv('D:/Master/01_Materie/dataset_training_inconvenienti_sentences.csv')\n"
   ]
  },
  {
   "cell_type": "code",
   "execution_count": 3,
   "metadata": {},
   "outputs": [],
   "source": [
    "df = df.rename(columns = {'0': 'inconvenienti'})\n"
   ]
  },
  {
   "cell_type": "code",
   "execution_count": null,
   "metadata": {},
   "outputs": [],
   "source": []
  },
  {
   "cell_type": "code",
   "execution_count": 4,
   "metadata": {},
   "outputs": [
    {
     "data": {
      "text/plain": [
       "0       say three max four participants, youre going g...\n",
       "1       meeting interface kind old-ish. lag quite lot ...\n",
       "2       zoom ha flaw software already integrated syste...\n",
       "3       inconstancy seemingly constant adjustment feat...\n",
       "4       issue conferencing software free use zoom free...\n",
       "                              ...                        \n",
       "8943          Less_feature compared product_in_the_amrket\n",
       "8944          Less_feature compared product_in_the_amrket\n",
       "8945          Less_feature compared product_in_the_amrket\n",
       "8946          Less_feature compared product_in_the_amrket\n",
       "8947                          Was slow load lagged I used\n",
       "Name: inconvenienti, Length: 8948, dtype: object"
      ]
     },
     "execution_count": 4,
     "metadata": {},
     "output_type": "execute_result"
    }
   ],
   "source": [
    "text_0 = df['inconvenienti']\n",
    "text_0"
   ]
  },
  {
   "cell_type": "markdown",
   "metadata": {},
   "source": [
    "### Create embeddings"
   ]
  },
  {
   "cell_type": "markdown",
   "metadata": {},
   "source": [
    "#### Remove empty rows"
   ]
  },
  {
   "cell_type": "code",
   "execution_count": 5,
   "metadata": {},
   "outputs": [
    {
     "name": "stderr",
     "output_type": "stream",
     "text": [
      "[nltk_data] Downloading package wordnet to\n",
      "[nltk_data]     C:\\Users\\estra\\AppData\\Roaming\\nltk_data...\n",
      "[nltk_data]   Package wordnet is already up-to-date!\n",
      "[nltk_data] Downloading package stopwords to\n",
      "[nltk_data]     C:\\Users\\estra\\AppData\\Roaming\\nltk_data...\n",
      "[nltk_data]   Package stopwords is already up-to-date!\n"
     ]
    },
    {
     "data": {
      "text/plain": [
       "True"
      ]
     },
     "execution_count": 5,
     "metadata": {},
     "output_type": "execute_result"
    }
   ],
   "source": [
    "import nltk\n",
    "nltk.download('wordnet')\n",
    "nltk.download('stopwords')"
   ]
  },
  {
   "cell_type": "code",
   "execution_count": 6,
   "metadata": {},
   "outputs": [
    {
     "data": {
      "text/plain": [
       "0       [say, three, max, four, participant, going, go...\n",
       "1       [meeting, interface, kind, oldish, lag, quite,...\n",
       "2       [zoom, ha, flaw, software, already, integrated...\n",
       "3       [inconstancy, seemingly, constant, adjustment,...\n",
       "4       [issue, conferencing, software, free, use, zoo...\n",
       "                              ...                        \n",
       "8943      [less_feature, compared, product_in_the_amrket]\n",
       "8944      [less_feature, compared, product_in_the_amrket]\n",
       "8945      [less_feature, compared, product_in_the_amrket]\n",
       "8946      [less_feature, compared, product_in_the_amrket]\n",
       "8947                           [slow, load, lagged, used]\n",
       "Name: inconvenienti, Length: 8947, dtype: object"
      ]
     },
     "execution_count": 6,
     "metadata": {},
     "output_type": "execute_result"
    }
   ],
   "source": [
    "from tqdm import tqdm\n",
    "from nltk.corpus import stopwords\n",
    "from nltk.stem import WordNetLemmatizer\n",
    "\n",
    "stop = stopwords.words('english')\n",
    "lemmatizer = WordNetLemmatizer()\n",
    "\n",
    "stop = [x.replace(\"'\",'') for x in stop]#rimuovo gli apostrofi\n",
    "stop.append('u')\n",
    "\n",
    "corpus = df['inconvenienti'][~df['inconvenienti'].isna()]\n",
    "corpus = corpus.str.lower().str.replace('[^\\w\\s]','')\n",
    "corpus = corpus.str.split()\n",
    "corpus = corpus.apply(lambda x: [lemmatizer.lemmatize(item) for item in x if item not in stop])\n",
    "corpus = corpus.apply(lambda x: [item for item in x if not item.isnumeric()])\n",
    "corpus"
   ]
  },
  {
   "cell_type": "code",
   "execution_count": 7,
   "metadata": {},
   "outputs": [],
   "source": [
    "from collections import Counter\n",
    "c = Counter()\n",
    "for sentence in corpus:\n",
    "    c.update(sentence)"
   ]
  },
  {
   "cell_type": "code",
   "execution_count": 8,
   "metadata": {},
   "outputs": [
    {
     "name": "stdout",
     "output_type": "stream",
     "text": [
      "Most common words in the corpus: [('software', 1620), ('meeting', 1558), ('like', 1553), ('use', 1547), ('time', 1547), ('sometimes', 1195), ('feature', 1170), ('get', 908), ('user', 900), ('issue', 842), ('call', 839), ('video', 838), ('would', 820), ('need', 815), ('people', 787), ('ha', 746), ('also', 740), ('work', 728), ('one', 648), ('team', 641), ('could', 639), ('using', 636), ('bit', 615), ('task', 605), ('really', 578), ('many', 559), ('little', 554), ('option', 530), ('lot', 518), ('thing', 512), ('chat', 512), ('app', 511), ('zoom', 486), ('make', 475), ('used', 467), ('quality', 453), ('difficult', 450), ('easy', 441), ('connection', 441), ('screen', 435), ('good', 435), ('tool', 435), ('audio', 433), ('product', 430), ('find', 425), ('much', 422), ('way', 417), ('project', 411), ('great', 410), ('better', 408), ('hard', 402), ('think', 399), ('see', 397), ('take', 397), ('doe', 380), ('problem', 371), ('asana', 369), ('always', 361), ('computer', 357), ('interface', 351), ('hangout', 348), ('able', 347), ('well', 316), ('feel', 314), ('google', 308), ('cant', 302), ('often', 301), ('application', 290), ('confusing', 289), ('program', 289), ('message', 283), ('seems', 282), ('even', 279), ('first', 275), ('new', 272), ('phone', 262), ('file', 262), ('platform', 258), ('wish', 257), ('slow', 257), ('nothing', 256), ('still', 253), ('con', 248), ('set', 243), ('different', 241), ('person', 240), ('version', 240), ('free', 237), ('want', 231), ('system', 231), ('may', 230), ('functionality', 229), ('notification', 225), ('client', 224), ('least', 216), ('multiple', 215), ('found', 212), ('email', 211), ('know', 211), ('limited', 211)]\n",
      "\n",
      "Number of different words in the corpus: 7708\n"
     ]
    }
   ],
   "source": [
    "print(f'Most common words in the corpus: {c.most_common(100)}\\n')\n",
    "print(f'Number of different words in the corpus: {len(c)}')"
   ]
  },
  {
   "cell_type": "code",
   "execution_count": 9,
   "metadata": {},
   "outputs": [],
   "source": [
    "corpus = pd.Series(corpus)"
   ]
  },
  {
   "cell_type": "code",
   "execution_count": 10,
   "metadata": {},
   "outputs": [
    {
     "data": {
      "text/plain": [
       "0       [say, three, max, four, participant, going, go...\n",
       "1       [meeting, interface, kind, oldish, lag, quite,...\n",
       "2       [zoom, ha, flaw, software, already, integrated...\n",
       "3       [inconstancy, seemingly, constant, adjustment,...\n",
       "4       [issue, conferencing, software, free, use, zoo...\n",
       "                              ...                        \n",
       "8943      [less_feature, compared, product_in_the_amrket]\n",
       "8944      [less_feature, compared, product_in_the_amrket]\n",
       "8945      [less_feature, compared, product_in_the_amrket]\n",
       "8946      [less_feature, compared, product_in_the_amrket]\n",
       "8947                           [slow, load, lagged, used]\n",
       "Name: inconvenienti, Length: 8947, dtype: object"
      ]
     },
     "execution_count": 10,
     "metadata": {},
     "output_type": "execute_result"
    }
   ],
   "source": [
    "corpus"
   ]
  },
  {
   "cell_type": "code",
   "execution_count": 11,
   "metadata": {},
   "outputs": [
    {
     "name": "stdout",
     "output_type": "stream",
     "text": [
      "['issue', 'conferencing_software', 'free', 'use_zoom', 'free_version_limited_to_40', 'min_per', 'session_become', 'annoying_reestablishing', 'meeting', 'every_time', 'run_minute', 'leaf_option', 'purchasing_pro', 'version_cost', 'either_per', 'month_annual', 'fee_cost', 'better_committed', 'using_software', 'whole_year', 'temporary_solution', 'current_crisis', 'end_decide', 'cost_worth', 'feature_provides']\n"
     ]
    }
   ],
   "source": [
    "from gensim.models.phrases import Phrases\n",
    "from nltk.corpus import stopwords\n",
    "stop = stopwords.words('english')\n",
    "stop.extend(['good', 'many', 'love', 'excellent', 'would'])\n",
    "\n",
    "bigram = Phrases(corpus, min_count=0.1, threshold=2)\n",
    "#trigram = Phrases(bigram, min_count = 1)\n",
    "print(bigram[corpus[4]])"
   ]
  },
  {
   "cell_type": "code",
   "execution_count": 12,
   "metadata": {},
   "outputs": [
    {
     "name": "stdout",
     "output_type": "stream",
     "text": [
      "['zoom_call', 'set_auto', 'dial_feature', 'default', 'time', 'short_time', 'get', 'participant_id', 'number_repeat', 'instruction_disconnect']\n"
     ]
    }
   ],
   "source": [
    "bigrams = [bigram[item] for item in corpus]\n",
    "ngrams = [bigram[item] for item in bigrams]\n",
    "print(ngrams[70])"
   ]
  },
  {
   "cell_type": "code",
   "execution_count": 13,
   "metadata": {},
   "outputs": [
    {
     "name": "stdout",
     "output_type": "stream",
     "text": [
      "['since_latest_upgrade_lot', 'freezing_host_kicked_meeting', 'unable_get_back_in', 'ideal_ten_yr_old', 'waiting_teach_also', 'since_upgrade_people_able', 'get_meeting_host', 'ha_another', 'meeting_progress_incorrect']\n"
     ]
    }
   ],
   "source": [
    "trigram_model = Phrases(bigrams, min_count=0.1, threshold=0.3)\n",
    "print(trigram_model[bigrams[96]])"
   ]
  },
  {
   "cell_type": "code",
   "execution_count": 14,
   "metadata": {},
   "outputs": [
    {
     "name": "stdout",
     "output_type": "stream",
     "text": [
      "['issue_conferencing_software', 'free_use_zoom', 'free_version_limited_to_40_min_per', 'session_become_annoying_reestablishing', 'meeting_every_time', 'run_minute_leaf_option', 'purchasing_pro_version_cost', 'either_per_month_annual', 'fee_cost_better_committed', 'using_software_whole_year', 'temporary_solution_current_crisis', 'end_decide_cost_worth', 'feature_provides']\n"
     ]
    }
   ],
   "source": [
    "trigrams = [trigram_model[item] for item in bigrams]\n",
    "print(trigrams[4])"
   ]
  },
  {
   "cell_type": "code",
   "execution_count": 15,
   "metadata": {
    "scrolled": false
   },
   "outputs": [
    {
     "name": "stdout",
     "output_type": "stream",
     "text": [
      "Most common words in the corpus: [('meeting', 74), ('software', 73), ('time', 57), ('use', 51), ('issue', 34), ('user', 33), ('work', 31), ('call', 28), ('product', 21), ('app', 21)]\n",
      "\n",
      "Number of different words in the corpus: 33223\n"
     ]
    }
   ],
   "source": [
    "c = Counter()\n",
    "for sentence in trigrams:\n",
    "    c.update(sentence)\n",
    "print(f'Most common words in the corpus: {c.most_common(10)}\\n')\n",
    "print(f'Number of different words in the corpus: {len(c)}')"
   ]
  },
  {
   "cell_type": "markdown",
   "metadata": {},
   "source": [
    "#### import w2v and fastText and train a vector model"
   ]
  },
  {
   "cell_type": "code",
   "execution_count": null,
   "metadata": {},
   "outputs": [],
   "source": []
  },
  {
   "cell_type": "code",
   "execution_count": 16,
   "metadata": {},
   "outputs": [
    {
     "name": "stdout",
     "output_type": "stream",
     "text": [
      "Requirement already satisfied: gensim in c:\\users\\estra\\anaconda3\\lib\\site-packages (3.8.3)\n",
      "Requirement already satisfied: scipy>=0.18.1 in c:\\users\\estra\\anaconda3\\lib\\site-packages (from gensim) (1.4.1)\n",
      "Requirement already satisfied: Cython==0.29.14 in c:\\users\\estra\\anaconda3\\lib\\site-packages (from gensim) (0.29.14)\n",
      "Requirement already satisfied: six>=1.5.0 in c:\\users\\estra\\anaconda3\\lib\\site-packages (from gensim) (1.14.0)\n",
      "Requirement already satisfied: smart-open>=1.8.1 in c:\\users\\estra\\anaconda3\\lib\\site-packages (from gensim) (3.0.0)\n",
      "Requirement already satisfied: numpy>=1.11.3 in c:\\users\\estra\\anaconda3\\lib\\site-packages (from gensim) (1.18.1)\n",
      "Requirement already satisfied: requests in c:\\users\\estra\\anaconda3\\lib\\site-packages (from smart-open>=1.8.1->gensim) (2.22.0)\n",
      "Requirement already satisfied: certifi>=2017.4.17 in c:\\users\\estra\\anaconda3\\lib\\site-packages (from requests->smart-open>=1.8.1->gensim) (2019.11.28)\n",
      "Requirement already satisfied: urllib3!=1.25.0,!=1.25.1,<1.26,>=1.21.1 in c:\\users\\estra\\anaconda3\\lib\\site-packages (from requests->smart-open>=1.8.1->gensim) (1.25.8)\n",
      "Requirement already satisfied: chardet<3.1.0,>=3.0.2 in c:\\users\\estra\\anaconda3\\lib\\site-packages (from requests->smart-open>=1.8.1->gensim) (3.0.4)\n",
      "Requirement already satisfied: idna<2.9,>=2.5 in c:\\users\\estra\\anaconda3\\lib\\site-packages (from requests->smart-open>=1.8.1->gensim) (2.8)\n"
     ]
    }
   ],
   "source": [
    "!pip install gensim \n"
   ]
  },
  {
   "cell_type": "code",
   "execution_count": 17,
   "metadata": {},
   "outputs": [
    {
     "name": "stdout",
     "output_type": "stream",
     "text": [
      "Wall time: 492 ms\n"
     ]
    }
   ],
   "source": [
    "from gensim.models import Word2Vec \n",
    "#SKIPGRAM\n",
    "\n",
    "%time w2v_model = Word2Vec(sg=0, sentences=trigrams, size=100, window=10, min_count=2)\n",
    "\n",
    "\n",
    "\n",
    "\n",
    "\n",
    "\n",
    "#CBOW\n",
    "#sg: training algorithm. 1 for skipgram, 0 for cbow\n",
    "#%time w2v_model = Word2Vec(sg=1, sentences=trigrams, size=5, window=10, min_count=2, iter=5, hs = 1)\n",
    "#%time w2v_model = Word2Vec(sg=1, sentences=trigrams, size=5, window=10, min_count=2, iter=5, hs = 1)#buono\n",
    "#%time w2v_model = Word2Vec(sg=1, sentences=trigrams, size=5, window=10, min_count=2, iter=5)\n",
    "#%time ft_model = FastText(sg=1, sentences=trigrams, size=10, window=10, min_count=2, iter=5, min_n=5, max_n=6)"
   ]
  },
  {
   "cell_type": "code",
   "execution_count": 18,
   "metadata": {},
   "outputs": [
    {
     "name": "stdout",
     "output_type": "stream",
     "text": [
      "Wall time: 9.79 s\n"
     ]
    }
   ],
   "source": [
    "from gensim.models import FastText\n",
    "#SKIPGRAM\n",
    "%time ft_model = FastText(sg=0, sentences=trigrams, size=100, window=10, min_count=1.5, iter=5)\n",
    "\n",
    "\n",
    "\n",
    "\n",
    "#CBOW\n",
    "#%time ft_model = FastText(sg=1, sentences=trigrams, size=5, window=10, min_count=2, iter=5, min_n=5, max_n=6)\n",
    "#%time ft_model = FastText(sg=1, sentences=trigrams, size=5, window=10, min_count=2, iter=5, hs =1 )#buono\n",
    "#%time ft_model = FastText(sg=1, sentences=trigrams, size=10, window=10, min_count=2, iter=5, min_n=5, max_n=6)"
   ]
  },
  {
   "cell_type": "code",
   "execution_count": 19,
   "metadata": {},
   "outputs": [
    {
     "data": {
      "text/plain": [
       "2260"
      ]
     },
     "execution_count": 19,
     "metadata": {},
     "output_type": "execute_result"
    }
   ],
   "source": [
    "len(w2v_model.wv.vocab)"
   ]
  },
  {
   "cell_type": "code",
   "execution_count": null,
   "metadata": {},
   "outputs": [],
   "source": []
  },
  {
   "cell_type": "markdown",
   "metadata": {},
   "source": [
    "#### Save Model to File"
   ]
  },
  {
   "cell_type": "code",
   "execution_count": 20,
   "metadata": {},
   "outputs": [],
   "source": [
    "from gensim.models import KeyedVectors \n",
    "w2v_model.wv.save_word2vec_format('D:/Master/01_Materie/Web data Analytics/Dataset/cose/w2v_model.bin', binary=True)\n",
    "ft_model.wv.save_word2vec_format('D:/Master/01_Materie/Web data Analytics/Dataset/cose/w2v_model.bin', binary=False)"
   ]
  },
  {
   "cell_type": "markdown",
   "metadata": {},
   "source": [
    "### Embedding space navigation"
   ]
  },
  {
   "cell_type": "code",
   "execution_count": 21,
   "metadata": {},
   "outputs": [
    {
     "name": "stderr",
     "output_type": "stream",
     "text": [
      "C:\\Users\\estra\\anaconda3\\lib\\site-packages\\ipykernel_launcher.py:2: DeprecationWarning: Call to deprecated `__getitem__` (Method will be removed in 4.0.0, use self.wv.__getitem__() instead).\n",
      "  \n"
     ]
    },
    {
     "data": {
      "text/plain": [
       "array([-2.3282622e-03,  1.4794626e-03, -4.2534873e-04, -2.9157735e-03,\n",
       "        1.4231623e-03, -2.3924795e-03,  1.9157660e-03, -1.0706531e-03,\n",
       "        4.4691232e-03,  1.5677237e-03,  3.1703005e-03, -1.5706972e-03,\n",
       "        1.0855040e-03, -1.2752366e-03, -3.7253063e-04,  6.7223416e-05,\n",
       "        1.8206839e-03, -1.5514645e-04,  3.6541373e-05,  1.2394664e-04,\n",
       "       -2.3509143e-04, -1.6471460e-03,  1.0690157e-03, -9.0527075e-04,\n",
       "       -8.7329297e-04, -2.4039855e-03,  2.9569038e-04,  3.9857673e-03,\n",
       "       -2.1217524e-03,  9.7260772e-06,  1.1375790e-03,  1.0319435e-03,\n",
       "       -1.4357214e-03,  1.6901320e-04,  3.8643312e-04,  4.8225230e-04,\n",
       "       -9.4381737e-04, -2.9082203e-04, -1.7210756e-03, -6.6799845e-04,\n",
       "       -6.2180345e-04, -8.4105635e-04,  1.3701461e-03,  2.1619139e-04,\n",
       "       -2.0573135e-03,  3.1500938e-04, -2.9227484e-04,  1.6558800e-03,\n",
       "        6.8715168e-04, -2.3970113e-03,  1.7369662e-03, -1.3776029e-03,\n",
       "        6.5755000e-04, -1.5436433e-03, -9.8702156e-05, -4.8819329e-03,\n",
       "       -2.3964325e-03,  1.0787187e-03,  2.9128580e-03, -1.3014176e-03,\n",
       "       -3.6697311e-04, -2.7365193e-03,  1.6358295e-03,  5.4409140e-04,\n",
       "       -3.0271569e-03, -3.7264082e-04,  1.3906966e-03,  2.4344433e-04,\n",
       "        4.1751391e-03, -1.4199201e-03,  2.3335118e-03, -2.1834696e-04,\n",
       "       -3.8905730e-04,  2.7702530e-03,  1.6084020e-03, -1.7980271e-03,\n",
       "       -2.5708930e-04, -1.2663949e-03, -7.3377736e-04,  8.0627931e-04,\n",
       "       -2.4339268e-03,  3.5113285e-03, -8.3100720e-04, -4.6370158e-04,\n",
       "        8.0976204e-04,  1.2376086e-03,  5.9450680e-04,  1.8255714e-03,\n",
       "       -1.7774709e-03,  1.4084120e-03,  4.0951755e-04, -7.4107906e-05,\n",
       "        9.0472377e-04, -2.3443969e-03,  6.2523526e-04, -6.3686333e-05,\n",
       "        2.5457560e-04, -2.8718063e-03, -3.1601007e-03, -6.4907223e-04],\n",
       "      dtype=float32)"
      ]
     },
     "execution_count": 21,
     "metadata": {},
     "output_type": "execute_result"
    }
   ],
   "source": [
    "# print vector\n",
    "ft_model['zoom']"
   ]
  },
  {
   "cell_type": "code",
   "execution_count": 22,
   "metadata": {},
   "outputs": [
    {
     "name": "stderr",
     "output_type": "stream",
     "text": [
      "C:\\Users\\estra\\anaconda3\\lib\\site-packages\\ipykernel_launcher.py:1: DeprecationWarning: Call to deprecated `most_similar` (Method will be removed in 4.0.0, use self.wv.most_similar() instead).\n",
      "  \"\"\"Entry point for launching an IPython kernel.\n"
     ]
    },
    {
     "data": {
      "text/plain": [
       "[('google_hangout', 0.9538882970809937),\n",
       " ('google_hangout_doe_hang_sometimes', 0.8946444988250732),\n",
       " ('google_hangout_many_user_online', 0.882414698600769),\n",
       " ('many_feature_google_hangouts', 0.8795850276947021),\n",
       " ('time_google_hangout_difficult', 0.8783555030822754),\n",
       " ('like_option_google_hangout', 0.877761721611023),\n",
       " ('missed_call_notification_google_hangouts', 0.8709732294082642),\n",
       " ('google_hangouts_functional_easy_to_use_con', 0.8658674955368042),\n",
       " ('feature_google_hangout', 0.8634504675865173),\n",
       " ('really_need_sunset_google_hangout', 0.8621674180030823),\n",
       " ('google_hangout_client_life_finder', 0.8602515459060669),\n",
       " ('enter_google_hangout_meeting', 0.8593677282333374),\n",
       " ('google_duo_hangout_basically', 0.8559923768043518),\n",
       " ('something_like_google_hangouts_slack', 0.8524042367935181),\n",
       " ('block_google_hangouts_sent_notification', 0.8509470820426941),\n",
       " ('like_least_google_hangouts_communication', 0.8419776558876038),\n",
       " ('blocked_google_hangouts_effort_figure', 0.8381485939025879),\n",
       " ('feel_google_hangouts_used_anymore', 0.8355066776275635),\n",
       " ('google_hangouts_loophole_abuser_use', 0.8328667879104614),\n",
       " ('people_google_hangout_platform_signup', 0.8301953673362732),\n",
       " ('many_friend_discovered_google_hangouts', 0.8294149041175842),\n",
       " ('scammer_spam_account_google_hangouts', 0.8224685192108154),\n",
       " ('skype_viber_google_hangouts_maybe', 0.8201580047607422),\n",
       " ('google_hangout_lacking_feature_department', 0.8157791495323181),\n",
       " ('meet_we_are_only_able_see_face_along_ours_sometimes', 0.8035647869110107),\n",
       " ('meeting_function_would', 0.8018919229507446),\n",
       " ('meeting_software', 0.7939373254776001),\n",
       " ('meeting_app', 0.7932940721511841),\n",
       " ('meeting_time', 0.7915719151496887),\n",
       " ('many_people_use_hangout', 0.7892968654632568),\n",
       " ('google_user', 0.7892383933067322),\n",
       " ('google_meet_software_limited', 0.7875585556030273),\n",
       " ('use_hangout_connection_state', 0.7871972918510437),\n",
       " ('meeting_connectivity_little_rough', 0.7836899757385254),\n",
       " ('meeting_take_time', 0.7830559015274048),\n",
       " ('problem_gotomeeting_software', 0.7825425863265991),\n",
       " ('meeting_ha', 0.7814570665359497),\n",
       " ('team_meeting_straightforward', 0.779799222946167),\n",
       " ('meeting_software_updated', 0.7796298861503601),\n",
       " ('use_hangout', 0.7795981168746948)]"
      ]
     },
     "execution_count": 22,
     "metadata": {},
     "output_type": "execute_result"
    }
   ],
   "source": [
    "ft_model.most_similar('google_hangouts', topn = 40)"
   ]
  },
  {
   "cell_type": "code",
   "execution_count": 122,
   "metadata": {},
   "outputs": [
    {
     "name": "stderr",
     "output_type": "stream",
     "text": [
      "C:\\Users\\estra\\anaconda3\\lib\\site-packages\\ipykernel_launcher.py:2: DeprecationWarning: Call to deprecated `most_similar` (Method will be removed in 4.0.0, use self.wv.most_similar() instead).\n",
      "  \n"
     ]
    },
    {
     "data": {
      "text/plain": [
       "[('block_someone_wish_individual', 0.3732824921607971),\n",
       " ('type_meeting', 0.2859589457511902),\n",
       " ('lot_user', 0.28427159786224365),\n",
       " ('lo_que_menos_me_ha_gustado_de_la_aplicación', 0.2833150625228882),\n",
       " ('using_team', 0.2818041443824768),\n",
       " ('video_talk_show_everyone', 0.27990174293518066),\n",
       " ('especially_large_meeting', 0.27331823110580444),\n",
       " ('prefer_something_lot_friend', 0.2720802426338196),\n",
       " ('connect_due_internet_connection', 0.27115434408187866),\n",
       " ('yet_experience_issue_look_forward', 0.26947978138923645),\n",
       " ('one_client', 0.2684105634689331),\n",
       " ('functionality_doesnt_appear_stable_there', 0.265348345041275),\n",
       " ('little', 0.26023614406585693),\n",
       " ('bulky_smiley_also_boring', 0.25504234433174133),\n",
       " ('hardware', 0.25478169322013855),\n",
       " ('seemed_like_chance_product', 0.25271379947662354),\n",
       " ('one_thing_bother_people_invited', 0.2526063323020935),\n",
       " ('trial', 0.24893540143966675),\n",
       " ('communicate_product_like_zoom', 0.2448166161775589),\n",
       " ('thing_like_least', 0.24441978335380554),\n",
       " ('video_chat', 0.2412775754928589),\n",
       " ('space', 0.23743924498558044),\n",
       " ('think_software_amazing', 0.2374262511730194),\n",
       " ('think_flaw_ha', 0.23557375371456146),\n",
       " ('higher_alternative_solution_recording', 0.2341538816690445),\n",
       " ('par_would_expect_usable', 0.23279012739658356),\n",
       " ('people_see_lounging', 0.23273414373397827),\n",
       " ('theyve_received_message', 0.2325076162815094),\n",
       " ('time_find', 0.2316497564315796),\n",
       " ('chat_next_video_call', 0.22997701168060303),\n",
       " ('connection_issue_seems_happen_more_frequently', 0.22980758547782898),\n",
       " ('first_tried_using_phone', 0.2278953194618225),\n",
       " ('would_great', 0.22788465023040771),\n",
       " ('ui_unnecessarily_complicated_mobile_app', 0.2275068163871765),\n",
       " ('actually_nothing_like_comparable', 0.22570234537124634),\n",
       " ('even_complicated_call_quality_greatest', 0.22546857595443726),\n",
       " ('really_need_sunset_google_hangout', 0.22534215450286865),\n",
       " ('document', 0.2246331423521042),\n",
       " ('sometimes_provision_additional_seat', 0.22408172488212585),\n",
       " ('always_ended_losing_connection', 0.22303414344787598)]"
      ]
     },
     "execution_count": 122,
     "metadata": {},
     "output_type": "execute_result"
    }
   ],
   "source": [
    "# most similar\n",
    "w2v_model.most_similar('google_hangouts', topn = 40)"
   ]
  },
  {
   "cell_type": "code",
   "execution_count": 123,
   "metadata": {},
   "outputs": [
    {
     "name": "stderr",
     "output_type": "stream",
     "text": [
      "C:\\Users\\estra\\anaconda3\\lib\\site-packages\\ipykernel_launcher.py:1: DeprecationWarning: Call to deprecated `most_similar` (Method will be removed in 4.0.0, use self.wv.most_similar() instead).\n",
      "  \"\"\"Entry point for launching an IPython kernel.\n"
     ]
    },
    {
     "data": {
      "text/plain": [
       "[('work_team', 0.36241310834884644),\n",
       " ('offsite', 0.35921698808670044),\n",
       " ('think_flaw_ha', 0.30563151836395264),\n",
       " ('sometimes_lag_audio_video', 0.3028727173805237),\n",
       " ('wanting_record_conversation_confusing', 0.299591600894928),\n",
       " ('sometimes_ha', 0.29939034581184387),\n",
       " ('basic', 0.2946058511734009),\n",
       " ('great_gchat_talk_broker', 0.28799328207969666),\n",
       " ('interface_quality__theme_option_available', 0.2851908802986145),\n",
       " ('screen_content_platform_feel', 0.2839902639389038),\n",
       " ('quality_often_terrible', 0.28097689151763916),\n",
       " ('app_work_well', 0.2768818140029907),\n",
       " ('basic_mean_easy_to_use_also', 0.2762897312641144),\n",
       " ('phone_software', 0.26538974046707153),\n",
       " ('see_many_con', 0.2652644217014313),\n",
       " ('meeting_function_would', 0.2599640190601349),\n",
       " ('people_tend_confused_another', 0.2591991424560547),\n",
       " ('many_people_use', 0.25810959935188293),\n",
       " ('user_make_sense_video_conference', 0.253284752368927),\n",
       " ('internet_issue_using', 0.2513567805290222),\n",
       " ('compared_similar_software_available', 0.25106170773506165),\n",
       " ('tried_faster_internet_nothing', 0.2486305832862854),\n",
       " ('use_whats_app_facebook', 0.24697786569595337),\n",
       " ('conversation_issue_connecting', 0.24673575162887573),\n",
       " ('timeconsuming_smartphone_seems_act', 0.24052321910858154),\n",
       " ('think_fine_option', 0.24025499820709229),\n",
       " ('competitor_like_skype', 0.23733648657798767),\n",
       " ('team_large_needed_stream', 0.23599448800086975),\n",
       " ('feature_include_person_group', 0.23360291123390198),\n",
       " ('beep_noise_people_enter', 0.23350554704666138)]"
      ]
     },
     "execution_count": 123,
     "metadata": {},
     "output_type": "execute_result"
    }
   ],
   "source": [
    "w2v_model.most_similar('gotomeeting', topn = 30)"
   ]
  },
  {
   "cell_type": "code",
   "execution_count": 98,
   "metadata": {},
   "outputs": [
    {
     "name": "stderr",
     "output_type": "stream",
     "text": [
      "C:\\Users\\estra\\anaconda3\\lib\\site-packages\\ipykernel_launcher.py:1: DeprecationWarning: Call to deprecated `most_similar` (Method will be removed in 4.0.0, use self.wv.most_similar() instead).\n",
      "  \"\"\"Entry point for launching an IPython kernel.\n"
     ]
    },
    {
     "data": {
      "text/plain": [
       "[('many_people_using', 0.9935332536697388),\n",
       " ('updatesometimes_making_late_meeting', 0.9931662082672119),\n",
       " ('overall_google_product_deserve', 0.9919720888137817),\n",
       " ('live_video_hangout', 0.990236759185791),\n",
       " ('frustrating_really_use', 0.9897023439407349),\n",
       " ('find_platform_gotomeeting', 0.9855008721351624),\n",
       " ('google_duo_hangout_basically', 0.9813710451126099),\n",
       " ('nothing_really_happy_overall_experience', 0.9811691641807556),\n",
       " ('call_setup_sometimes_calling', 0.9803810119628906),\n",
       " ('software_far', 0.9794067144393921),\n",
       " ('client_end_able_share', 0.9790985584259033),\n",
       " ('showing_people_use', 0.9790237545967102),\n",
       " ('many_people_use', 0.9784138202667236),\n",
       " ('video_option', 0.9783765077590942),\n",
       " ('get_meeting', 0.978083610534668),\n",
       " ('glitch_prevent_call_happening', 0.9779484272003174),\n",
       " ('join_meeting', 0.9776720404624939),\n",
       " ('team_meeting', 0.977401852607727),\n",
       " ('file_really_share', 0.9773765802383423),\n",
       " ('frustrating', 0.976768970489502),\n",
       " ('gotomeeting_backfoot', 0.9765247106552124),\n",
       " ('like_scammer_want_money', 0.9759013652801514),\n",
       " ('sometimes_meeting', 0.9749904870986938),\n",
       " ('one_really', 0.974714994430542),\n",
       " ('problem_gotomeeting_software', 0.9740626811981201),\n",
       " ('think_gotomeeting_function', 0.973368763923645),\n",
       " ('cant_think_con_software', 0.9732093811035156),\n",
       " ('isnt_anything_like_gotomeeting_although', 0.9728331565856934),\n",
       " ('think_software', 0.9719899296760559),\n",
       " ('however_feature_distracting', 0.9717398285865784)]"
      ]
     },
     "execution_count": 98,
     "metadata": {},
     "output_type": "execute_result"
    }
   ],
   "source": [
    "ft_model.most_similar('gotomeeting', topn = 30)"
   ]
  },
  {
   "cell_type": "code",
   "execution_count": 99,
   "metadata": {},
   "outputs": [
    {
     "name": "stderr",
     "output_type": "stream",
     "text": [
      "C:\\Users\\estra\\anaconda3\\lib\\site-packages\\ipykernel_launcher.py:1: DeprecationWarning: Call to deprecated `most_similar` (Method will be removed in 4.0.0, use self.wv.most_similar() instead).\n",
      "  \"\"\"Entry point for launching an IPython kernel.\n"
     ]
    },
    {
     "data": {
      "text/plain": [
       "[('get_work', 0.9841077327728271),\n",
       " ('need_view_keep', 0.9482479691505432),\n",
       " ('show_video_display_whatever', 0.9321249723434448),\n",
       " ('best', 0.8566163778305054),\n",
       " ('microsoft_teams_etc_audio_quality', 0.8322895169258118),\n",
       " ('work_may', 0.8316432237625122),\n",
       " ('secure', 0.8253333568572998),\n",
       " ('multiple_headset_wish_could', 0.8191894888877869),\n",
       " ('facebook_style_platform_failed', 0.7942078709602356),\n",
       " ('goto', 0.7858288288116455),\n",
       " ('take_little_bit', 0.7713289856910706),\n",
       " ('would_great_could', 0.768815279006958),\n",
       " ('participant', 0.7548486590385437),\n",
       " ('would_work', 0.7300772666931152),\n",
       " ('regularly', 0.7228459119796753),\n",
       " ('improving_gradually', 0.7174568176269531),\n",
       " ('joined', 0.7094376087188721),\n",
       " ('like_group_chat', 0.7017087340354919),\n",
       " ('similar_whats_app_take', 0.6966793537139893),\n",
       " ('complaint', 0.6923661231994629),\n",
       " ('go', 0.6920161247253418),\n",
       " ('skill', 0.6905577778816223),\n",
       " ('day_kind_time', 0.685542643070221),\n",
       " ('chat_without_added', 0.6843292713165283),\n",
       " ('channel', 0.6821478605270386),\n",
       " ('pay', 0.6806566715240479),\n",
       " ('work_use', 0.6784313917160034),\n",
       " ('file_one_one_group_chat', 0.6764652729034424),\n",
       " ('contact', 0.6763960123062134),\n",
       " ('trial_run', 0.661577045917511),\n",
       " ('factor_hangout_would_keep', 0.6446400284767151),\n",
       " ('similar_experience_need', 0.6428635716438293),\n",
       " ('work', 0.6379403471946716),\n",
       " ('limit_highest_tier_plan', 0.6269080638885498),\n",
       " ('see_improvement', 0.6230031847953796),\n",
       " ('simple', 0.6220013499259949),\n",
       " ('weak', 0.6211565732955933),\n",
       " ('instead', 0.6192334890365601),\n",
       " ('video_chat_emergence_zoom', 0.6171141862869263),\n",
       " ('transmission_simultaneously', 0.6148486733436584),\n",
       " ('improvement', 0.6104812622070312),\n",
       " ('u', 0.6081761717796326),\n",
       " ('afternoon', 0.602586567401886),\n",
       " ('nobody_mean_literally_cant', 0.595841646194458),\n",
       " ('lot_participant', 0.5917749404907227),\n",
       " ('work_team', 0.5890554189682007),\n",
       " ('team_time', 0.5819759964942932),\n",
       " ('much_desired', 0.5813589692115784),\n",
       " ('know', 0.5803884267807007),\n",
       " ('different_type_file_proper', 0.5752886533737183),\n",
       " ('chart', 0.5731103420257568),\n",
       " ('similar_google_play_store', 0.5675904750823975),\n",
       " ('software_update', 0.5619584321975708),\n",
       " ('voice_file_optimal', 0.5580149292945862),\n",
       " ('team', 0.5567338466644287),\n",
       " ('wish_control_view_participant', 0.5555264949798584),\n",
       " ('solid', 0.5538144707679749),\n",
       " ('certian_time_day_work', 0.5536960959434509),\n",
       " ('even_though_work', 0.5535907745361328),\n",
       " ('needed', 0.5534119009971619),\n",
       " ('choice', 0.5528390407562256),\n",
       " ('open', 0.5494517087936401),\n",
       " ('firewall_security_team_reluctant', 0.5472402572631836),\n",
       " ('always_easy_save_contact', 0.543761134147644),\n",
       " ('believe', 0.5432769060134888),\n",
       " ('sometimes_system_wide', 0.5430780649185181),\n",
       " ('similar_software', 0.5398918390274048),\n",
       " ('software_still', 0.5389989018440247),\n",
       " ('nobody_know_u_thats', 0.5385528802871704),\n",
       " ('explain_unfamiliar', 0.5338606238365173)]"
      ]
     },
     "execution_count": 99,
     "metadata": {},
     "output_type": "execute_result"
    }
   ],
   "source": [
    "ft_model.most_similar('microsoft_teams', topn = 70)"
   ]
  },
  {
   "cell_type": "code",
   "execution_count": 100,
   "metadata": {},
   "outputs": [
    {
     "name": "stderr",
     "output_type": "stream",
     "text": [
      "C:\\Users\\estra\\anaconda3\\lib\\site-packages\\ipykernel_launcher.py:1: DeprecationWarning: Call to deprecated `most_similar` (Method will be removed in 4.0.0, use self.wv.most_similar() instead).\n",
      "  \"\"\"Entry point for launching an IPython kernel.\n"
     ]
    },
    {
     "data": {
      "text/plain": [
       "[('thing_like_least_software', 0.9753932356834412),\n",
       " ('also_seemed_show_properly', 0.9700379371643066),\n",
       " ('use_would_like', 0.964726448059082),\n",
       " ('shall_see', 0.9625383615493774),\n",
       " ('work_team', 0.952255368232727),\n",
       " ('con_slow_time_believe', 0.9396952390670776),\n",
       " ('freeze_video_hang_sometimes', 0.9371061325073242),\n",
       " ('youtube_employee_get', 0.9356914758682251),\n",
       " ('time_payment_need_longer', 0.9338148832321167),\n",
       " ('way_many_way', 0.9305990934371948),\n",
       " ('difficult_compared_zoom', 0.9297328591346741),\n",
       " ('used_time', 0.9275711178779602),\n",
       " ('upgrade', 0.9275258779525757),\n",
       " ('cant_think_anything_dislike', 0.9216964840888977),\n",
       " ('easy_picture_sharing_make', 0.9206998348236084),\n",
       " ('calling_seems_disconnect_easily', 0.91700279712677),\n",
       " ('member_limit_okay_sometime', 0.9153502583503723),\n",
       " ('feature_google_hangout', 0.9135040044784546),\n",
       " ('ability_hide_screen_data', 0.9107316732406616),\n",
       " ('use_much_business', 0.9065192341804504),\n",
       " ('think_could_work', 0.906108021736145),\n",
       " ('know_turn_feature', 0.9058200120925903),\n",
       " ('contact_information_instead_sharing', 0.9043835401535034),\n",
       " ('zoom_option_market', 0.8990659713745117),\n",
       " ('connecting_meeting', 0.8973870277404785),\n",
       " ('people_email_address_example_recruiter', 0.8956928253173828),\n",
       " ('service', 0.8936255574226379),\n",
       " ('day_kind_time', 0.8890887498855591),\n",
       " ('would_need_give', 0.8884751796722412),\n",
       " ('time_switch_browser', 0.8877279758453369),\n",
       " ('must_invite_someone_via', 0.8850715756416321),\n",
       " ('meet_we_are_only_able_see_face_along_ours_sometimes', 0.8849669694900513),\n",
       " ('sometimes_best_still', 0.8844383955001831),\n",
       " ('connect_audio', 0.8782868981361389),\n",
       " ('call_ive_already', 0.8768036961555481),\n",
       " ('application_unless_spare_time', 0.8764995336532593),\n",
       " ('get_delayed_the_meeting', 0.8754327297210693),\n",
       " ('one', 0.875225305557251),\n",
       " ('navigate', 0.8747309446334839),\n",
       " ('loud_super_quiet_hard', 0.8739316463470459),\n",
       " ('ability_add_people_session', 0.8721487522125244),\n",
       " ('pretty_long_process_launching', 0.8667476177215576),\n",
       " ('time_result_always_simple', 0.8659749031066895),\n",
       " ('happens', 0.86427903175354),\n",
       " ('group_call', 0.863612174987793),\n",
       " ('computer_able_access', 0.8600260019302368),\n",
       " ('could_sync_contact_reason', 0.8579294681549072),\n",
       " ('without_video', 0.8552647829055786),\n",
       " ('virtually_business_meeting', 0.8530116081237793),\n",
       " ('chat_including_quote_context', 0.8520023822784424),\n",
       " ('meeting_wish_unlimited', 0.8514084219932556),\n",
       " ('unmute', 0.8494220972061157),\n",
       " ('zoom_meeting_chat', 0.8419667482376099),\n",
       " ('first', 0.8412338495254517),\n",
       " ('opening', 0.8404247760772705),\n",
       " ('way_multiple_people', 0.8397399187088013),\n",
       " ('negative', 0.8388607501983643),\n",
       " ('pandemic_inperson_almost_always', 0.8369307518005371),\n",
       " ('could_better', 0.8368256092071533),\n",
       " ('really_use_business', 0.8367958068847656)]"
      ]
     },
     "execution_count": 100,
     "metadata": {},
     "output_type": "execute_result"
    }
   ],
   "source": [
    "w2v_model.most_similar('zoom', topn = 60)"
   ]
  },
  {
   "cell_type": "code",
   "execution_count": 101,
   "metadata": {},
   "outputs": [
    {
     "name": "stderr",
     "output_type": "stream",
     "text": [
      "C:\\Users\\estra\\anaconda3\\lib\\site-packages\\ipykernel_launcher.py:1: DeprecationWarning: Call to deprecated `most_similar` (Method will be removed in 4.0.0, use self.wv.most_similar() instead).\n",
      "  \"\"\"Entry point for launching an IPython kernel.\n"
     ]
    },
    {
     "data": {
      "text/plain": [
       "[('search', 0.9468861818313599),\n",
       " ('transmission_simultaneously', 0.8915054798126221),\n",
       " ('layout', 0.8842663764953613),\n",
       " ('solid', 0.8836774826049805),\n",
       " ('slow', 0.8796782493591309),\n",
       " ('technology', 0.8566513061523438),\n",
       " ('weve_issue_far', 0.8554872870445251),\n",
       " ('least', 0.8479857444763184),\n",
       " ('first_place', 0.8112473487854004),\n",
       " ('user_friendly', 0.8094813823699951),\n",
       " ('slow_load_often_time', 0.7695417404174805),\n",
       " ('would_great', 0.7641249299049377),\n",
       " ('publicidad_engañosa', 0.76118004322052),\n",
       " ('work', 0.7576353549957275),\n",
       " ('use_zoom', 0.7429792881011963),\n",
       " ('also_great', 0.7346947193145752),\n",
       " ('le', 0.7324073314666748),\n",
       " ('vice_versa', 0.727118730545044),\n",
       " ('anymore', 0.7070083022117615),\n",
       " ('become_blurry', 0.6832211017608643),\n",
       " ('little_bit_slow_competitor', 0.6726049184799194),\n",
       " ('message_shown_log_gmail', 0.671650230884552),\n",
       " ('turn_video_phone_others', 0.6652374267578125),\n",
       " ('quality_issue_kept_minimum', 0.6590646505355835),\n",
       " ('heard_might_securityprivacy_issue', 0.6585761308670044),\n",
       " ('boggy_buggy', 0.6551730632781982),\n",
       " ('system', 0.6522470116615295),\n",
       " ('sign', 0.6497880816459656),\n",
       " ('feature_signal_strength_convo', 0.6493396759033203),\n",
       " ('service_morepopular', 0.6492701768875122),\n",
       " ('wifi', 0.6457334756851196),\n",
       " ('time_also_seems', 0.6453598737716675),\n",
       " ('easy_work', 0.6443101167678833),\n",
       " ('offsite', 0.6425132751464844),\n",
       " ('haha', 0.636459469795227),\n",
       " ('make_video_blurry', 0.627561092376709),\n",
       " ('secure', 0.6272472143173218),\n",
       " ('glitchy', 0.6221422553062439),\n",
       " ('go', 0.6077583432197571),\n",
       " ('call_zoom', 0.606957197189331),\n",
       " ('webex', 0.6063166856765747),\n",
       " ('simple_keystroke', 0.6052019000053406),\n",
       " ('see_many_con', 0.6045244932174683),\n",
       " ('file', 0.604094386100769),\n",
       " ('take_little_bit', 0.6000332832336426),\n",
       " ('camera', 0.590017557144165),\n",
       " ('see_two__people_side_by_side', 0.5886479020118713),\n",
       " ('basic', 0.5857768654823303),\n",
       " ('already_know', 0.578222393989563),\n",
       " ('option_avoid_loud_echo', 0.567510724067688)]"
      ]
     },
     "execution_count": 101,
     "metadata": {},
     "output_type": "execute_result"
    }
   ],
   "source": [
    "ft_model.most_similar(\"zoom\", topn = 50)"
   ]
  },
  {
   "cell_type": "code",
   "execution_count": 102,
   "metadata": {},
   "outputs": [
    {
     "name": "stderr",
     "output_type": "stream",
     "text": [
      "C:\\Users\\estra\\anaconda3\\lib\\site-packages\\ipykernel_launcher.py:3: DeprecationWarning: Call to deprecated `similarity` (Method will be removed in 4.0.0, use self.wv.similarity() instead).\n",
      "  This is separate from the ipykernel package so we can avoid doing imports until\n"
     ]
    },
    {
     "data": {
      "text/plain": [
       "0.61758506"
      ]
     },
     "execution_count": 102,
     "metadata": {},
     "output_type": "execute_result"
    }
   ],
   "source": [
    "# similarity between words\n",
    "\n",
    "ft_model.similarity('zoom', '40_min')"
   ]
  },
  {
   "cell_type": "markdown",
   "metadata": {},
   "source": [
    "1 - ARITMETICA DELL'EMBEDDING"
   ]
  },
  {
   "cell_type": "code",
   "execution_count": 103,
   "metadata": {},
   "outputs": [
    {
     "name": "stderr",
     "output_type": "stream",
     "text": [
      "C:\\Users\\estra\\anaconda3\\lib\\site-packages\\ipykernel_launcher.py:2: DeprecationWarning: Call to deprecated `most_similar` (Method will be removed in 4.0.0, use self.wv.most_similar() instead).\n",
      "  \n"
     ]
    },
    {
     "data": {
      "text/plain": [
       "[('add_confusion_also_like', 0.9874558448791504),\n",
       " ('like_least_asana', 0.9869608283042908),\n",
       " ('also_issue', 0.9735665321350098),\n",
       " ('spam_telemarketers_general_creeper', 0.9720091819763184),\n",
       " ('really_see_con', 0.9698205590248108),\n",
       " ('high_quality_video', 0.9694441556930542),\n",
       " ('outweigh_con_case', 0.9554232954978943),\n",
       " ('significantly_considering_option', 0.9532585144042969),\n",
       " ('stability_conference_call_tool_remain', 0.9488028883934021),\n",
       " ('find_friend_thought_kind', 0.9483987092971802)]"
      ]
     },
     "execution_count": 103,
     "metadata": {},
     "output_type": "execute_result"
    }
   ],
   "source": [
    "# MISURA LA COSIN SIMILARITY TRA LE DUE PAROLE\n",
    "ft_model.most_similar(positive=['woman','king'], negative=['man'], topn = 10)"
   ]
  },
  {
   "cell_type": "markdown",
   "metadata": {},
   "source": [
    "### Visualise embeddings with UMAP"
   ]
  },
  {
   "cell_type": "markdown",
   "metadata": {},
   "source": [
    "[UMAP](https://umap-learn.readthedocs.io/en/latest/): Uniform Manifold Approximation and Projection for Dimension Reduction"
   ]
  },
  {
   "cell_type": "code",
   "execution_count": 23,
   "metadata": {},
   "outputs": [
    {
     "name": "stdout",
     "output_type": "stream",
     "text": [
      "Requirement already satisfied: umap-learn in c:\\users\\estra\\anaconda3\\lib\\site-packages (0.4.6)\n",
      "Requirement already satisfied: scikit-learn>=0.20 in c:\\users\\estra\\anaconda3\\lib\\site-packages (from umap-learn) (0.22.1)\n",
      "Requirement already satisfied: numpy>=1.17 in c:\\users\\estra\\anaconda3\\lib\\site-packages (from umap-learn) (1.18.1)\n",
      "Requirement already satisfied: scipy>=1.3.1 in c:\\users\\estra\\anaconda3\\lib\\site-packages (from umap-learn) (1.4.1)\n",
      "Requirement already satisfied: numba!=0.47,>=0.46 in c:\\users\\estra\\anaconda3\\lib\\site-packages (from umap-learn) (0.48.0)\n",
      "Requirement already satisfied: joblib>=0.11 in c:\\users\\estra\\anaconda3\\lib\\site-packages (from scikit-learn>=0.20->umap-learn) (0.14.1)\n",
      "Requirement already satisfied: llvmlite<0.32.0,>=0.31.0dev0 in c:\\users\\estra\\anaconda3\\lib\\site-packages (from numba!=0.47,>=0.46->umap-learn) (0.31.0)\n",
      "Requirement already satisfied: setuptools in c:\\users\\estra\\anaconda3\\lib\\site-packages (from numba!=0.47,>=0.46->umap-learn) (45.2.0.post20200210)\n"
     ]
    }
   ],
   "source": [
    "# !conda install -c conda-forge umap-learn\n",
    "!pip install umap-learn"
   ]
  },
  {
   "cell_type": "markdown",
   "metadata": {},
   "source": [
    "#### Define a function to restrict vocab to keywords to speed up UMap"
   ]
  },
  {
   "cell_type": "code",
   "execution_count": 24,
   "metadata": {},
   "outputs": [],
   "source": [
    " def restrict_w2v(w2v, restricted_word_set): #Calcola i k-nearest neighboor tra le parole\n",
    "        #Si definisce una funzione che calcola i vettori solo delle parole che ci interessano, non tutte quelle del corpus\n",
    "        \n",
    "    w2v.most_similar(restricted_word_set) #to inizialize norms\n",
    "    new_vectors = []\n",
    "    new_vocab = {}\n",
    "    new_index2entity = []\n",
    "    new_vectors_norm = []\n",
    "\n",
    "    for i in range(len(w2v.vocab)):\n",
    "        word = w2v.index2entity[i]\n",
    "        vec = w2v.vectors[i]\n",
    "        vocab = w2v.vocab[word]\n",
    "        vec_norm = w2v.vectors_norm[i]\n",
    "        if word in restricted_word_set:\n",
    "            vocab.index = len(new_index2entity)\n",
    "            new_index2entity.append(word)\n",
    "            new_vocab[word] = vocab\n",
    "            new_vectors.append(vec)\n",
    "            new_vectors_norm.append(vec_norm)\n",
    "\n",
    "    w2v.vocab = new_vocab\n",
    "    w2v.vectors = np.array(new_vectors)\n",
    "    w2v.index2entity = np.array(new_index2entity)\n",
    "    w2v.index2word = np.array(new_index2entity)\n",
    "    w2v.vectors_norm = np.array(new_vectors_norm)"
   ]
  },
  {
   "cell_type": "markdown",
   "metadata": {},
   "source": [
    "#### Plot UMAP of the top 100 words in vocab for frequency"
   ]
  },
  {
   "cell_type": "code",
   "execution_count": 31,
   "metadata": {},
   "outputs": [
    {
     "name": "stdout",
     "output_type": "stream",
     "text": [
      "['meeting', 'software', 'time', 'use', 'issue', 'user', 'work', 'call', 'product', 'app', 'great', 'etc', 'program', 'tool', 'well', 'feature', 'problem', 'team', 'project', 'computer', 'application', 'zoom', 'people', 'better', 'option', 'good', 'connection', 'phone', 'service', 'experience', 'like_least_software', 'used', 'screen', 'like', 'sometimes', 'message', 'task', 'need', 'video', 'annoying', 'thing', 'apps', 'issue_software', 'quality', 'chat', 'improved', 'easy_to_use', 'slow', 'easy', 'meeting_time']\n"
     ]
    },
    {
     "name": "stderr",
     "output_type": "stream",
     "text": [
      "C:\\Users\\estra\\anaconda3\\lib\\site-packages\\ipykernel_launcher.py:5: DeprecationWarning: Call to deprecated `wv` (Attribute will be removed in 4.0.0, use self instead).\n",
      "  \"\"\"\n"
     ]
    }
   ],
   "source": [
    "from gensim.models import KeyedVectors\n",
    "#ft_imported_model = KeyedVectors.load_word2vec_format('D:/Master/01_Materie/Web data Analytics/Dataset/cose/w2v_model.bin', binary=False)\n",
    "ft_imported_model = KeyedVectors.load_word2vec_format('D:/Master/01_Materie/Web data Analytics/Dataset/cose/w2v_model.bin', binary= False)\n",
    "# top 100 words\n",
    "top100 = ft_imported_model.wv.index2entity[:50]\n",
    "print(top100)"
   ]
  },
  {
   "cell_type": "code",
   "execution_count": 32,
   "metadata": {},
   "outputs": [],
   "source": [
    "# top100umap = umap[umap['token'].isin(top100)]"
   ]
  },
  {
   "cell_type": "code",
   "execution_count": null,
   "metadata": {},
   "outputs": [],
   "source": []
  },
  {
   "cell_type": "markdown",
   "metadata": {},
   "source": [
    "#### Create umap of your vocab"
   ]
  },
  {
   "cell_type": "code",
   "execution_count": 28,
   "metadata": {},
   "outputs": [
    {
     "name": "stdout",
     "output_type": "stream",
     "text": [
      "Requirement already satisfied: adjustText in c:\\users\\estra\\anaconda3\\lib\\site-packages (0.7.3)\n",
      "Requirement already satisfied: numpy in c:\\users\\estra\\anaconda3\\lib\\site-packages (from adjustText) (1.18.1)\n",
      "Requirement already satisfied: matplotlib in c:\\users\\estra\\anaconda3\\lib\\site-packages (from adjustText) (3.1.3)\n",
      "Requirement already satisfied: kiwisolver>=1.0.1 in c:\\users\\estra\\anaconda3\\lib\\site-packages (from matplotlib->adjustText) (1.1.0)\n",
      "Requirement already satisfied: cycler>=0.10 in c:\\users\\estra\\anaconda3\\lib\\site-packages (from matplotlib->adjustText) (0.10.0)\n",
      "Requirement already satisfied: python-dateutil>=2.1 in c:\\users\\estra\\anaconda3\\lib\\site-packages (from matplotlib->adjustText) (2.8.1)\n",
      "Requirement already satisfied: pyparsing!=2.0.4,!=2.1.2,!=2.1.6,>=2.0.1 in c:\\users\\estra\\anaconda3\\lib\\site-packages (from matplotlib->adjustText) (2.4.6)\n",
      "Requirement already satisfied: setuptools in c:\\users\\estra\\anaconda3\\lib\\site-packages (from kiwisolver>=1.0.1->matplotlib->adjustText) (45.2.0.post20200210)\n",
      "Requirement already satisfied: six in c:\\users\\estra\\anaconda3\\lib\\site-packages (from cycler>=0.10->matplotlib->adjustText) (1.14.0)\n"
     ]
    }
   ],
   "source": [
    "!pip install adjustText"
   ]
  },
  {
   "cell_type": "code",
   "execution_count": 33,
   "metadata": {},
   "outputs": [
    {
     "name": "stderr",
     "output_type": "stream",
     "text": [
      "C:\\Users\\estra\\anaconda3\\lib\\site-packages\\ipykernel_launcher.py:13: DeprecationWarning: Call to deprecated `wv` (Attribute will be removed in 4.0.0, use self instead).\n",
      "  del sys.path[0]\n",
      "C:\\Users\\estra\\anaconda3\\lib\\site-packages\\ipykernel_launcher.py:16: DeprecationWarning: Call to deprecated `wv` (Attribute will be removed in 4.0.0, use self instead).\n",
      "  app.launch_new_instance()\n",
      "C:\\Users\\estra\\anaconda3\\lib\\site-packages\\umap\\umap_.py:1158: RuntimeWarning: divide by zero encountered in power\n",
      "  return 1.0 / (1.0 + a * x ** (2 * b))\n",
      "C:\\Users\\estra\\anaconda3\\lib\\site-packages\\umap\\umap_.py:1679: UserWarning: n_neighbors is larger than the dataset size; truncating to X.shape[0] - 1\n",
      "  \"n_neighbors is larger than the dataset size; truncating to \"\n",
      "C:\\Users\\estra\\anaconda3\\lib\\site-packages\\ipykernel_launcher.py:20: DeprecationWarning: Call to deprecated `wv` (Attribute will be removed in 4.0.0, use self instead).\n"
     ]
    },
    {
     "data": {
      "text/html": [
       "<div>\n",
       "<style scoped>\n",
       "    .dataframe tbody tr th:only-of-type {\n",
       "        vertical-align: middle;\n",
       "    }\n",
       "\n",
       "    .dataframe tbody tr th {\n",
       "        vertical-align: top;\n",
       "    }\n",
       "\n",
       "    .dataframe thead th {\n",
       "        text-align: right;\n",
       "    }\n",
       "</style>\n",
       "<table border=\"1\" class=\"dataframe\">\n",
       "  <thead>\n",
       "    <tr style=\"text-align: right;\">\n",
       "      <th></th>\n",
       "      <th>x</th>\n",
       "      <th>y</th>\n",
       "      <th>token</th>\n",
       "    </tr>\n",
       "  </thead>\n",
       "  <tbody>\n",
       "    <tr>\n",
       "      <th>0</th>\n",
       "      <td>18.885817</td>\n",
       "      <td>11.136766</td>\n",
       "      <td>meeting</td>\n",
       "    </tr>\n",
       "    <tr>\n",
       "      <th>1</th>\n",
       "      <td>11.958325</td>\n",
       "      <td>13.221029</td>\n",
       "      <td>software</td>\n",
       "    </tr>\n",
       "    <tr>\n",
       "      <th>2</th>\n",
       "      <td>8.193374</td>\n",
       "      <td>11.469593</td>\n",
       "      <td>time</td>\n",
       "    </tr>\n",
       "    <tr>\n",
       "      <th>3</th>\n",
       "      <td>10.676627</td>\n",
       "      <td>7.261473</td>\n",
       "      <td>use</td>\n",
       "    </tr>\n",
       "    <tr>\n",
       "      <th>4</th>\n",
       "      <td>10.324948</td>\n",
       "      <td>11.985369</td>\n",
       "      <td>issue</td>\n",
       "    </tr>\n",
       "    <tr>\n",
       "      <th>5</th>\n",
       "      <td>18.237913</td>\n",
       "      <td>4.386499</td>\n",
       "      <td>user</td>\n",
       "    </tr>\n",
       "    <tr>\n",
       "      <th>6</th>\n",
       "      <td>14.665853</td>\n",
       "      <td>7.927390</td>\n",
       "      <td>work</td>\n",
       "    </tr>\n",
       "    <tr>\n",
       "      <th>7</th>\n",
       "      <td>8.468895</td>\n",
       "      <td>5.098129</td>\n",
       "      <td>call</td>\n",
       "    </tr>\n",
       "    <tr>\n",
       "      <th>8</th>\n",
       "      <td>3.024103</td>\n",
       "      <td>13.076326</td>\n",
       "      <td>product</td>\n",
       "    </tr>\n",
       "    <tr>\n",
       "      <th>9</th>\n",
       "      <td>3.104112</td>\n",
       "      <td>6.323946</td>\n",
       "      <td>app</td>\n",
       "    </tr>\n",
       "    <tr>\n",
       "      <th>10</th>\n",
       "      <td>13.815324</td>\n",
       "      <td>4.260827</td>\n",
       "      <td>great</td>\n",
       "    </tr>\n",
       "    <tr>\n",
       "      <th>11</th>\n",
       "      <td>3.715821</td>\n",
       "      <td>0.895669</td>\n",
       "      <td>etc</td>\n",
       "    </tr>\n",
       "    <tr>\n",
       "      <th>12</th>\n",
       "      <td>4.388843</td>\n",
       "      <td>11.032735</td>\n",
       "      <td>program</td>\n",
       "    </tr>\n",
       "    <tr>\n",
       "      <th>13</th>\n",
       "      <td>1.108980</td>\n",
       "      <td>8.733471</td>\n",
       "      <td>tool</td>\n",
       "    </tr>\n",
       "    <tr>\n",
       "      <th>14</th>\n",
       "      <td>1.767568</td>\n",
       "      <td>2.064636</td>\n",
       "      <td>well</td>\n",
       "    </tr>\n",
       "    <tr>\n",
       "      <th>15</th>\n",
       "      <td>11.426131</td>\n",
       "      <td>3.418245</td>\n",
       "      <td>feature</td>\n",
       "    </tr>\n",
       "    <tr>\n",
       "      <th>16</th>\n",
       "      <td>5.495287</td>\n",
       "      <td>13.572488</td>\n",
       "      <td>problem</td>\n",
       "    </tr>\n",
       "    <tr>\n",
       "      <th>17</th>\n",
       "      <td>-0.377047</td>\n",
       "      <td>6.821114</td>\n",
       "      <td>team</td>\n",
       "    </tr>\n",
       "    <tr>\n",
       "      <th>18</th>\n",
       "      <td>2.139400</td>\n",
       "      <td>11.201366</td>\n",
       "      <td>project</td>\n",
       "    </tr>\n",
       "    <tr>\n",
       "      <th>19</th>\n",
       "      <td>15.061868</td>\n",
       "      <td>14.636696</td>\n",
       "      <td>computer</td>\n",
       "    </tr>\n",
       "    <tr>\n",
       "      <th>20</th>\n",
       "      <td>19.551067</td>\n",
       "      <td>8.677942</td>\n",
       "      <td>application</td>\n",
       "    </tr>\n",
       "    <tr>\n",
       "      <th>21</th>\n",
       "      <td>3.942571</td>\n",
       "      <td>3.611072</td>\n",
       "      <td>zoom</td>\n",
       "    </tr>\n",
       "    <tr>\n",
       "      <th>22</th>\n",
       "      <td>12.312545</td>\n",
       "      <td>9.664404</td>\n",
       "      <td>people</td>\n",
       "    </tr>\n",
       "    <tr>\n",
       "      <th>23</th>\n",
       "      <td>10.285583</td>\n",
       "      <td>14.815886</td>\n",
       "      <td>better</td>\n",
       "    </tr>\n",
       "    <tr>\n",
       "      <th>24</th>\n",
       "      <td>13.124749</td>\n",
       "      <td>2.074712</td>\n",
       "      <td>option</td>\n",
       "    </tr>\n",
       "    <tr>\n",
       "      <th>25</th>\n",
       "      <td>16.238279</td>\n",
       "      <td>1.277219</td>\n",
       "      <td>good</td>\n",
       "    </tr>\n",
       "    <tr>\n",
       "      <th>26</th>\n",
       "      <td>16.093229</td>\n",
       "      <td>5.861402</td>\n",
       "      <td>connection</td>\n",
       "    </tr>\n",
       "    <tr>\n",
       "      <th>27</th>\n",
       "      <td>9.424585</td>\n",
       "      <td>2.706661</td>\n",
       "      <td>phone</td>\n",
       "    </tr>\n",
       "    <tr>\n",
       "      <th>28</th>\n",
       "      <td>9.889832</td>\n",
       "      <td>-0.494398</td>\n",
       "      <td>service</td>\n",
       "    </tr>\n",
       "    <tr>\n",
       "      <th>29</th>\n",
       "      <td>17.557070</td>\n",
       "      <td>8.662186</td>\n",
       "      <td>experience</td>\n",
       "    </tr>\n",
       "    <tr>\n",
       "      <th>30</th>\n",
       "      <td>10.789049</td>\n",
       "      <td>16.398205</td>\n",
       "      <td>like_least_software</td>\n",
       "    </tr>\n",
       "    <tr>\n",
       "      <th>31</th>\n",
       "      <td>10.862081</td>\n",
       "      <td>5.539991</td>\n",
       "      <td>used</td>\n",
       "    </tr>\n",
       "    <tr>\n",
       "      <th>32</th>\n",
       "      <td>9.879977</td>\n",
       "      <td>9.072929</td>\n",
       "      <td>screen</td>\n",
       "    </tr>\n",
       "    <tr>\n",
       "      <th>33</th>\n",
       "      <td>14.572926</td>\n",
       "      <td>9.949265</td>\n",
       "      <td>like</td>\n",
       "    </tr>\n",
       "    <tr>\n",
       "      <th>34</th>\n",
       "      <td>20.036976</td>\n",
       "      <td>6.311022</td>\n",
       "      <td>sometimes</td>\n",
       "    </tr>\n",
       "    <tr>\n",
       "      <th>35</th>\n",
       "      <td>18.112906</td>\n",
       "      <td>6.732722</td>\n",
       "      <td>message</td>\n",
       "    </tr>\n",
       "    <tr>\n",
       "      <th>36</th>\n",
       "      <td>5.816681</td>\n",
       "      <td>-0.304372</td>\n",
       "      <td>task</td>\n",
       "    </tr>\n",
       "    <tr>\n",
       "      <th>37</th>\n",
       "      <td>8.120269</td>\n",
       "      <td>1.114206</td>\n",
       "      <td>need</td>\n",
       "    </tr>\n",
       "    <tr>\n",
       "      <th>38</th>\n",
       "      <td>13.738558</td>\n",
       "      <td>11.825495</td>\n",
       "      <td>video</td>\n",
       "    </tr>\n",
       "    <tr>\n",
       "      <th>39</th>\n",
       "      <td>16.843388</td>\n",
       "      <td>11.853809</td>\n",
       "      <td>annoying</td>\n",
       "    </tr>\n",
       "    <tr>\n",
       "      <th>40</th>\n",
       "      <td>17.098179</td>\n",
       "      <td>13.614527</td>\n",
       "      <td>thing</td>\n",
       "    </tr>\n",
       "    <tr>\n",
       "      <th>41</th>\n",
       "      <td>1.022844</td>\n",
       "      <td>5.499990</td>\n",
       "      <td>apps</td>\n",
       "    </tr>\n",
       "    <tr>\n",
       "      <th>42</th>\n",
       "      <td>12.890248</td>\n",
       "      <td>14.992603</td>\n",
       "      <td>issue_software</td>\n",
       "    </tr>\n",
       "    <tr>\n",
       "      <th>43</th>\n",
       "      <td>14.471657</td>\n",
       "      <td>-0.064593</td>\n",
       "      <td>quality</td>\n",
       "    </tr>\n",
       "    <tr>\n",
       "      <th>44</th>\n",
       "      <td>14.119291</td>\n",
       "      <td>6.053358</td>\n",
       "      <td>chat</td>\n",
       "    </tr>\n",
       "    <tr>\n",
       "      <th>45</th>\n",
       "      <td>6.100271</td>\n",
       "      <td>5.890656</td>\n",
       "      <td>improved</td>\n",
       "    </tr>\n",
       "    <tr>\n",
       "      <th>46</th>\n",
       "      <td>7.900445</td>\n",
       "      <td>8.316886</td>\n",
       "      <td>easy_to_use</td>\n",
       "    </tr>\n",
       "    <tr>\n",
       "      <th>47</th>\n",
       "      <td>16.923037</td>\n",
       "      <td>3.108827</td>\n",
       "      <td>slow</td>\n",
       "    </tr>\n",
       "    <tr>\n",
       "      <th>48</th>\n",
       "      <td>5.725489</td>\n",
       "      <td>8.719350</td>\n",
       "      <td>easy</td>\n",
       "    </tr>\n",
       "    <tr>\n",
       "      <th>49</th>\n",
       "      <td>16.059114</td>\n",
       "      <td>9.903090</td>\n",
       "      <td>meeting_time</td>\n",
       "    </tr>\n",
       "  </tbody>\n",
       "</table>\n",
       "</div>"
      ],
      "text/plain": [
       "            x          y                token\n",
       "0   18.885817  11.136766              meeting\n",
       "1   11.958325  13.221029             software\n",
       "2    8.193374  11.469593                 time\n",
       "3   10.676627   7.261473                  use\n",
       "4   10.324948  11.985369                issue\n",
       "5   18.237913   4.386499                 user\n",
       "6   14.665853   7.927390                 work\n",
       "7    8.468895   5.098129                 call\n",
       "8    3.024103  13.076326              product\n",
       "9    3.104112   6.323946                  app\n",
       "10  13.815324   4.260827                great\n",
       "11   3.715821   0.895669                  etc\n",
       "12   4.388843  11.032735              program\n",
       "13   1.108980   8.733471                 tool\n",
       "14   1.767568   2.064636                 well\n",
       "15  11.426131   3.418245              feature\n",
       "16   5.495287  13.572488              problem\n",
       "17  -0.377047   6.821114                 team\n",
       "18   2.139400  11.201366              project\n",
       "19  15.061868  14.636696             computer\n",
       "20  19.551067   8.677942          application\n",
       "21   3.942571   3.611072                 zoom\n",
       "22  12.312545   9.664404               people\n",
       "23  10.285583  14.815886               better\n",
       "24  13.124749   2.074712               option\n",
       "25  16.238279   1.277219                 good\n",
       "26  16.093229   5.861402           connection\n",
       "27   9.424585   2.706661                phone\n",
       "28   9.889832  -0.494398              service\n",
       "29  17.557070   8.662186           experience\n",
       "30  10.789049  16.398205  like_least_software\n",
       "31  10.862081   5.539991                 used\n",
       "32   9.879977   9.072929               screen\n",
       "33  14.572926   9.949265                 like\n",
       "34  20.036976   6.311022            sometimes\n",
       "35  18.112906   6.732722              message\n",
       "36   5.816681  -0.304372                 task\n",
       "37   8.120269   1.114206                 need\n",
       "38  13.738558  11.825495                video\n",
       "39  16.843388  11.853809             annoying\n",
       "40  17.098179  13.614527                thing\n",
       "41   1.022844   5.499990                 apps\n",
       "42  12.890248  14.992603       issue_software\n",
       "43  14.471657  -0.064593              quality\n",
       "44  14.119291   6.053358                 chat\n",
       "45   6.100271   5.890656             improved\n",
       "46   7.900445   8.316886          easy_to_use\n",
       "47  16.923037   3.108827                 slow\n",
       "48   5.725489   8.719350                 easy\n",
       "49  16.059114   9.903090         meeting_time"
      ]
     },
     "execution_count": 33,
     "metadata": {},
     "output_type": "execute_result"
    }
   ],
   "source": [
    "import numpy as np\n",
    "import matplotlib.pyplot as plt\n",
    "import matplotlib\n",
    "import random\n",
    "from adjustText import adjust_text\n",
    "random.seed(42)\n",
    "plt.rcParams['figure.figsize'] = 25, 12\n",
    "\n",
    "import umap\n",
    "def train_umap(model):\n",
    "    random.seed(42)\n",
    "    np.random.seed(42)\n",
    "    X = model[model.wv.vocab]\n",
    "    reducer = umap.UMAP(n_neighbors=200, metric='cosine', learning_rate=0.01,\n",
    "                        n_epochs=2000, spread=5, min_dist=0.5, random_state=42)\n",
    "    X = model[model.wv.vocab]\n",
    "    embedding = reducer.fit_transform(X)\n",
    "\n",
    "    df = pd.DataFrame(embedding)\n",
    "    df['token'] = model.wv.vocab\n",
    "    df.columns  = ['x', 'y', 'token']\n",
    "    return df\n",
    "\n",
    "word_set = {w for w in top100 if w in ft_imported_model.vocab}\n",
    "restrict_w2v(ft_imported_model, word_set)\n",
    "top100umap = train_umap(ft_imported_model)\n",
    "top100umap"
   ]
  },
  {
   "cell_type": "code",
   "execution_count": 34,
   "metadata": {},
   "outputs": [
    {
     "data": {
      "text/plain": [
       "6"
      ]
     },
     "execution_count": 34,
     "metadata": {},
     "output_type": "execute_result"
    },
    {
     "data": {
      "image/png": "[encoded data removed]",
      "text/plain": [
       "<Figure size 1800x864 with 1 Axes>"
      ]
     },
     "metadata": {
      "needs_background": "light"
     },
     "output_type": "display_data"
    }
   ],
   "source": [
    "# !pip install adjustText\n",
    "from adjustText import adjust_text\n",
    "text = []\n",
    "for index, row in top100umap.iterrows():\n",
    "    plt.scatter(row['x'], row['y'], c='b', alpha=0.6, marker='o', s=100, edgecolors='black')\n",
    "    text.append(plt.annotate(row['token'], alpha=0.5, xy=(row['x'], row['y']), ha='right', va='bottom', size=16))\n",
    "adjust_text(text)"
   ]
  }
 ],
 "metadata": {
  "kernelspec": {
   "display_name": "Python 3",
   "language": "python",
   "name": "python3"
  },
  "language_info": {
   "codemirror_mode": {
    "name": "ipython",
    "version": 3
   },
   "file_extension": ".py",
   "mimetype": "text/x-python",
   "name": "python",
   "nbconvert_exporter": "python",
   "pygments_lexer": "ipython3",
   "version": "3.7.6"
  },
  "toc": {
   "base_numbering": 1,
   "nav_menu": {},
   "number_sections": true,
   "sideBar": true,
   "skip_h1_title": false,
   "title_cell": "Table of Contents",
   "title_sidebar": "Contents",
   "toc_cell": false,
   "toc_position": {
    "height": "calc(100% - 180px)",
    "left": "10px",
    "top": "150px",
    "width": "238.475px"
   },
   "toc_section_display": true,
   "toc_window_display": true
  }
 },
 "nbformat": 4,
 "nbformat_minor": 4
}
