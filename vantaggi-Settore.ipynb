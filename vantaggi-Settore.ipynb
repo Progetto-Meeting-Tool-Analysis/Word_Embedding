{
 "cells": [
  {
   "cell_type": "code",
   "execution_count": 1,
   "metadata": {},
   "outputs": [],
   "source": [
    "#!pip install langdetect"
   ]
  },
  {
   "cell_type": "code",
   "execution_count": 2,
   "metadata": {},
   "outputs": [],
   "source": [
    "import pandas as pd\n",
    "import numpy as np\n",
    "import tqdm"
   ]
  },
  {
   "cell_type": "code",
   "execution_count": 13,
   "metadata": {},
   "outputs": [
    {
     "data": {
      "text/html": [
       "<div>\n",
       "<style scoped>\n",
       "    .dataframe tbody tr th:only-of-type {\n",
       "        vertical-align: middle;\n",
       "    }\n",
       "\n",
       "    .dataframe tbody tr th {\n",
       "        vertical-align: top;\n",
       "    }\n",
       "\n",
       "    .dataframe thead th {\n",
       "        text-align: right;\n",
       "    }\n",
       "</style>\n",
       "<table border=\"1\" class=\"dataframe\">\n",
       "  <thead>\n",
       "    <tr style=\"text-align: right;\">\n",
       "      <th></th>\n",
       "      <th>ID_General</th>\n",
       "      <th>Piattaforma</th>\n",
       "      <th>Settore</th>\n",
       "      <th>Utilizzo_software</th>\n",
       "      <th>Consigliato</th>\n",
       "      <th>Data_Recensione</th>\n",
       "      <th>Vantaggi</th>\n",
       "      <th>Lang</th>\n",
       "      <th>bin_y</th>\n",
       "    </tr>\n",
       "  </thead>\n",
       "  <tbody>\n",
       "    <tr>\n",
       "      <th>0</th>\n",
       "      <td>0 Go_To_Meeting</td>\n",
       "      <td>Go_To_Meeting</td>\n",
       "      <td>Information Technologies</td>\n",
       "      <td>Più di 2 anni</td>\n",
       "      <td>10.0</td>\n",
       "      <td>26/3/2020</td>\n",
       "      <td>I've tried other solutions and for me the best...</td>\n",
       "      <td>en</td>\n",
       "      <td>1.0</td>\n",
       "    </tr>\n",
       "    <tr>\n",
       "      <th>1</th>\n",
       "      <td>0 Microsoft_Teams</td>\n",
       "      <td>Microsoft_Teams</td>\n",
       "      <td>Science &amp; Pharmaceutical</td>\n",
       "      <td>Più di 2 anni</td>\n",
       "      <td>8.0</td>\n",
       "      <td>23/6/2020</td>\n",
       "      <td>the integration with sharepoint and office 365...</td>\n",
       "      <td>en</td>\n",
       "      <td>1.0</td>\n",
       "    </tr>\n",
       "    <tr>\n",
       "      <th>2</th>\n",
       "      <td>0 WebEx</td>\n",
       "      <td>WebEx</td>\n",
       "      <td>Enginering &amp; Manufactoring</td>\n",
       "      <td>Più di 2 anni</td>\n",
       "      <td>8.0</td>\n",
       "      <td>25/7/2019</td>\n",
       "      <td>webex is really easy to use and setup! from bo...</td>\n",
       "      <td>en</td>\n",
       "      <td>1.0</td>\n",
       "    </tr>\n",
       "    <tr>\n",
       "      <th>3</th>\n",
       "      <td>1 Asana</td>\n",
       "      <td>Asana</td>\n",
       "      <td>Public Services &amp; Administration</td>\n",
       "      <td>Più di 2 anni</td>\n",
       "      <td>10.0</td>\n",
       "      <td>10/06/2019</td>\n",
       "      <td>It's very easy to implement and to onboard new...</td>\n",
       "      <td>en</td>\n",
       "      <td>1.0</td>\n",
       "    </tr>\n",
       "    <tr>\n",
       "      <th>4</th>\n",
       "      <td>1 Go_To_Meeting</td>\n",
       "      <td>Go_To_Meeting</td>\n",
       "      <td>Property &amp; Constructions</td>\n",
       "      <td>6-12 mesi</td>\n",
       "      <td>8.0</td>\n",
       "      <td>8/11/2020</td>\n",
       "      <td>As the review title, I can confirm this is for...</td>\n",
       "      <td>en</td>\n",
       "      <td>1.0</td>\n",
       "    </tr>\n",
       "    <tr>\n",
       "      <th>...</th>\n",
       "      <td>...</td>\n",
       "      <td>...</td>\n",
       "      <td>...</td>\n",
       "      <td>...</td>\n",
       "      <td>...</td>\n",
       "      <td>...</td>\n",
       "      <td>...</td>\n",
       "      <td>...</td>\n",
       "      <td>...</td>\n",
       "    </tr>\n",
       "    <tr>\n",
       "      <th>32600</th>\n",
       "      <td>999 Go_To_Meeting</td>\n",
       "      <td>Go_To_Meeting</td>\n",
       "      <td>Hospitality &amp; Event Managements</td>\n",
       "      <td>Più di 1 anno</td>\n",
       "      <td>10.0</td>\n",
       "      <td>12/9/2019</td>\n",
       "      <td>How easy it is to operate. You can get right o...</td>\n",
       "      <td>en</td>\n",
       "      <td>1.0</td>\n",
       "    </tr>\n",
       "    <tr>\n",
       "      <th>32601</th>\n",
       "      <td>999 Google_Meet</td>\n",
       "      <td>Google_Meet</td>\n",
       "      <td>Information Technologies</td>\n",
       "      <td>Più di 2 anni</td>\n",
       "      <td>10.0</td>\n",
       "      <td>12/3/2019</td>\n",
       "      <td>The least I like about this software of google...</td>\n",
       "      <td>en</td>\n",
       "      <td>1.0</td>\n",
       "    </tr>\n",
       "    <tr>\n",
       "      <th>32602</th>\n",
       "      <td>999 Microsoft_Teams</td>\n",
       "      <td>Microsoft_Teams</td>\n",
       "      <td>Accountancy, Banking &amp; Finance</td>\n",
       "      <td>Più di 2 anni</td>\n",
       "      <td>9.0</td>\n",
       "      <td>21/9/2020</td>\n",
       "      <td>what i like most about this software is the co...</td>\n",
       "      <td>en</td>\n",
       "      <td>1.0</td>\n",
       "    </tr>\n",
       "    <tr>\n",
       "      <th>32603</th>\n",
       "      <td>999 TeamViewer</td>\n",
       "      <td>TeamViewer</td>\n",
       "      <td>Healthcare</td>\n",
       "      <td>Più di 2 anni</td>\n",
       "      <td>9.0</td>\n",
       "      <td>07/11/2020</td>\n",
       "      <td>It's pretty simple to use and allows you to ha...</td>\n",
       "      <td>en</td>\n",
       "      <td>1.0</td>\n",
       "    </tr>\n",
       "    <tr>\n",
       "      <th>32604</th>\n",
       "      <td>999 Zoom</td>\n",
       "      <td>Zoom</td>\n",
       "      <td>Recruitment &amp; HR</td>\n",
       "      <td>Più di 1 anno</td>\n",
       "      <td>10.0</td>\n",
       "      <td>27/9/2019</td>\n",
       "      <td>how easy it is for my customers to get to talk...</td>\n",
       "      <td>en</td>\n",
       "      <td>1.0</td>\n",
       "    </tr>\n",
       "  </tbody>\n",
       "</table>\n",
       "<p>32605 rows × 9 columns</p>\n",
       "</div>"
      ],
      "text/plain": [
       "                ID_General      Piattaforma                           Settore  \\\n",
       "0          0 Go_To_Meeting    Go_To_Meeting          Information Technologies   \n",
       "1        0 Microsoft_Teams  Microsoft_Teams          Science & Pharmaceutical   \n",
       "2                  0 WebEx            WebEx        Enginering & Manufactoring   \n",
       "3                  1 Asana            Asana  Public Services & Administration   \n",
       "4          1 Go_To_Meeting    Go_To_Meeting          Property & Constructions   \n",
       "...                    ...              ...                               ...   \n",
       "32600    999 Go_To_Meeting    Go_To_Meeting   Hospitality & Event Managements   \n",
       "32601      999 Google_Meet      Google_Meet          Information Technologies   \n",
       "32602  999 Microsoft_Teams  Microsoft_Teams    Accountancy, Banking & Finance   \n",
       "32603       999 TeamViewer       TeamViewer                        Healthcare   \n",
       "32604             999 Zoom             Zoom                  Recruitment & HR   \n",
       "\n",
       "      Utilizzo_software  Consigliato Data_Recensione  \\\n",
       "0         Più di 2 anni         10.0       26/3/2020   \n",
       "1         Più di 2 anni          8.0       23/6/2020   \n",
       "2         Più di 2 anni          8.0       25/7/2019   \n",
       "3         Più di 2 anni         10.0      10/06/2019   \n",
       "4             6-12 mesi          8.0       8/11/2020   \n",
       "...                 ...          ...             ...   \n",
       "32600     Più di 1 anno         10.0       12/9/2019   \n",
       "32601     Più di 2 anni         10.0       12/3/2019   \n",
       "32602     Più di 2 anni          9.0       21/9/2020   \n",
       "32603     Più di 2 anni          9.0      07/11/2020   \n",
       "32604     Più di 1 anno         10.0       27/9/2019   \n",
       "\n",
       "                                                Vantaggi Lang  bin_y  \n",
       "0      I've tried other solutions and for me the best...   en    1.0  \n",
       "1      the integration with sharepoint and office 365...   en    1.0  \n",
       "2      webex is really easy to use and setup! from bo...   en    1.0  \n",
       "3      It's very easy to implement and to onboard new...   en    1.0  \n",
       "4      As the review title, I can confirm this is for...   en    1.0  \n",
       "...                                                  ...  ...    ...  \n",
       "32600  How easy it is to operate. You can get right o...   en    1.0  \n",
       "32601  The least I like about this software of google...   en    1.0  \n",
       "32602  what i like most about this software is the co...   en    1.0  \n",
       "32603  It's pretty simple to use and allows you to ha...   en    1.0  \n",
       "32604  how easy it is for my customers to get to talk...   en    1.0  \n",
       "\n",
       "[32605 rows x 9 columns]"
      ]
     },
     "execution_count": 13,
     "metadata": {},
     "output_type": "execute_result"
    }
   ],
   "source": [
    "df_raw = pd.read_csv(\"df_Settore.csv\")\n",
    "df_raw"
   ]
  },
  {
   "cell_type": "code",
   "execution_count": 14,
   "metadata": {},
   "outputs": [
    {
     "data": {
      "text/plain": [
       "32605"
      ]
     },
     "execution_count": 14,
     "metadata": {},
     "output_type": "execute_result"
    }
   ],
   "source": [
    "len(df_raw)\n",
    "#missingValueMask = df_raw.loc[:,'Commenti'].isna()\n",
    "#print(df_raw.loc[missingValueMask,:].shape)"
   ]
  },
  {
   "cell_type": "code",
   "execution_count": 5,
   "metadata": {},
   "outputs": [
    {
     "data": {
      "text/plain": [
       "Information Technologies             6548\n",
       "Teacher training & Education         3338\n",
       "Marketing, Advertising & PR          2551\n",
       "Accountancy, Banking & Finance       2219\n",
       "Healthcare                           2199\n",
       "Enginering & Manufactoring           2004\n",
       "Media & Internet                     1974\n",
       "Retail                               1474\n",
       "Charity & Voluntary Work             1314\n",
       "Leisure, sport & Turism              1301\n",
       "Business, Consulting & Management    1204\n",
       "Creative Arts & Design               1042\n",
       "Property & Constructions             1030\n",
       "Transports Logistics                  664\n",
       "Hospitality & Event Managements       609\n",
       "Recruitment & HR                      530\n",
       "Law & Security                        497\n",
       "Public Services & Administration      476\n",
       "Science & Pharmaceutical              437\n",
       "Energy & Utilities                    332\n",
       "Sales                                 267\n",
       "Environment & Agricolture             251\n",
       "Social Care                           173\n",
       "Aerospace                             171\n",
       "Name: Settore, dtype: int64"
      ]
     },
     "execution_count": 5,
     "metadata": {},
     "output_type": "execute_result"
    }
   ],
   "source": [
    "df_raw.Settore.value_counts()"
   ]
  },
  {
   "cell_type": "code",
   "execution_count": 15,
   "metadata": {},
   "outputs": [
    {
     "data": {
      "text/html": [
       "<div>\n",
       "<style scoped>\n",
       "    .dataframe tbody tr th:only-of-type {\n",
       "        vertical-align: middle;\n",
       "    }\n",
       "\n",
       "    .dataframe tbody tr th {\n",
       "        vertical-align: top;\n",
       "    }\n",
       "\n",
       "    .dataframe thead th {\n",
       "        text-align: right;\n",
       "    }\n",
       "</style>\n",
       "<table border=\"1\" class=\"dataframe\">\n",
       "  <thead>\n",
       "    <tr style=\"text-align: right;\">\n",
       "      <th></th>\n",
       "      <th>ID_General</th>\n",
       "      <th>Piattaforma</th>\n",
       "      <th>Settore</th>\n",
       "      <th>Utilizzo_software</th>\n",
       "      <th>Consigliato</th>\n",
       "      <th>Data_Recensione</th>\n",
       "      <th>Vantaggi</th>\n",
       "      <th>Lang</th>\n",
       "      <th>bin_y</th>\n",
       "    </tr>\n",
       "  </thead>\n",
       "  <tbody>\n",
       "    <tr>\n",
       "      <th>0</th>\n",
       "      <td>0 Go_To_Meeting</td>\n",
       "      <td>Go_To_Meeting</td>\n",
       "      <td>Information Technologies</td>\n",
       "      <td>Più di 2 anni</td>\n",
       "      <td>10.0</td>\n",
       "      <td>26/3/2020</td>\n",
       "      <td>I've tried other solutions and for me the best...</td>\n",
       "      <td>en</td>\n",
       "      <td>1.0</td>\n",
       "    </tr>\n",
       "    <tr>\n",
       "      <th>1</th>\n",
       "      <td>0 Microsoft_Teams</td>\n",
       "      <td>Microsoft_Teams</td>\n",
       "      <td>Science &amp; Pharmaceutical</td>\n",
       "      <td>Più di 2 anni</td>\n",
       "      <td>8.0</td>\n",
       "      <td>23/6/2020</td>\n",
       "      <td>the integration with sharepoint and office 365...</td>\n",
       "      <td>en</td>\n",
       "      <td>1.0</td>\n",
       "    </tr>\n",
       "    <tr>\n",
       "      <th>2</th>\n",
       "      <td>0 WebEx</td>\n",
       "      <td>WebEx</td>\n",
       "      <td>Enginering &amp; Manufactoring</td>\n",
       "      <td>Più di 2 anni</td>\n",
       "      <td>8.0</td>\n",
       "      <td>25/7/2019</td>\n",
       "      <td>webex is really easy to use and setup! from bo...</td>\n",
       "      <td>en</td>\n",
       "      <td>1.0</td>\n",
       "    </tr>\n",
       "    <tr>\n",
       "      <th>3</th>\n",
       "      <td>1 Asana</td>\n",
       "      <td>Asana</td>\n",
       "      <td>Public Services &amp; Administration</td>\n",
       "      <td>Più di 2 anni</td>\n",
       "      <td>10.0</td>\n",
       "      <td>10/06/2019</td>\n",
       "      <td>It's very easy to implement and to onboard new...</td>\n",
       "      <td>en</td>\n",
       "      <td>1.0</td>\n",
       "    </tr>\n",
       "    <tr>\n",
       "      <th>4</th>\n",
       "      <td>1 Go_To_Meeting</td>\n",
       "      <td>Go_To_Meeting</td>\n",
       "      <td>Property &amp; Constructions</td>\n",
       "      <td>6-12 mesi</td>\n",
       "      <td>8.0</td>\n",
       "      <td>8/11/2020</td>\n",
       "      <td>As the review title, I can confirm this is for...</td>\n",
       "      <td>en</td>\n",
       "      <td>1.0</td>\n",
       "    </tr>\n",
       "    <tr>\n",
       "      <th>...</th>\n",
       "      <td>...</td>\n",
       "      <td>...</td>\n",
       "      <td>...</td>\n",
       "      <td>...</td>\n",
       "      <td>...</td>\n",
       "      <td>...</td>\n",
       "      <td>...</td>\n",
       "      <td>...</td>\n",
       "      <td>...</td>\n",
       "    </tr>\n",
       "    <tr>\n",
       "      <th>32600</th>\n",
       "      <td>999 Go_To_Meeting</td>\n",
       "      <td>Go_To_Meeting</td>\n",
       "      <td>Hospitality &amp; Event Managements</td>\n",
       "      <td>Più di 1 anno</td>\n",
       "      <td>10.0</td>\n",
       "      <td>12/9/2019</td>\n",
       "      <td>How easy it is to operate. You can get right o...</td>\n",
       "      <td>en</td>\n",
       "      <td>1.0</td>\n",
       "    </tr>\n",
       "    <tr>\n",
       "      <th>32601</th>\n",
       "      <td>999 Google_Meet</td>\n",
       "      <td>Google_Meet</td>\n",
       "      <td>Information Technologies</td>\n",
       "      <td>Più di 2 anni</td>\n",
       "      <td>10.0</td>\n",
       "      <td>12/3/2019</td>\n",
       "      <td>The least I like about this software of google...</td>\n",
       "      <td>en</td>\n",
       "      <td>1.0</td>\n",
       "    </tr>\n",
       "    <tr>\n",
       "      <th>32602</th>\n",
       "      <td>999 Microsoft_Teams</td>\n",
       "      <td>Microsoft_Teams</td>\n",
       "      <td>Accountancy, Banking &amp; Finance</td>\n",
       "      <td>Più di 2 anni</td>\n",
       "      <td>9.0</td>\n",
       "      <td>21/9/2020</td>\n",
       "      <td>what i like most about this software is the co...</td>\n",
       "      <td>en</td>\n",
       "      <td>1.0</td>\n",
       "    </tr>\n",
       "    <tr>\n",
       "      <th>32603</th>\n",
       "      <td>999 TeamViewer</td>\n",
       "      <td>TeamViewer</td>\n",
       "      <td>Healthcare</td>\n",
       "      <td>Più di 2 anni</td>\n",
       "      <td>9.0</td>\n",
       "      <td>07/11/2020</td>\n",
       "      <td>It's pretty simple to use and allows you to ha...</td>\n",
       "      <td>en</td>\n",
       "      <td>1.0</td>\n",
       "    </tr>\n",
       "    <tr>\n",
       "      <th>32604</th>\n",
       "      <td>999 Zoom</td>\n",
       "      <td>Zoom</td>\n",
       "      <td>Recruitment &amp; HR</td>\n",
       "      <td>Più di 1 anno</td>\n",
       "      <td>10.0</td>\n",
       "      <td>27/9/2019</td>\n",
       "      <td>how easy it is for my customers to get to talk...</td>\n",
       "      <td>en</td>\n",
       "      <td>1.0</td>\n",
       "    </tr>\n",
       "  </tbody>\n",
       "</table>\n",
       "<p>25815 rows × 9 columns</p>\n",
       "</div>"
      ],
      "text/plain": [
       "                ID_General      Piattaforma                           Settore  \\\n",
       "0          0 Go_To_Meeting    Go_To_Meeting          Information Technologies   \n",
       "1        0 Microsoft_Teams  Microsoft_Teams          Science & Pharmaceutical   \n",
       "2                  0 WebEx            WebEx        Enginering & Manufactoring   \n",
       "3                  1 Asana            Asana  Public Services & Administration   \n",
       "4          1 Go_To_Meeting    Go_To_Meeting          Property & Constructions   \n",
       "...                    ...              ...                               ...   \n",
       "32600    999 Go_To_Meeting    Go_To_Meeting   Hospitality & Event Managements   \n",
       "32601      999 Google_Meet      Google_Meet          Information Technologies   \n",
       "32602  999 Microsoft_Teams  Microsoft_Teams    Accountancy, Banking & Finance   \n",
       "32603       999 TeamViewer       TeamViewer                        Healthcare   \n",
       "32604             999 Zoom             Zoom                  Recruitment & HR   \n",
       "\n",
       "      Utilizzo_software  Consigliato Data_Recensione  \\\n",
       "0         Più di 2 anni         10.0       26/3/2020   \n",
       "1         Più di 2 anni          8.0       23/6/2020   \n",
       "2         Più di 2 anni          8.0       25/7/2019   \n",
       "3         Più di 2 anni         10.0      10/06/2019   \n",
       "4             6-12 mesi          8.0       8/11/2020   \n",
       "...                 ...          ...             ...   \n",
       "32600     Più di 1 anno         10.0       12/9/2019   \n",
       "32601     Più di 2 anni         10.0       12/3/2019   \n",
       "32602     Più di 2 anni          9.0       21/9/2020   \n",
       "32603     Più di 2 anni          9.0      07/11/2020   \n",
       "32604     Più di 1 anno         10.0       27/9/2019   \n",
       "\n",
       "                                                Vantaggi Lang  bin_y  \n",
       "0      I've tried other solutions and for me the best...   en    1.0  \n",
       "1      the integration with sharepoint and office 365...   en    1.0  \n",
       "2      webex is really easy to use and setup! from bo...   en    1.0  \n",
       "3      It's very easy to implement and to onboard new...   en    1.0  \n",
       "4      As the review title, I can confirm this is for...   en    1.0  \n",
       "...                                                  ...  ...    ...  \n",
       "32600  How easy it is to operate. You can get right o...   en    1.0  \n",
       "32601  The least I like about this software of google...   en    1.0  \n",
       "32602  what i like most about this software is the co...   en    1.0  \n",
       "32603  It's pretty simple to use and allows you to ha...   en    1.0  \n",
       "32604  how easy it is for my customers to get to talk...   en    1.0  \n",
       "\n",
       "[25815 rows x 9 columns]"
      ]
     },
     "execution_count": 15,
     "metadata": {},
     "output_type": "execute_result"
    }
   ],
   "source": [
    "df_01 = df_raw[df_raw.bin_y==1]\n",
    "df_01"
   ]
  },
  {
   "cell_type": "code",
   "execution_count": 16,
   "metadata": {},
   "outputs": [
    {
     "data": {
      "text/plain": [
       "1.0    25815\n",
       "Name: bin_y, dtype: int64"
      ]
     },
     "execution_count": 16,
     "metadata": {},
     "output_type": "execute_result"
    }
   ],
   "source": [
    "df_01.Settore.value_counts()\n",
    "df_01.bin_y.value_counts()"
   ]
  },
  {
   "cell_type": "code",
   "execution_count": 3,
   "metadata": {},
   "outputs": [],
   "source": [
    "df_01 = pd.read_csv(\"df_settore.csv\")"
   ]
  },
  {
   "cell_type": "code",
   "execution_count": 4,
   "metadata": {},
   "outputs": [
    {
     "data": {
      "text/plain": [
       "5    Hangouts Meet is already available from within...\n",
       "6    the biggest strength, by far, is the integrati...\n",
       "7    You'll be able to utilize this software to rem...\n",
       "8    despite having many features, which can somewh...\n",
       "Name: Vantaggi, dtype: object"
      ]
     },
     "metadata": {},
     "output_type": "display_data"
    }
   ],
   "source": [
    "text_0 = df_01['Vantaggi']\n",
    "y = df_01['bin_y'].tolist()\n",
    "display(text_0[5:9])\n",
    "#df_01.to_csv('df_vantaggi.csv', index=None)"
   ]
  },
  {
   "cell_type": "code",
   "execution_count": 5,
   "metadata": {
    "scrolled": true
   },
   "outputs": [],
   "source": [
    "from tqdm import tqdm\n",
    "from nltk.stem import WordNetLemmatizer\n",
    "lemmatizer = WordNetLemmatizer()\n",
    "\n",
    "#regex rimuoviamo la punteggiatura\n",
    "text = text_0.str.lower().str.replace('[^\\w\\s]','')\n",
    "#seperiamo il testo con split\n",
    "text = text.str.split()\n",
    "# text = text.apply(lambda x: [lemmatizer.lemmatize(word) for sentence in x for word in sentence])\n",
    "text = text.apply(lambda x: [lemmatizer.lemmatize(sent) for sent in x])\n",
    "#print(text[5])"
   ]
  },
  {
   "cell_type": "code",
   "execution_count": 6,
   "metadata": {},
   "outputs": [],
   "source": [
    "from gensim.models.phrases import Phrases\n",
    "#from nltk.corpus import stopwords\n",
    "#stop = stopwords.words('english')\n",
    "stop_words = pd.read_csv('stop_list.txt', sep=\" \", header=None)\n",
    "stop = stop_words[0].tolist()\n",
    "stop.extend(['good', 'bad', 'dont', 'many', 'love', 'excellent', 'would', 'perfect', 'even', 'great'])\n",
    "\n",
    "\n",
    "#min_count=entrambe le parole devono comparire almeno 5volte\n",
    "#thresold=frequenza quante volte compaiono una dopo l'altra\n",
    "#common_terms=vengono inseriti in mezzo se presenti, mai all'inizio o fine\n",
    "bigram = Phrases(text, min_count=5, threshold=0.5, common_terms=stop)\n",
    "\n",
    "#print(bigram[text[5]])"
   ]
  },
  {
   "cell_type": "code",
   "execution_count": 7,
   "metadata": {},
   "outputs": [
    {
     "name": "stdout",
     "output_type": "stream",
     "text": [
      "['the', 'integration_with_sharepoint', 'and', 'office_365', 'tool', 'is', 'really', 'awesome', 'work', 'very', 'well', 'and', 'also', 'you', 'can', 'create', 'and', 'builtin', 'apps', 'from', 'power', 'plataform', 'inside', 'your', 'team', 'group', 'and', 'do', 'not', 'forget', 'that', 'you', 'have', 'all', 'the', 'office_365', 'apps', 'to', 'integrate', 'within', 'your', 'group', 'the', 'number', 'of', 'the', 'apps', 'will', 'vary', 'depending', 'on', 'your', 'signature']\n",
      "['the_integration', 'with_sharepoint', 'and', 'office_365', 'tool_is', 'really_awesome', 'work_very', 'well_and', 'also_you', 'can_create', 'and', 'builtin', 'apps', 'from', 'power', 'plataform', 'inside', 'your_team', 'group_and', 'do_not', 'forget', 'that_you', 'have_all', 'the_office', '365', 'apps_to', 'integrate', 'within_your', 'group', 'the_number', 'of_the', 'apps', 'will', 'vary', 'depending_on', 'your', 'signature']\n"
     ]
    }
   ],
   "source": [
    "print(bigram[text[1]])\n",
    "trigram = Phrases(bigram[text], threshold=0.1)\n",
    "print(trigram[text[1]])"
   ]
  },
  {
   "cell_type": "code",
   "execution_count": 8,
   "metadata": {},
   "outputs": [],
   "source": [
    "bigrams = [bigram[item] for item in text]\n",
    "ngrams = [bigram[item] for item in bigrams] #4gram bigram del bigram\n",
    "nngrams = [bigram[item] for item in ngrams]\n",
    "#print(ngrams[5])\n",
    "#print(nngrams[5])"
   ]
  },
  {
   "cell_type": "code",
   "execution_count": 9,
   "metadata": {},
   "outputs": [
    {
     "name": "stdout",
     "output_type": "stream",
     "text": [
      "['ive', 'tried', 'other', 'solution', 'and', 'for', 'me', 'the', 'best', 'from', 'this', 'solution', 'is', 'how', 'easy', 'is', 'to', 'access', 'to', 'the', 'conference', 'for', 'my', 'customer', 'just', 'one', 'click', 'and', 'they', 'are', 'inside', 'the', 'conference']\n"
     ]
    },
    {
     "data": {
      "text/plain": [
       "'tried solution solution access conference customer click inside conference'"
      ]
     },
     "execution_count": 9,
     "metadata": {},
     "output_type": "execute_result"
    }
   ],
   "source": [
    "#from nltk.corpus import stopwords\n",
    "#stop = stopwords.words('english')\n",
    "stop = stop_words[0].tolist()\n",
    "stop.extend(['good', 'bad', 'dont', 'many', 'love', 'excellent', 'would', 'perfect', 'even', 'great', 'also'])\n",
    "print(ngrams[0])\n",
    "train_sentences = []\n",
    "for row in ngrams:\n",
    "    train_sentences.append(' '.join([item for item in row if item not in stop]))\n",
    "# train_sentences = [' '.join(item) for item in ngrams]\n",
    "train_sentences[0]"
   ]
  },
  {
   "cell_type": "code",
   "execution_count": 10,
   "metadata": {},
   "outputs": [],
   "source": [
    "df_01['Vantaggi'] = train_sentences\n",
    "#df_01.to_csv('df_vantaggi_no_stop_words.csv', index=None)"
   ]
  },
  {
   "cell_type": "code",
   "execution_count": 11,
   "metadata": {},
   "outputs": [
    {
     "data": {
      "text/plain": [
       "0        [tried, solution, solution, access, conference...\n",
       "1        [integration_with_sharepoint, office_365, awes...\n",
       "2        [setup, view, point, admin, setting, end, invi...\n",
       "3        [implement, onboard, new, interface, attractiv...\n",
       "4        [review, title, confirm, conference, support, ...\n",
       "                               ...                        \n",
       "32600          [operate, right, call, right_away, clarity]\n",
       "32601    [least, sometimes, receive, notification, phon...\n",
       "32602    [communication, piece, find, communicate, whet...\n",
       "32603    [remote_access, another, help, youre_trying, h...\n",
       "32604    [customer, talk, via, prior, experience, intui...\n",
       "Name: Vantaggi, Length: 32605, dtype: object"
      ]
     },
     "execution_count": 11,
     "metadata": {},
     "output_type": "execute_result"
    }
   ],
   "source": [
    "corpus = df_01['Vantaggi']\n",
    "corpus = corpus.str.split()\n",
    "corpus = corpus.apply(lambda x: [lemmatizer.lemmatize(item) for item in x if item not in stop])\n",
    "corpus = corpus.apply(lambda x: [item for item in x if not item.isnumeric()])\n",
    "corpus"
   ]
  },
  {
   "cell_type": "code",
   "execution_count": 12,
   "metadata": {},
   "outputs": [],
   "source": [
    "import numpy as np\n",
    "from sklearn.feature_extraction.text import CountVectorizer, TfidfVectorizer\n",
    "#limitare le features per overfitting\n",
    "#vectorizer = CountVectorizer(ngram_range=(1, 1), max_features=1000)\n",
    "vectorizer = TfidfVectorizer(ngram_range=(1, 5), max_features=1000)\n",
    "X = vectorizer.fit_transform(train_sentences)\n",
    "#riottengo il nome delle features che prima sono \n",
    "#state converite in chiavi numeriche\n",
    "feature_names = vectorizer.get_feature_names()\n",
    "#X = X.toarray()\n",
    "#le porti in nparray\n",
    "X = np.array(X)\n",
    "y = np.array(y)"
   ]
  },
  {
   "cell_type": "code",
   "execution_count": null,
   "metadata": {},
   "outputs": [],
   "source": [
    "print(feature_names)"
   ]
  },
  {
   "cell_type": "code",
   "execution_count": 13,
   "metadata": {
    "collapsed": true
   },
   "outputs": [
    {
     "name": "stdout",
     "output_type": "stream",
     "text": [
      "Wall time: 43 s\n"
     ]
    }
   ],
   "source": [
    "from gensim.models import FastText\n",
    "%time ft_model = FastText(sg=0, sentences=corpus, size=100, window=5, min_count=10, iter=20, min_n=3, max_n=10)\n",
    "%time ft_model_2 = FastText(sg=0, sentences=corpus, size=100, window=5, min_count=20, iter=20, min_n=3, max_n=9)\n",
    "%time ft_model_3 = FastText(sg=1, sentences=corpus, size=100, window=5, min_count=10, iter=20, min_n=3, max_n=9)\n",
    "%time ft_model_4 = FastText(sg=1, sentences=corpus, size=100, window=5, min_count=20, iter=20, min_n=3, max_n=10)\n",
    "%time ft_model_5 = FastText(sg=0, sentences=corpus, size=150, window=5, min_count=10, iter=50, min_n=3, max_n=10)\n",
    "%time ft_model_6 = FastText(sg=0, sentences=corpus, size=150, window=5, min_count=10, iter=50, min_n=3, max_n=8)\n",
    "%time ft_model_7 = FastText(sg=1, sentences=corpus, size=200, window=5, min_count=10, iter=50, min_n=3, max_n=7)\n",
    "%time ft_model_8 = FastText(sg=1, sentences=corpus, size=200, window=5, min_count=20, iter=50, min_n=3, max_n=8)\n",
    "%time ft_model_9 = FastText(sg=1, sentences=corpus, size=100, window=5, min_count=10, iter=50, min_n=3, max_n=8)\n",
    "%time ft_model_10 = FastText(sg=1, sentences=corpus, size=200, window=5, min_count=20, iter=50, min_n=3, max_n=9)\n",
    "%time ft_model_11 = FastText(sg=1, sentences=corpus, size=100, window=5, min_count=10, iter=50, min_n=3, max_n=10)\n",
    "%time ft_model_12 = FastText(sg=1, sentences=corpus, size=100, window=5, min_count=15, iter=50, min_n=3, max_n=9)\n",
    "%time ft_model_13 = FastText(sg=0, sentences=corpus, size=100, window=5, min_count=15, iter=50, min_n=3, max_n=9, word_ngrams=2)\n",
    "%time ft_model_14 = FastText(sg=0, sentences=corpus, size=100, window=5, min_count=20, iter=50, min_n=3, max_n=9, word_ngrams=3)\n",
    "%time ft_model_15 = FastText(sg=0, sentences=corpus, size=100, window=5, min_count=20, iter=50, min_n=3, max_n=9, word_ngrams=4)\n",
    "%time ft_model_16 = FastText(sg=0, sentences=corpus, size=100, window=5, min_count=20, iter=50, min_n=3, max_n=10, word_ngrams=4)\n",
    "%time ft_model_17 = FastText(sg=0, sentences=corpus, size=150, window=5, min_count=20, iter=50, min_n=3, max_n=10, word_ngrams=4)"
   ]
  },
  {
   "cell_type": "code",
   "execution_count": 16,
   "metadata": {},
   "outputs": [],
   "source": [
    "ft_model.wv.save_word2vec_format('./vantaggi/settore/ft_model.vec', binary=False)\n",
    "ft_model_11.wv.save_word2vec_format('./vantaggi/settore/ft_model_13.vec', binary=False)\n",
    "ft_model_13.wv.save_word2vec_format('./vantaggi/settore/ft_model_13.vec', binary=False)"
   ]
  },
  {
   "cell_type": "code",
   "execution_count": 20,
   "metadata": {},
   "outputs": [],
   "source": [
    "ft_model.wv.save_word2vec_format('./vantaggi/settore/ft_model.vec', binary=False)\n",
    "ft_model_2.wv.save_word2vec_format('./vantaggi/settore/ft_model_2.vec', binary=False)\n",
    "ft_model_3.wv.save_word2vec_format('./vantaggi/settore/ft_model_3.vec', binary=False)\n",
    "ft_model_4.wv.save_word2vec_format('./vantaggi/settore/ft_model_4.vec', binary=False)\n",
    "ft_model_5.wv.save_word2vec_format('./vantaggi/settore/ft_model_5.vec', binary=False)\n",
    "ft_model_6.wv.save_word2vec_format('./vantaggi/settore/ft_model_6.vec', binary=False)\n",
    "ft_model_7.wv.save_word2vec_format('./vantaggi/settore/ft_model_7.vec', binary=False)\n",
    "ft_model_8.wv.save_word2vec_format('./vantaggi/settore/ft_model_8.vec', binary=False)\n",
    "ft_model_9.wv.save_word2vec_format('./vantaggi/settore/ft_model_9.vec', binary=False)\n",
    "ft_model_10.wv.save_word2vec_format('./vantaggi/settore/ft_model_10.vec', binary=False)\n",
    "ft_model_11.wv.save_word2vec_format('./vantaggi/settore/ft_model_11.vec', binary=False)\n",
    "ft_model_12.wv.save_word2vec_format('./vantaggi/settore/ft_model_12.vec', binary=False)"
   ]
  },
  {
   "cell_type": "code",
   "execution_count": 64,
   "metadata": {},
   "outputs": [],
   "source": [
    "ft_model_13.wv.save_word2vec_format('./vantaggi/settore/ft_model_13.vec', binary=False)"
   ]
  },
  {
   "cell_type": "code",
   "execution_count": 68,
   "metadata": {},
   "outputs": [],
   "source": [
    "ft_model_14.wv.save_word2vec_format('./vantaggi/settore/ft_model_14.vec', binary=False)\n",
    "ft_model_15.wv.save_word2vec_format('./vantaggi/settore/ft_model_15.vec', binary=False)\n",
    "ft_model_16.wv.save_word2vec_format('./vantaggi/settore/ft_model_16.vec', binary=False)\n",
    "ft_model_17.wv.save_word2vec_format('./vantaggi/settore/ft_model_17.vec', binary=False)\n",
    "#ft_model_13.wv.save_word2vec_format('./vantaggi/settore/ft_model_13.vec', binary=False)"
   ]
  },
  {
   "cell_type": "code",
   "execution_count": 82,
   "metadata": {
    "collapsed": true
   },
   "outputs": [
    {
     "name": "stderr",
     "output_type": "stream",
     "text": [
      "C:\\Users\\illa\\anaconda3\\lib\\site-packages\\ipykernel_launcher.py:19: DeprecationWarning: Call to deprecated `most_similar` (Method will be removed in 4.0.0, use self.wv.most_similar() instead).\n"
     ]
    },
    {
     "data": {
      "text/plain": [
       "[('google_meet', 0.9239665865898132),\n",
       " ('webex', 0.8877478241920471),\n",
       " ('meeting_tool', 0.8602365255355835),\n",
       " ('go_to_meeting', 0.8573904037475586),\n",
       " ('nothing_really', 0.8499642014503479),\n",
       " ('hangout_wa', 0.8389742970466614),\n",
       " ('cisco_webex', 0.8243247270584106),\n",
       " ('webinar_software', 0.8224180936813354),\n",
       " ('goto_meeting', 0.8209450244903564),\n",
       " ('meeting_platform', 0.8155497908592224),\n",
       " ('gotomeeting', 0.8121265769004822),\n",
       " ('anything_i_dont', 0.811028003692627),\n",
       " ('negative_to_say', 0.8096095323562622),\n",
       " ('video_meeting', 0.8078771829605103),\n",
       " ('impression', 0.80022132396698),\n",
       " ('zoom_wa', 0.7991563081741333),\n",
       " ('10_year', 0.7989054918289185),\n",
       " ('using_zoom', 0.7964450716972351),\n",
       " ('conferencing_software', 0.7932165861129761),\n",
       " ('software_especially', 0.7918576002120972)]"
      ]
     },
     "execution_count": 82,
     "metadata": {},
     "output_type": "execute_result"
    }
   ],
   "source": [
    "#w2v_model.most_similar('zoom', topn = 20)\n",
    "#w2v_model_2.most_similar('zoom', topn = 20)\n",
    "#w2v_model_3.most_similar('zoom', topn = 20)\n",
    "#w2v_model_4.most_similar('zoom', topn = 20)\n",
    "#w2v_model_5.most_similar('zoom', topn = 20)\n",
    "#w2v_model_6.most_similar('zoom', topn = 20)\n",
    "#w2v_model_7.most_similar('zoom', topn = 20)\n",
    "#w2v_model_8.most_similar('zoom', topn = 20)\n",
    "#w2v_model_9.most_similar('zoom', topn = 20)\n",
    "#w2v_model_10.most_similar('teamviewer', topn = 20)\n",
    "#w2v_model_11.most_similar('webex', topn = 20)\n",
    "#w2v_model_12.most_similar('zoom', topn = 20)\n",
    "#w2v_model_13.most_similar('zoom', topn = 20)\n",
    "#w2v_model_14.most_similar('zoom', topn = 20)\n",
    "#w2v_model_15.most_similar('zoom', topn = 20)\n",
    "#w2v_model_16.most_similar('zoom', topn = 20)\n",
    "#w2v_model_17.most_similar('zoom', topn = 20)\n",
    "#w2v_model_18.most_similar('zoom', topn = 20)\n",
    "#w2v_model_19.most_similar('zoom', topn = 20)"
   ]
  },
  {
   "cell_type": "code",
   "execution_count": 60,
   "metadata": {
    "collapsed": true
   },
   "outputs": [
    {
     "name": "stderr",
     "output_type": "stream",
     "text": [
      "C:\\Users\\illa\\anaconda3\\lib\\site-packages\\ipykernel_launcher.py:12: DeprecationWarning: Call to deprecated `most_similar` (Method will be removed in 4.0.0, use self.wv.most_similar() instead).\n",
      "  if sys.path[0] == '':\n"
     ]
    },
    {
     "data": {
      "text/plain": [
       "[('project_management', 0.8331401944160461),\n",
       " ('task_management', 0.8151150941848755),\n",
       " ('workflow', 0.8075460195541382),\n",
       " ('todo_list', 0.7948067784309387),\n",
       " ('managing_task', 0.7943576574325562),\n",
       " ('project', 0.7937290668487549),\n",
       " ('project_and_task', 0.7903306484222412),\n",
       " ('managing_project', 0.790249764919281),\n",
       " ('task', 0.7881542444229126),\n",
       " ('asana_wa', 0.7752180099487305),\n",
       " ('task_and_project', 0.7698333859443665),\n",
       " ('project_manager', 0.7455647587776184),\n",
       " ('using_asana', 0.744397759437561),\n",
       " ('timeline', 0.7414469122886658),\n",
       " ('tracking', 0.7397156953811646),\n",
       " ('daily_task', 0.7388584613800049),\n",
       " ('keep_everything', 0.733781099319458),\n",
       " ('project_task', 0.7326182126998901),\n",
       " ('organize_task', 0.7325490713119507),\n",
       " ('different_task', 0.7301747798919678)]"
      ]
     },
     "execution_count": 60,
     "metadata": {},
     "output_type": "execute_result"
    }
   ],
   "source": [
    "#ft_model.most_similar(\"zoom\", topn = 20)\n",
    "#ft_model_2.most_similar(\"zoom\", topn = 20)\n",
    "#ft_model_3.most_similar(\"webex\", topn = 20)\n",
    "#ft_model_4.most_similar(\"zoom\", topn = 20)\n",
    "#ft_model_5.most_similar(\"zoom\", topn = 20)\n",
    "#ft_model_6.most_similar(\"zoom\", topn = 20)\n",
    "#ft_model_7.most_similar(\"zoom\", topn = 20)\n",
    "#ft_model_8.most_similar(\"zoom\", topn = 20)\n",
    "#ft_model_9.most_similar(\"pros\", topn = 20)\n",
    "#ft_model_10.most_similar(\"pros\", topn = 20)\n",
    "#ft_model_11.most_similar(\"teamviewer\", topn = 20)\n",
    "ft_model_12.most_similar(\"asana\", topn = 20)"
   ]
  },
  {
   "cell_type": "code",
   "execution_count": 32,
   "metadata": {
    "scrolled": true
   },
   "outputs": [
    {
     "name": "stdout",
     "output_type": "stream",
     "text": [
      "['easy', 'team', 'feature', 'call', 'time', 'people', 'user', 'chat', 'google_hangout', 'help', 'task', 'project', 'simple', 'ease', 'client', 'app', 'option', 'screen', 'video', 'hangout', 'product', 'issue', 'easily', 'able', 'free', 'access', 'set', 'google', 'application', 'connect', 'phone', 'company', 'quality', 'business', 'online', 'screen_sharing', 'communication', 'share', 'email', 'link', 'ability', 'problem', 'group', 'office', 'everyone', 'remote', 'connection', 'person', 'useful', 'join', 'support', 'others', 'sometimes', 'video_call', 'control', 'participant', 'always', 'interface', 'functionality', 'message', 'user_friendly', 'system', 'device', 'easier', 'file', 'better', 'working', 'conference', 'remotely', 'everything', 'keep', 'could', 'video_conferencing', 'helpful', 'give', 'communicate', 'another', 'home', 'available', 'needed', 'someone', 'function', 'especially', 'since', 'audio', 'different', 'conversation', 'presentation', 'calendar', 'colleague', 'team_member', 'organization', 'provides', 'reliable', 'service', 'quickly', 'experience', 'anyone', 'customer', 'intuitive', 'find', 'part', 'multiple', 'offer', 'integration', 'quick', 'record', 'know', 'liked', 'sharing', 'made', 'host', 'place', 'setting', 'schedule', 'contact', 'gmail', 'desktop', 'start', 'video_chat', 'still', 'add', 'collaboration', 'setup', 'friend', 'training', 'employee', 'virtual', 'take', 'fast', 'think', 'view', 'information', 'convenient', 'member', 'microsoft_team', 'session', 'student', 'recording', 'send', 'right', 'something', 'easy_to_set', 'come', 'coworkers', 'together', 'conference_call', 'download', 'number', 'account', 'solution', 'little', 'personal', 'create', 'room', 'new', 'manage', 'clear', 'invite', 'document', 'show', 'install', 'day', 'video_conference', 'feel', 'super_easy', 'nothing', 'screen_share', 'important', 'job', 'connected', 'allow', 'cisco', 'amazing', 'free_version', 'found', 'log', 'first', 'pretty', 'attendee', 'update', 'anywhere', 'let', 'apps', 'talk', 'laptop', 'video_quality', 'track', 'mobile', 'often', 'year', 'overall', 'via', 'click', 'multiple_people', 'audio_and_video', 'run', 'daily', 'across', 'share_screen']\n"
     ]
    },
    {
     "name": "stderr",
     "output_type": "stream",
     "text": [
      "C:\\Users\\illa\\anaconda3\\lib\\site-packages\\ipykernel_launcher.py:5: DeprecationWarning: Call to deprecated `wv` (Attribute will be removed in 4.0.0, use self instead).\n",
      "  \"\"\"\n"
     ]
    }
   ],
   "source": [
    "from gensim.models import KeyedVectors\n",
    "ft_imported_model = KeyedVectors.load_word2vec_format('vantaggi/settore/ft_model_11.vec', binary=False)\n",
    "#w2v_imported_model = KeyedVectors.load_word2vec_format('vantaggi/w2v_model/w2v_model_4.bin', binary=True)\n",
    "# top 100 words\n",
    "top100 = ft_imported_model.wv.index2entity[:200]\n",
    "#top100 = w2v_imported_model.wv.index2entity[:100]\n",
    "print(top100)"
   ]
  },
  {
   "cell_type": "code",
   "execution_count": 28,
   "metadata": {},
   "outputs": [],
   "source": [
    "#umap calcola n nearestneighbor dei vocaboli\n",
    "#dalle 36000 parole scelgo 100\n",
    "    \n",
    "def restrict_w2v(w2v, restricted_word_set):\n",
    "    w2v.most_similar(list(restricted_word_set)[0]) #to inizialize norms\n",
    "    new_vectors = []\n",
    "    new_vocab = {}\n",
    "    new_index2entity = []\n",
    "    new_vectors_norm = []\n",
    "\n",
    "    for i in range(len(w2v.vocab)):\n",
    "        word = w2v.index2entity[i]\n",
    "        vec = w2v.vectors[i]\n",
    "        vocab = w2v.vocab[word]\n",
    "        vec_norm = w2v.vectors_norm[i]\n",
    "        if word in restricted_word_set:\n",
    "            vocab.index = len(new_index2entity)\n",
    "            new_index2entity.append(word)\n",
    "            new_vocab[word] = vocab\n",
    "            new_vectors.append(vec)\n",
    "            new_vectors_norm.append(vec_norm)\n",
    "\n",
    "    w2v.vocab = new_vocab\n",
    "    w2v.vectors = np.array(new_vectors)\n",
    "    w2v.index2entity = np.array(new_index2entity)\n",
    "    w2v.index2word = np.array(new_index2entity)\n",
    "    w2v.vectors_norm = np.array(new_vectors_norm)"
   ]
  },
  {
   "cell_type": "code",
   "execution_count": 96,
   "metadata": {
    "collapsed": true
   },
   "outputs": [
    {
     "data": {
      "text/plain": [
       "\"\\nimport pandas as pd\\nimport numpy as np\\nimport matplotlib.pyplot as plt\\nimport matplotlib\\nimport random\\nfrom adjustText import adjust_text\\nimport umap\\nrandom.seed(42)\\nplt.rcParams['figure.figsize'] = 25, 12\\n\\nimport umap\\ndef train_umap(model):\\n    random.seed(42)\\n    np.random.seed(42)\\n    X = model[model.wv.vocab]\\n    reducer = umap.UMAP(n_neighbors=200, metric='cosine', learning_rate=0.01,\\n                        n_epochs=2000, spread=5, min_dist=0.5, random_state=42)\\n    X = model[model.wv.vocab]\\n    embedding = reducer.fit_transform(X)\\n    #restituisce l'embedding bidimensionale x e y e la parola\\n    #prima era rappresentata da un vettore di 10\\n    df = pd.DataFrame(embedding)\\n    df['token'] = model.wv.vocab\\n    df.columns  = ['x', 'y', 'token']\\n    return df\\n#le trasformiamo in una lista e restringiamo al word_set di 100parole\\n#e poi lanciamo umap\\nword_set = {w for w in top100 if w in ft_imported_model.vocab} #ft_imported_model.vocab\\nrestrict_w2v(ft_imported_model, word_set) #ft_imported_model.vocab\\ntop100umap = train_umap(ft_imported_model) #ft_imported_model.vocab\\ntop100umap\\n\""
      ]
     },
     "execution_count": 96,
     "metadata": {},
     "output_type": "execute_result"
    }
   ],
   "source": [
    "\"\"\"\n",
    "import pandas as pd\n",
    "import numpy as np\n",
    "import matplotlib.pyplot as plt\n",
    "import matplotlib\n",
    "import random\n",
    "from adjustText import adjust_text\n",
    "import umap\n",
    "random.seed(42)\n",
    "plt.rcParams['figure.figsize'] = 25, 12\n",
    "\n",
    "import umap\n",
    "def train_umap(model):\n",
    "    random.seed(42)\n",
    "    np.random.seed(42)\n",
    "    X = model[model.wv.vocab]\n",
    "    reducer = umap.UMAP(n_neighbors=200, metric='cosine', learning_rate=0.01,\n",
    "                        n_epochs=2000, spread=5, min_dist=0.5, random_state=42)\n",
    "    X = model[model.wv.vocab]\n",
    "    embedding = reducer.fit_transform(X)\n",
    "    #restituisce l'embedding bidimensionale x e y e la parola\n",
    "    #prima era rappresentata da un vettore di 10\n",
    "    df = pd.DataFrame(embedding)\n",
    "    df['token'] = model.wv.vocab\n",
    "    df.columns  = ['x', 'y', 'token']\n",
    "    return df\n",
    "#le trasformiamo in una lista e restringiamo al word_set di 100parole\n",
    "#e poi lanciamo umap\n",
    "word_set = {w for w in top100 if w in ft_imported_model.vocab} #ft_imported_model.vocab\n",
    "restrict_w2v(ft_imported_model, word_set) #ft_imported_model.vocab\n",
    "top100umap = train_umap(ft_imported_model) #ft_imported_model.vocab\n",
    "top100umap\n",
    "\"\"\""
   ]
  },
  {
   "cell_type": "code",
   "execution_count": 29,
   "metadata": {},
   "outputs": [
    {
     "name": "stderr",
     "output_type": "stream",
     "text": [
      "C:\\Users\\illa\\anaconda3\\lib\\site-packages\\ipykernel_launcher.py:14: DeprecationWarning: Call to deprecated `wv` (Attribute will be removed in 4.0.0, use self instead).\n",
      "  \n",
      "C:\\Users\\illa\\anaconda3\\lib\\site-packages\\ipykernel_launcher.py:17: DeprecationWarning: Call to deprecated `wv` (Attribute will be removed in 4.0.0, use self instead).\n",
      "C:\\Users\\illa\\anaconda3\\lib\\site-packages\\umap\\umap_.py:1158: RuntimeWarning: divide by zero encountered in power\n",
      "  return 1.0 / (1.0 + a * x ** (2 * b))\n",
      "C:\\Users\\illa\\anaconda3\\lib\\site-packages\\ipykernel_launcher.py:21: DeprecationWarning: Call to deprecated `wv` (Attribute will be removed in 4.0.0, use self instead).\n"
     ]
    },
    {
     "data": {
      "text/html": [
       "<div>\n",
       "<style scoped>\n",
       "    .dataframe tbody tr th:only-of-type {\n",
       "        vertical-align: middle;\n",
       "    }\n",
       "\n",
       "    .dataframe tbody tr th {\n",
       "        vertical-align: top;\n",
       "    }\n",
       "\n",
       "    .dataframe thead th {\n",
       "        text-align: right;\n",
       "    }\n",
       "</style>\n",
       "<table border=\"1\" class=\"dataframe\">\n",
       "  <thead>\n",
       "    <tr style=\"text-align: right;\">\n",
       "      <th></th>\n",
       "      <th>x</th>\n",
       "      <th>y</th>\n",
       "      <th>token</th>\n",
       "    </tr>\n",
       "  </thead>\n",
       "  <tbody>\n",
       "    <tr>\n",
       "      <th>0</th>\n",
       "      <td>14.748656</td>\n",
       "      <td>5.253466</td>\n",
       "      <td>feature</td>\n",
       "    </tr>\n",
       "    <tr>\n",
       "      <th>1</th>\n",
       "      <td>6.309947</td>\n",
       "      <td>13.207828</td>\n",
       "      <td>team</td>\n",
       "    </tr>\n",
       "    <tr>\n",
       "      <th>2</th>\n",
       "      <td>13.560951</td>\n",
       "      <td>-1.982626</td>\n",
       "      <td>call</td>\n",
       "    </tr>\n",
       "    <tr>\n",
       "      <th>3</th>\n",
       "      <td>-0.915562</td>\n",
       "      <td>5.229194</td>\n",
       "      <td>time</td>\n",
       "    </tr>\n",
       "    <tr>\n",
       "      <th>4</th>\n",
       "      <td>6.751157</td>\n",
       "      <td>6.985462</td>\n",
       "      <td>people</td>\n",
       "    </tr>\n",
       "    <tr>\n",
       "      <th>...</th>\n",
       "      <td>...</td>\n",
       "      <td>...</td>\n",
       "      <td>...</td>\n",
       "    </tr>\n",
       "    <tr>\n",
       "      <th>195</th>\n",
       "      <td>6.693391</td>\n",
       "      <td>14.700191</td>\n",
       "      <td>list</td>\n",
       "    </tr>\n",
       "    <tr>\n",
       "      <th>196</th>\n",
       "      <td>1.066865</td>\n",
       "      <td>-1.439677</td>\n",
       "      <td>enjoy</td>\n",
       "    </tr>\n",
       "    <tr>\n",
       "      <th>197</th>\n",
       "      <td>-0.506417</td>\n",
       "      <td>2.141261</td>\n",
       "      <td>anything</td>\n",
       "    </tr>\n",
       "    <tr>\n",
       "      <th>198</th>\n",
       "      <td>0.743400</td>\n",
       "      <td>11.381669</td>\n",
       "      <td>helped</td>\n",
       "    </tr>\n",
       "    <tr>\n",
       "      <th>199</th>\n",
       "      <td>4.041964</td>\n",
       "      <td>14.736899</td>\n",
       "      <td>project_management</td>\n",
       "    </tr>\n",
       "  </tbody>\n",
       "</table>\n",
       "<p>200 rows × 3 columns</p>\n",
       "</div>"
      ],
      "text/plain": [
       "             x          y               token\n",
       "0    14.748656   5.253466             feature\n",
       "1     6.309947  13.207828                team\n",
       "2    13.560951  -1.982626                call\n",
       "3    -0.915562   5.229194                time\n",
       "4     6.751157   6.985462              people\n",
       "..         ...        ...                 ...\n",
       "195   6.693391  14.700191                list\n",
       "196   1.066865  -1.439677               enjoy\n",
       "197  -0.506417   2.141261            anything\n",
       "198   0.743400  11.381669              helped\n",
       "199   4.041964  14.736899  project_management\n",
       "\n",
       "[200 rows x 3 columns]"
      ]
     },
     "execution_count": 29,
     "metadata": {},
     "output_type": "execute_result"
    }
   ],
   "source": [
    "#!pip install adjustText\n",
    "import numpy as np\n",
    "import matplotlib.pyplot as plt\n",
    "import matplotlib\n",
    "import random\n",
    "from adjustText import adjust_text\n",
    "random.seed(42)\n",
    "plt.rcParams['figure.figsize'] = 25, 12\n",
    "\n",
    "import umap\n",
    "def train_umap(model):\n",
    "    random.seed(42)\n",
    "    np.random.seed(42)\n",
    "    X = model[model.wv.vocab]\n",
    "    reducer = umap.UMAP(n_neighbors=100, metric = 'cosine', learning_rate=0.01,#0.01\n",
    "                        n_epochs=2000, spread=5, min_dist=0.5, random_state=42)#min_dist=0.5\n",
    "    X = model[model.wv.vocab]\n",
    "    embedding = reducer.fit_transform(X)\n",
    "\n",
    "    df = pd.DataFrame(embedding)\n",
    "    df['token'] = model.wv.vocab\n",
    "    df.columns  = ['x', 'y', 'token']\n",
    "    return df\n",
    "word_set = {w for w in top100 if w in ft_imported_model.vocab} #ft_imported_model.vocab\n",
    "restrict_w2v(ft_imported_model, word_set) #ft_imported_model.vocab\n",
    "wn_umap = train_umap(ft_imported_model) #ft_imported_model.vocab\n",
    "wn_umap"
   ]
  },
  {
   "cell_type": "code",
   "execution_count": 24,
   "metadata": {},
   "outputs": [],
   "source": [
    "wn_plot=df_01"
   ]
  },
  {
   "cell_type": "code",
   "execution_count": 25,
   "metadata": {},
   "outputs": [],
   "source": [
    "import matplotlib\n",
    "from matplotlib.pyplot import cm\n",
    "\n",
    "cat_unique = list(wn_plot.Settore.unique())\n",
    "n_cat = len(cat_unique)\n",
    "\n",
    "markers = [ \"o\" ,\"v\" , \"x\" , \"+\" , \"1\" , \"d\" , \"h\" , \"|\" , \"8\" , \"s\" , \"p\" , \"P\" , \"*\" , \">\" ,\n",
    "           \"3\" , \"H\" , \"<\" , \"^\" , \"X\" , \"D\" , \"2\" , \"4\" , \"_\"]\n",
    "markers = markers[:n_cat-1]\n",
    "    \n",
    "colors = list(matplotlib.colors.cnames.keys())\n",
    "colors=cm.rainbow(np.linspace(0,1,n_cat))"
   ]
  },
  {
   "cell_type": "code",
   "execution_count": 33,
   "metadata": {},
   "outputs": [
    {
     "data": {
      "text/plain": [
       "500"
      ]
     },
     "execution_count": 33,
     "metadata": {},
     "output_type": "execute_result"
    },
    {
     "data": {
      "image/png": "[encoded data removed]",
      "text/plain": [
       "<Figure size 1800x864 with 1 Axes>"
      ]
     },
     "metadata": {
      "needs_background": "light"
     },
     "output_type": "display_data"
    }
   ],
   "source": [
    "from adjustText import adjust_text\n",
    "text = []\n",
    "\n",
    "for cat, color, marker in zip(cat_unique, colors, markers):\n",
    "    keys = wn_plot['Vantaggi'][wn_plot['Settore'] == cat].values\n",
    "    df_reduced = wn_umap[wn_umap['token'].isin(keys)]\n",
    "    if not df_reduced.empty:\n",
    "        i = 0\n",
    "\n",
    "\n",
    "        for index,row in df_reduced.iterrows():\n",
    "            i+=1\n",
    "            plt.scatter(row['x'], row['y'], c=np.array([color]), alpha=0.6, marker=marker, s=100, edgecolors='black',label=cat if i == 1 else \"\")\n",
    "            text.append(plt.annotate(row['token'], alpha=0.5, xy=(row['x'], row['y']), ha='right', va='bottom', size=14))\n",
    "    \n",
    "#plt.legend(fontsize=15, loc='best')\n",
    "\n",
    "plt.title('Meeting tools')\n",
    "\n",
    "\n",
    "test_Umap=adjust_text(text)\n",
    "test_Umap\n"
   ]
  },
  {
   "cell_type": "code",
   "execution_count": null,
   "metadata": {},
   "outputs": [],
   "source": [
    "# !pip install adjustText\n",
    "from adjustText import adjust_text\n",
    "text = []\n",
    "for index, row in top100umap.iterrows():\n",
    "    plt.scatter(row['x'], row['y'], c='b', alpha=0.6, marker='o', s=100, edgecolors='black')\n",
    "    text.append(plt.annotate(row['token'], alpha=0.5, xy=(row['x'], row['y']), ha='right', va='bottom', size=14))\n",
    "adjust_text(text)"
   ]
  },
  {
   "cell_type": "code",
   "execution_count": 19,
   "metadata": {},
   "outputs": [
    {
     "data": {
      "text/html": [
       "<div>\n",
       "<style scoped>\n",
       "    .dataframe tbody tr th:only-of-type {\n",
       "        vertical-align: middle;\n",
       "    }\n",
       "\n",
       "    .dataframe tbody tr th {\n",
       "        vertical-align: top;\n",
       "    }\n",
       "\n",
       "    .dataframe thead th {\n",
       "        text-align: right;\n",
       "    }\n",
       "</style>\n",
       "<table border=\"1\" class=\"dataframe\">\n",
       "  <thead>\n",
       "    <tr style=\"text-align: right;\">\n",
       "      <th></th>\n",
       "      <th>word</th>\n",
       "      <th>category</th>\n",
       "    </tr>\n",
       "  </thead>\n",
       "  <tbody>\n",
       "    <tr>\n",
       "      <th>0</th>\n",
       "      <td>0</td>\n",
       "      <td>digit</td>\n",
       "    </tr>\n",
       "    <tr>\n",
       "      <th>1</th>\n",
       "      <td>1</td>\n",
       "      <td>digit</td>\n",
       "    </tr>\n",
       "    <tr>\n",
       "      <th>2</th>\n",
       "      <td>10</td>\n",
       "      <td>large integer</td>\n",
       "    </tr>\n",
       "    <tr>\n",
       "      <th>3</th>\n",
       "      <td>100</td>\n",
       "      <td>large integer</td>\n",
       "    </tr>\n",
       "    <tr>\n",
       "      <th>4</th>\n",
       "      <td>1000</td>\n",
       "      <td>large integer</td>\n",
       "    </tr>\n",
       "    <tr>\n",
       "      <th>...</th>\n",
       "      <td>...</td>\n",
       "      <td>...</td>\n",
       "    </tr>\n",
       "    <tr>\n",
       "      <th>120375</th>\n",
       "      <td>zip by</td>\n",
       "      <td>travel by</td>\n",
       "    </tr>\n",
       "    <tr>\n",
       "      <th>120376</th>\n",
       "      <td>zip up</td>\n",
       "      <td>fasten</td>\n",
       "    </tr>\n",
       "    <tr>\n",
       "      <th>120377</th>\n",
       "      <td>zonk out</td>\n",
       "      <td>change state|fall asleep</td>\n",
       "    </tr>\n",
       "    <tr>\n",
       "      <th>120378</th>\n",
       "      <td>zoom along</td>\n",
       "      <td>travel rapidly</td>\n",
       "    </tr>\n",
       "    <tr>\n",
       "      <th>120379</th>\n",
       "      <td>zoom in</td>\n",
       "      <td>concentrate</td>\n",
       "    </tr>\n",
       "  </tbody>\n",
       "</table>\n",
       "<p>120380 rows × 2 columns</p>\n",
       "</div>"
      ],
      "text/plain": [
       "              word                  category\n",
       "0                0                     digit\n",
       "1                1                     digit\n",
       "2               10             large integer\n",
       "3              100             large integer\n",
       "4             1000             large integer\n",
       "...            ...                       ...\n",
       "120375      zip by                 travel by\n",
       "120376      zip up                    fasten\n",
       "120377    zonk out  change state|fall asleep\n",
       "120378  zoom along            travel rapidly\n",
       "120379     zoom in               concentrate\n",
       "\n",
       "[120380 rows x 2 columns]"
      ]
     },
     "execution_count": 19,
     "metadata": {},
     "output_type": "execute_result"
    }
   ],
   "source": [
    "#a =calcoliamo la similarità di un vocabolo rispetto a tutti gli altri \n",
    "#vocabili appartenenti a quella classe\n",
    "#b =calcolo la distanza tra un vocabolo rispetto a quelli degli altri \n",
    "#gruppi come media\n",
    "#prendo il gruppo che ha minore distanza rispetto al vocabolo \n",
    "#calcolo la distanza tra il gruppo del vocabolo e del gruppo + vicino\n",
    "#maggiore è la similarità all'interno del gruppo e maggiore\n",
    "#la distanza dal gruppo + vicino, maggiore la silhoutte per quel vocabolo\n",
    "wn = pd.read_csv('hypernyms.csv')\n",
    "wn"
   ]
  },
  {
   "cell_type": "code",
   "execution_count": 20,
   "metadata": {
    "scrolled": true
   },
   "outputs": [
    {
     "ename": "NameError",
     "evalue": "name 'w2v_imported_model' is not defined",
     "output_type": "error",
     "traceback": [
      "\u001b[1;31m---------------------------------------------------------------------------\u001b[0m",
      "\u001b[1;31mNameError\u001b[0m                                 Traceback (most recent call last)",
      "\u001b[1;32m<ipython-input-20-4448c7a7b647>\u001b[0m in \u001b[0;36m<module>\u001b[1;34m\u001b[0m\n\u001b[1;32m----> 1\u001b[1;33m \u001b[0min_vocab\u001b[0m \u001b[1;33m=\u001b[0m \u001b[1;33m[\u001b[0m\u001b[1;32mTrue\u001b[0m \u001b[1;32mif\u001b[0m \u001b[0mword\u001b[0m \u001b[1;32min\u001b[0m \u001b[0mw2v_imported_model\u001b[0m\u001b[1;33m.\u001b[0m\u001b[0mwv\u001b[0m\u001b[1;33m.\u001b[0m\u001b[0mvocab\u001b[0m \u001b[1;32melse\u001b[0m \u001b[1;32mFalse\u001b[0m \u001b[1;32mfor\u001b[0m \u001b[0mword\u001b[0m \u001b[1;32min\u001b[0m \u001b[0mwn\u001b[0m\u001b[1;33m.\u001b[0m\u001b[0mword\u001b[0m\u001b[1;33m]\u001b[0m \u001b[1;31m#ft_imported_model.vocab\u001b[0m\u001b[1;33m\u001b[0m\u001b[1;33m\u001b[0m\u001b[0m\n\u001b[0m\u001b[0;32m      2\u001b[0m \u001b[0mwn\u001b[0m\u001b[1;33m[\u001b[0m\u001b[1;34m'in_vocab'\u001b[0m\u001b[1;33m]\u001b[0m \u001b[1;33m=\u001b[0m \u001b[0min_vocab\u001b[0m\u001b[1;33m\u001b[0m\u001b[1;33m\u001b[0m\u001b[0m\n\u001b[0;32m      3\u001b[0m \u001b[0mwn_in_vocab\u001b[0m \u001b[1;33m=\u001b[0m \u001b[0mwn\u001b[0m\u001b[1;33m[\u001b[0m\u001b[0mwn\u001b[0m\u001b[1;33m[\u001b[0m\u001b[1;34m'in_vocab'\u001b[0m\u001b[1;33m]\u001b[0m\u001b[1;33m==\u001b[0m\u001b[1;32mTrue\u001b[0m\u001b[1;33m]\u001b[0m\u001b[1;33m\u001b[0m\u001b[1;33m\u001b[0m\u001b[0m\n\u001b[0;32m      4\u001b[0m \u001b[0mwn_in_vocab\u001b[0m\u001b[1;33m\u001b[0m\u001b[1;33m\u001b[0m\u001b[0m\n",
      "\u001b[1;32m<ipython-input-20-4448c7a7b647>\u001b[0m in \u001b[0;36m<listcomp>\u001b[1;34m(.0)\u001b[0m\n\u001b[1;32m----> 1\u001b[1;33m \u001b[0min_vocab\u001b[0m \u001b[1;33m=\u001b[0m \u001b[1;33m[\u001b[0m\u001b[1;32mTrue\u001b[0m \u001b[1;32mif\u001b[0m \u001b[0mword\u001b[0m \u001b[1;32min\u001b[0m \u001b[0mw2v_imported_model\u001b[0m\u001b[1;33m.\u001b[0m\u001b[0mwv\u001b[0m\u001b[1;33m.\u001b[0m\u001b[0mvocab\u001b[0m \u001b[1;32melse\u001b[0m \u001b[1;32mFalse\u001b[0m \u001b[1;32mfor\u001b[0m \u001b[0mword\u001b[0m \u001b[1;32min\u001b[0m \u001b[0mwn\u001b[0m\u001b[1;33m.\u001b[0m\u001b[0mword\u001b[0m\u001b[1;33m]\u001b[0m \u001b[1;31m#ft_imported_model.vocab\u001b[0m\u001b[1;33m\u001b[0m\u001b[1;33m\u001b[0m\u001b[0m\n\u001b[0m\u001b[0;32m      2\u001b[0m \u001b[0mwn\u001b[0m\u001b[1;33m[\u001b[0m\u001b[1;34m'in_vocab'\u001b[0m\u001b[1;33m]\u001b[0m \u001b[1;33m=\u001b[0m \u001b[0min_vocab\u001b[0m\u001b[1;33m\u001b[0m\u001b[1;33m\u001b[0m\u001b[0m\n\u001b[0;32m      3\u001b[0m \u001b[0mwn_in_vocab\u001b[0m \u001b[1;33m=\u001b[0m \u001b[0mwn\u001b[0m\u001b[1;33m[\u001b[0m\u001b[0mwn\u001b[0m\u001b[1;33m[\u001b[0m\u001b[1;34m'in_vocab'\u001b[0m\u001b[1;33m]\u001b[0m\u001b[1;33m==\u001b[0m\u001b[1;32mTrue\u001b[0m\u001b[1;33m]\u001b[0m\u001b[1;33m\u001b[0m\u001b[1;33m\u001b[0m\u001b[0m\n\u001b[0;32m      4\u001b[0m \u001b[0mwn_in_vocab\u001b[0m\u001b[1;33m\u001b[0m\u001b[1;33m\u001b[0m\u001b[0m\n",
      "\u001b[1;31mNameError\u001b[0m: name 'w2v_imported_model' is not defined"
     ]
    }
   ],
   "source": [
    "in_vocab = [True if word in w2v_imported_model.wv.vocab else False for word in wn.word] #ft_imported_model.vocab\n",
    "wn['in_vocab'] = in_vocab\n",
    "wn_in_vocab = wn[wn['in_vocab']==True]\n",
    "wn_in_vocab"
   ]
  },
  {
   "cell_type": "code",
   "execution_count": 8,
   "metadata": {},
   "outputs": [
    {
     "data": {
      "text/plain": [
       "-0.042735044"
      ]
     },
     "execution_count": 8,
     "metadata": {},
     "output_type": "execute_result"
    }
   ],
   "source": [
    "#prendi solo quelle che sono nel vocabolario\n",
    "from sklearn.metrics import silhouette_score\n",
    "vectors = [w2v_imported_model[i] for i in wn_in_vocab['word']]\n",
    "vectors\n",
    "#calcolo la silhoutte media di tutte le classi\n",
    "#per ottenere l'embedding con la silhoutte maggiore\n",
    "silhouette_score(vectors, wn_in_vocab['category'])\n",
    "#silhoutte [-1;1]"
   ]
  },
  {
   "cell_type": "code",
   "execution_count": 9,
   "metadata": {},
   "outputs": [
    {
     "name": "stderr",
     "output_type": "stream",
     "text": [
      "C:\\Users\\illa\\anaconda3\\lib\\site-packages\\ipykernel_launcher.py:8: DeprecationWarning: Call to deprecated `wv` (Attribute will be removed in 4.0.0, use self instead).\n",
      "  \n"
     ]
    },
    {
     "name": "stdout",
     "output_type": "stream",
     "text": [
      "ft_model.vec: sil=-0.1722283661365509\n"
     ]
    },
    {
     "name": "stderr",
     "output_type": "stream",
     "text": [
      "C:\\Users\\illa\\anaconda3\\lib\\site-packages\\ipykernel_launcher.py:8: DeprecationWarning: Call to deprecated `wv` (Attribute will be removed in 4.0.0, use self instead).\n",
      "  \n"
     ]
    },
    {
     "name": "stdout",
     "output_type": "stream",
     "text": [
      "ft_model_10.vec: sil=-0.14293797314167023\n"
     ]
    },
    {
     "name": "stderr",
     "output_type": "stream",
     "text": [
      "C:\\Users\\illa\\anaconda3\\lib\\site-packages\\ipykernel_launcher.py:8: DeprecationWarning: Call to deprecated `wv` (Attribute will be removed in 4.0.0, use self instead).\n",
      "  \n"
     ]
    },
    {
     "name": "stdout",
     "output_type": "stream",
     "text": [
      "ft_model_11.vec: sil=-0.15675069391727448\n"
     ]
    },
    {
     "name": "stderr",
     "output_type": "stream",
     "text": [
      "C:\\Users\\illa\\anaconda3\\lib\\site-packages\\ipykernel_launcher.py:8: DeprecationWarning: Call to deprecated `wv` (Attribute will be removed in 4.0.0, use self instead).\n",
      "  \n"
     ]
    },
    {
     "name": "stdout",
     "output_type": "stream",
     "text": [
      "ft_model_12.vec: sil=-0.14387495815753937\n"
     ]
    },
    {
     "name": "stderr",
     "output_type": "stream",
     "text": [
      "C:\\Users\\illa\\anaconda3\\lib\\site-packages\\ipykernel_launcher.py:8: DeprecationWarning: Call to deprecated `wv` (Attribute will be removed in 4.0.0, use self instead).\n",
      "  \n"
     ]
    },
    {
     "name": "stdout",
     "output_type": "stream",
     "text": [
      "ft_model_2.vec: sil=-0.15009021759033203\n"
     ]
    },
    {
     "name": "stderr",
     "output_type": "stream",
     "text": [
      "C:\\Users\\illa\\anaconda3\\lib\\site-packages\\ipykernel_launcher.py:8: DeprecationWarning: Call to deprecated `wv` (Attribute will be removed in 4.0.0, use self instead).\n",
      "  \n"
     ]
    },
    {
     "name": "stdout",
     "output_type": "stream",
     "text": [
      "ft_model_3.vec: sil=-0.18701396882534027\n"
     ]
    },
    {
     "name": "stderr",
     "output_type": "stream",
     "text": [
      "C:\\Users\\illa\\anaconda3\\lib\\site-packages\\ipykernel_launcher.py:8: DeprecationWarning: Call to deprecated `wv` (Attribute will be removed in 4.0.0, use self instead).\n",
      "  \n"
     ]
    },
    {
     "name": "stdout",
     "output_type": "stream",
     "text": [
      "ft_model_4.vec: sil=-0.160984605550766\n"
     ]
    },
    {
     "name": "stderr",
     "output_type": "stream",
     "text": [
      "C:\\Users\\illa\\anaconda3\\lib\\site-packages\\ipykernel_launcher.py:8: DeprecationWarning: Call to deprecated `wv` (Attribute will be removed in 4.0.0, use self instead).\n",
      "  \n"
     ]
    },
    {
     "name": "stdout",
     "output_type": "stream",
     "text": [
      "ft_model_5.vec: sil=-0.15977135300636292\n"
     ]
    },
    {
     "name": "stderr",
     "output_type": "stream",
     "text": [
      "C:\\Users\\illa\\anaconda3\\lib\\site-packages\\ipykernel_launcher.py:8: DeprecationWarning: Call to deprecated `wv` (Attribute will be removed in 4.0.0, use self instead).\n",
      "  \n"
     ]
    },
    {
     "name": "stdout",
     "output_type": "stream",
     "text": [
      "ft_model_6.vec: sil=-0.16009505093097687\n"
     ]
    },
    {
     "name": "stderr",
     "output_type": "stream",
     "text": [
      "C:\\Users\\illa\\anaconda3\\lib\\site-packages\\ipykernel_launcher.py:8: DeprecationWarning: Call to deprecated `wv` (Attribute will be removed in 4.0.0, use self instead).\n",
      "  \n"
     ]
    },
    {
     "name": "stdout",
     "output_type": "stream",
     "text": [
      "ft_model_7.vec: sil=-0.1614619940519333\n"
     ]
    },
    {
     "name": "stderr",
     "output_type": "stream",
     "text": [
      "C:\\Users\\illa\\anaconda3\\lib\\site-packages\\ipykernel_launcher.py:8: DeprecationWarning: Call to deprecated `wv` (Attribute will be removed in 4.0.0, use self instead).\n",
      "  \n"
     ]
    },
    {
     "name": "stdout",
     "output_type": "stream",
     "text": [
      "ft_model_8.vec: sil=-0.1427660882472992\n"
     ]
    },
    {
     "name": "stderr",
     "output_type": "stream",
     "text": [
      "C:\\Users\\illa\\anaconda3\\lib\\site-packages\\ipykernel_launcher.py:8: DeprecationWarning: Call to deprecated `wv` (Attribute will be removed in 4.0.0, use self instead).\n",
      "  \n"
     ]
    },
    {
     "name": "stdout",
     "output_type": "stream",
     "text": [
      "ft_model_9.vec: sil=-0.1615428775548935\n"
     ]
    },
    {
     "name": "stderr",
     "output_type": "stream",
     "text": [
      "C:\\Users\\illa\\anaconda3\\lib\\site-packages\\ipykernel_launcher.py:8: DeprecationWarning: Call to deprecated `wv` (Attribute will be removed in 4.0.0, use self instead).\n",
      "  \n"
     ]
    },
    {
     "name": "stdout",
     "output_type": "stream",
     "text": [
      "ft_model_star.vec: sil=-0.15164898335933685\n"
     ]
    }
   ],
   "source": [
    "from gensim.models import KeyedVectors\n",
    "import os\n",
    "\n",
    "with open ('silhouette_grid.csv', 'w') as file:\n",
    "    file.write('model,silhouette\\n')\n",
    "    for filename in os.listdir('vantaggi/ft_model'):\n",
    "        model = KeyedVectors.load_word2vec_format('vantaggi/ft_model/'+filename, binary=False)\n",
    "        in_vocab = [True if word in model.wv.vocab else False for word in wn.word]\n",
    "        wn['in_vocab'] = in_vocab\n",
    "        wn_in_vocab = wn[wn['in_vocab']==True]\n",
    "        vectors = [model[i] for i in wn_in_vocab['word']]\n",
    "        sil = silhouette_score(vectors, wn_in_vocab['category'])\n",
    "        print(f'{filename}: sil={sil}')\n",
    "        file.write(f'{filename},{sil}\\n')\n",
    "file.close()"
   ]
  },
  {
   "cell_type": "code",
   "execution_count": 10,
   "metadata": {},
   "outputs": [
    {
     "name": "stderr",
     "output_type": "stream",
     "text": [
      "C:\\Users\\illa\\anaconda3\\lib\\site-packages\\ipykernel_launcher.py:8: DeprecationWarning: Call to deprecated `wv` (Attribute will be removed in 4.0.0, use self instead).\n",
      "  \n"
     ]
    },
    {
     "name": "stdout",
     "output_type": "stream",
     "text": [
      "w2v_model.bin: sil=-0.14877437055110931\n"
     ]
    },
    {
     "name": "stderr",
     "output_type": "stream",
     "text": [
      "C:\\Users\\illa\\anaconda3\\lib\\site-packages\\ipykernel_launcher.py:8: DeprecationWarning: Call to deprecated `wv` (Attribute will be removed in 4.0.0, use self instead).\n",
      "  \n"
     ]
    },
    {
     "name": "stdout",
     "output_type": "stream",
     "text": [
      "w2v_model_10.bin: sil=-0.17693428695201874\n"
     ]
    },
    {
     "name": "stderr",
     "output_type": "stream",
     "text": [
      "C:\\Users\\illa\\anaconda3\\lib\\site-packages\\ipykernel_launcher.py:8: DeprecationWarning: Call to deprecated `wv` (Attribute will be removed in 4.0.0, use self instead).\n",
      "  \n"
     ]
    },
    {
     "name": "stdout",
     "output_type": "stream",
     "text": [
      "w2v_model_11.bin: sil=-0.15403491258621216\n"
     ]
    },
    {
     "name": "stderr",
     "output_type": "stream",
     "text": [
      "C:\\Users\\illa\\anaconda3\\lib\\site-packages\\ipykernel_launcher.py:8: DeprecationWarning: Call to deprecated `wv` (Attribute will be removed in 4.0.0, use self instead).\n",
      "  \n"
     ]
    },
    {
     "name": "stdout",
     "output_type": "stream",
     "text": [
      "w2v_model_12.bin: sil=-0.16592788696289062\n"
     ]
    },
    {
     "name": "stderr",
     "output_type": "stream",
     "text": [
      "C:\\Users\\illa\\anaconda3\\lib\\site-packages\\ipykernel_launcher.py:8: DeprecationWarning: Call to deprecated `wv` (Attribute will be removed in 4.0.0, use self instead).\n",
      "  \n"
     ]
    },
    {
     "name": "stdout",
     "output_type": "stream",
     "text": [
      "w2v_model_13.bin: sil=-0.1598759889602661\n"
     ]
    },
    {
     "name": "stderr",
     "output_type": "stream",
     "text": [
      "C:\\Users\\illa\\anaconda3\\lib\\site-packages\\ipykernel_launcher.py:8: DeprecationWarning: Call to deprecated `wv` (Attribute will be removed in 4.0.0, use self instead).\n",
      "  \n"
     ]
    },
    {
     "name": "stdout",
     "output_type": "stream",
     "text": [
      "w2v_model_14.bin: sil=-0.14619006216526031\n"
     ]
    },
    {
     "name": "stderr",
     "output_type": "stream",
     "text": [
      "C:\\Users\\illa\\anaconda3\\lib\\site-packages\\ipykernel_launcher.py:8: DeprecationWarning: Call to deprecated `wv` (Attribute will be removed in 4.0.0, use self instead).\n",
      "  \n"
     ]
    },
    {
     "name": "stdout",
     "output_type": "stream",
     "text": [
      "w2v_model_15.bin: sil=-0.16105742752552032\n"
     ]
    },
    {
     "name": "stderr",
     "output_type": "stream",
     "text": [
      "C:\\Users\\illa\\anaconda3\\lib\\site-packages\\ipykernel_launcher.py:8: DeprecationWarning: Call to deprecated `wv` (Attribute will be removed in 4.0.0, use self instead).\n",
      "  \n"
     ]
    },
    {
     "name": "stdout",
     "output_type": "stream",
     "text": [
      "w2v_model_16.bin: sil=-0.1464046984910965\n"
     ]
    },
    {
     "name": "stderr",
     "output_type": "stream",
     "text": [
      "C:\\Users\\illa\\anaconda3\\lib\\site-packages\\ipykernel_launcher.py:8: DeprecationWarning: Call to deprecated `wv` (Attribute will be removed in 4.0.0, use self instead).\n",
      "  \n"
     ]
    },
    {
     "name": "stdout",
     "output_type": "stream",
     "text": [
      "w2v_model_17.bin: sil=-0.14112374186515808\n"
     ]
    },
    {
     "name": "stderr",
     "output_type": "stream",
     "text": [
      "C:\\Users\\illa\\anaconda3\\lib\\site-packages\\ipykernel_launcher.py:8: DeprecationWarning: Call to deprecated `wv` (Attribute will be removed in 4.0.0, use self instead).\n",
      "  \n"
     ]
    },
    {
     "name": "stdout",
     "output_type": "stream",
     "text": [
      "w2v_model_18.bin: sil=-0.14365455508232117\n"
     ]
    },
    {
     "name": "stderr",
     "output_type": "stream",
     "text": [
      "C:\\Users\\illa\\anaconda3\\lib\\site-packages\\ipykernel_launcher.py:8: DeprecationWarning: Call to deprecated `wv` (Attribute will be removed in 4.0.0, use self instead).\n",
      "  \n"
     ]
    },
    {
     "name": "stdout",
     "output_type": "stream",
     "text": [
      "w2v_model_19.bin: sil=-0.17729386687278748\n"
     ]
    },
    {
     "name": "stderr",
     "output_type": "stream",
     "text": [
      "C:\\Users\\illa\\anaconda3\\lib\\site-packages\\ipykernel_launcher.py:8: DeprecationWarning: Call to deprecated `wv` (Attribute will be removed in 4.0.0, use self instead).\n",
      "  \n"
     ]
    },
    {
     "name": "stdout",
     "output_type": "stream",
     "text": [
      "w2v_model_2.bin: sil=-0.14852921664714813\n"
     ]
    },
    {
     "name": "stderr",
     "output_type": "stream",
     "text": [
      "C:\\Users\\illa\\anaconda3\\lib\\site-packages\\ipykernel_launcher.py:8: DeprecationWarning: Call to deprecated `wv` (Attribute will be removed in 4.0.0, use self instead).\n",
      "  \n"
     ]
    },
    {
     "name": "stdout",
     "output_type": "stream",
     "text": [
      "w2v_model_3.bin: sil=-0.14758577942848206\n"
     ]
    },
    {
     "name": "stderr",
     "output_type": "stream",
     "text": [
      "C:\\Users\\illa\\anaconda3\\lib\\site-packages\\ipykernel_launcher.py:8: DeprecationWarning: Call to deprecated `wv` (Attribute will be removed in 4.0.0, use self instead).\n",
      "  \n"
     ]
    },
    {
     "name": "stdout",
     "output_type": "stream",
     "text": [
      "w2v_model_4.bin: sil=-0.14621669054031372\n"
     ]
    },
    {
     "name": "stderr",
     "output_type": "stream",
     "text": [
      "C:\\Users\\illa\\anaconda3\\lib\\site-packages\\ipykernel_launcher.py:8: DeprecationWarning: Call to deprecated `wv` (Attribute will be removed in 4.0.0, use self instead).\n",
      "  \n"
     ]
    },
    {
     "name": "stdout",
     "output_type": "stream",
     "text": [
      "w2v_model_5.bin: sil=-0.1482672542333603\n"
     ]
    },
    {
     "name": "stderr",
     "output_type": "stream",
     "text": [
      "C:\\Users\\illa\\anaconda3\\lib\\site-packages\\ipykernel_launcher.py:8: DeprecationWarning: Call to deprecated `wv` (Attribute will be removed in 4.0.0, use self instead).\n",
      "  \n"
     ]
    },
    {
     "name": "stdout",
     "output_type": "stream",
     "text": [
      "w2v_model_6.bin: sil=-0.14852474629878998\n"
     ]
    },
    {
     "name": "stderr",
     "output_type": "stream",
     "text": [
      "C:\\Users\\illa\\anaconda3\\lib\\site-packages\\ipykernel_launcher.py:8: DeprecationWarning: Call to deprecated `wv` (Attribute will be removed in 4.0.0, use self instead).\n",
      "  \n"
     ]
    },
    {
     "name": "stdout",
     "output_type": "stream",
     "text": [
      "w2v_model_7.bin: sil=-0.15424589812755585\n"
     ]
    },
    {
     "name": "stderr",
     "output_type": "stream",
     "text": [
      "C:\\Users\\illa\\anaconda3\\lib\\site-packages\\ipykernel_launcher.py:8: DeprecationWarning: Call to deprecated `wv` (Attribute will be removed in 4.0.0, use self instead).\n",
      "  \n"
     ]
    },
    {
     "name": "stdout",
     "output_type": "stream",
     "text": [
      "w2v_model_8.bin: sil=-0.16717170178890228\n"
     ]
    },
    {
     "name": "stderr",
     "output_type": "stream",
     "text": [
      "C:\\Users\\illa\\anaconda3\\lib\\site-packages\\ipykernel_launcher.py:8: DeprecationWarning: Call to deprecated `wv` (Attribute will be removed in 4.0.0, use self instead).\n",
      "  \n"
     ]
    },
    {
     "name": "stdout",
     "output_type": "stream",
     "text": [
      "w2v_model_9.bin: sil=-0.17788639664649963\n"
     ]
    }
   ],
   "source": [
    "from gensim.models import KeyedVectors\n",
    "import os\n",
    "\n",
    "with open ('silhouette_grid.csv', 'w') as file:\n",
    "    file.write('model,silhouette\\n')\n",
    "    for filename in os.listdir('vantaggi/w2v_model'):\n",
    "        model = KeyedVectors.load_word2vec_format('vantaggi/w2v_model/'+filename, binary=True)\n",
    "        in_vocab = [True if word in model.wv.vocab else False for word in wn.word]\n",
    "        wn['in_vocab'] = in_vocab\n",
    "        wn_in_vocab = wn[wn['in_vocab']==True]\n",
    "        vectors = [model[i] for i in wn_in_vocab['word']]\n",
    "        sil = silhouette_score(vectors, wn_in_vocab['category'])\n",
    "        print(f'{filename}: sil={sil}')\n",
    "        file.write(f'{filename},{sil}\\n')\n",
    "file.close()"
   ]
  },
  {
   "cell_type": "code",
   "execution_count": 12,
   "metadata": {},
   "outputs": [
    {
     "data": {
      "text/html": [
       "<div>\n",
       "<style scoped>\n",
       "    .dataframe tbody tr th:only-of-type {\n",
       "        vertical-align: middle;\n",
       "    }\n",
       "\n",
       "    .dataframe tbody tr th {\n",
       "        vertical-align: top;\n",
       "    }\n",
       "\n",
       "    .dataframe thead th {\n",
       "        text-align: right;\n",
       "    }\n",
       "</style>\n",
       "<table border=\"1\" class=\"dataframe\">\n",
       "  <thead>\n",
       "    <tr style=\"text-align: right;\">\n",
       "      <th></th>\n",
       "      <th>word</th>\n",
       "      <th>category</th>\n",
       "    </tr>\n",
       "  </thead>\n",
       "  <tbody>\n",
       "    <tr>\n",
       "      <th>0</th>\n",
       "      <td>0</td>\n",
       "      <td>digit</td>\n",
       "    </tr>\n",
       "    <tr>\n",
       "      <th>1</th>\n",
       "      <td>1</td>\n",
       "      <td>digit</td>\n",
       "    </tr>\n",
       "    <tr>\n",
       "      <th>2</th>\n",
       "      <td>10</td>\n",
       "      <td>large integer</td>\n",
       "    </tr>\n",
       "    <tr>\n",
       "      <th>3</th>\n",
       "      <td>100</td>\n",
       "      <td>large integer</td>\n",
       "    </tr>\n",
       "    <tr>\n",
       "      <th>4</th>\n",
       "      <td>1000</td>\n",
       "      <td>large integer</td>\n",
       "    </tr>\n",
       "    <tr>\n",
       "      <th>...</th>\n",
       "      <td>...</td>\n",
       "      <td>...</td>\n",
       "    </tr>\n",
       "    <tr>\n",
       "      <th>120375</th>\n",
       "      <td>zip by</td>\n",
       "      <td>travel by</td>\n",
       "    </tr>\n",
       "    <tr>\n",
       "      <th>120376</th>\n",
       "      <td>zip up</td>\n",
       "      <td>fasten</td>\n",
       "    </tr>\n",
       "    <tr>\n",
       "      <th>120377</th>\n",
       "      <td>zonk out</td>\n",
       "      <td>change state|fall asleep</td>\n",
       "    </tr>\n",
       "    <tr>\n",
       "      <th>120378</th>\n",
       "      <td>zoom along</td>\n",
       "      <td>travel rapidly</td>\n",
       "    </tr>\n",
       "    <tr>\n",
       "      <th>120379</th>\n",
       "      <td>zoom in</td>\n",
       "      <td>concentrate</td>\n",
       "    </tr>\n",
       "  </tbody>\n",
       "</table>\n",
       "<p>120380 rows × 2 columns</p>\n",
       "</div>"
      ],
      "text/plain": [
       "              word                  category\n",
       "0                0                     digit\n",
       "1                1                     digit\n",
       "2               10             large integer\n",
       "3              100             large integer\n",
       "4             1000             large integer\n",
       "...            ...                       ...\n",
       "120375      zip by                 travel by\n",
       "120376      zip up                    fasten\n",
       "120377    zonk out  change state|fall asleep\n",
       "120378  zoom along            travel rapidly\n",
       "120379     zoom in               concentrate\n",
       "\n",
       "[120380 rows x 2 columns]"
      ]
     },
     "execution_count": 12,
     "metadata": {},
     "output_type": "execute_result"
    }
   ],
   "source": [
    "from gensim.models import KeyedVectors\n",
    "wn_plot = pd.read_csv('hypernyms.csv')\n",
    "best_model = KeyedVectors.load_word2vec_format('vantaggi/w2v_model/w2v_model_17.bin', binary=True)\n",
    "wn_plot"
   ]
  },
  {
   "cell_type": "code",
   "execution_count": 13,
   "metadata": {},
   "outputs": [
    {
     "name": "stderr",
     "output_type": "stream",
     "text": [
      "C:\\Users\\illa\\anaconda3\\lib\\site-packages\\ipykernel_launcher.py:4: DeprecationWarning: Call to deprecated `wv` (Attribute will be removed in 4.0.0, use self instead).\n",
      "  after removing the cwd from sys.path.\n",
      "C:\\Users\\illa\\anaconda3\\lib\\site-packages\\ipykernel_launcher.py:7: DeprecationWarning: Call to deprecated `wv` (Attribute will be removed in 4.0.0, use self instead).\n",
      "  import sys\n",
      "C:\\Users\\illa\\anaconda3\\lib\\site-packages\\umap\\umap_.py:1158: RuntimeWarning: divide by zero encountered in power\n",
      "  return 1.0 / (1.0 + a * x ** (2 * b))\n",
      "C:\\Users\\illa\\anaconda3\\lib\\site-packages\\ipykernel_launcher.py:11: DeprecationWarning: Call to deprecated `wv` (Attribute will be removed in 4.0.0, use self instead).\n",
      "  # This is added back by InteractiveShellApp.init_path()\n"
     ]
    },
    {
     "data": {
      "text/html": [
       "<div>\n",
       "<style scoped>\n",
       "    .dataframe tbody tr th:only-of-type {\n",
       "        vertical-align: middle;\n",
       "    }\n",
       "\n",
       "    .dataframe tbody tr th {\n",
       "        vertical-align: top;\n",
       "    }\n",
       "\n",
       "    .dataframe thead th {\n",
       "        text-align: right;\n",
       "    }\n",
       "</style>\n",
       "<table border=\"1\" class=\"dataframe\">\n",
       "  <thead>\n",
       "    <tr style=\"text-align: right;\">\n",
       "      <th></th>\n",
       "      <th>x</th>\n",
       "      <th>y</th>\n",
       "      <th>token</th>\n",
       "    </tr>\n",
       "  </thead>\n",
       "  <tbody>\n",
       "    <tr>\n",
       "      <th>0</th>\n",
       "      <td>2.423000</td>\n",
       "      <td>12.448638</td>\n",
       "      <td>meeting</td>\n",
       "    </tr>\n",
       "    <tr>\n",
       "      <th>1</th>\n",
       "      <td>-1.398145</td>\n",
       "      <td>-0.971664</td>\n",
       "      <td>software</td>\n",
       "    </tr>\n",
       "    <tr>\n",
       "      <th>2</th>\n",
       "      <td>3.415890</td>\n",
       "      <td>-5.023862</td>\n",
       "      <td>feature</td>\n",
       "    </tr>\n",
       "    <tr>\n",
       "      <th>3</th>\n",
       "      <td>8.776843</td>\n",
       "      <td>9.360222</td>\n",
       "      <td>work</td>\n",
       "    </tr>\n",
       "    <tr>\n",
       "      <th>4</th>\n",
       "      <td>15.321554</td>\n",
       "      <td>4.320170</td>\n",
       "      <td>team</td>\n",
       "    </tr>\n",
       "    <tr>\n",
       "      <th>...</th>\n",
       "      <td>...</td>\n",
       "      <td>...</td>\n",
       "      <td>...</td>\n",
       "    </tr>\n",
       "    <tr>\n",
       "      <th>1285</th>\n",
       "      <td>7.715359</td>\n",
       "      <td>7.029345</td>\n",
       "      <td>passing</td>\n",
       "    </tr>\n",
       "    <tr>\n",
       "      <th>1286</th>\n",
       "      <td>15.328245</td>\n",
       "      <td>-3.235731</td>\n",
       "      <td>transparency</td>\n",
       "    </tr>\n",
       "    <tr>\n",
       "      <th>1287</th>\n",
       "      <td>16.208809</td>\n",
       "      <td>-1.415437</td>\n",
       "      <td>glance</td>\n",
       "    </tr>\n",
       "    <tr>\n",
       "      <th>1288</th>\n",
       "      <td>15.365294</td>\n",
       "      <td>-1.506417</td>\n",
       "      <td>follower</td>\n",
       "    </tr>\n",
       "    <tr>\n",
       "      <th>1289</th>\n",
       "      <td>15.673623</td>\n",
       "      <td>-1.624952</td>\n",
       "      <td>visualize</td>\n",
       "    </tr>\n",
       "  </tbody>\n",
       "</table>\n",
       "<p>1290 rows × 3 columns</p>\n",
       "</div>"
      ],
      "text/plain": [
       "              x          y         token\n",
       "0      2.423000  12.448638       meeting\n",
       "1     -1.398145  -0.971664      software\n",
       "2      3.415890  -5.023862       feature\n",
       "3      8.776843   9.360222          work\n",
       "4     15.321554   4.320170          team\n",
       "...         ...        ...           ...\n",
       "1285   7.715359   7.029345       passing\n",
       "1286  15.328245  -3.235731  transparency\n",
       "1287  16.208809  -1.415437        glance\n",
       "1288  15.365294  -1.506417      follower\n",
       "1289  15.673623  -1.624952     visualize\n",
       "\n",
       "[1290 rows x 3 columns]"
      ]
     },
     "execution_count": 13,
     "metadata": {},
     "output_type": "execute_result"
    }
   ],
   "source": [
    "def train_umap(model):\n",
    "    random.seed(42)\n",
    "    np.random.seed(42)\n",
    "    X = model[model.wv.vocab]\n",
    "    reducer = umap.UMAP(n_neighbors=200, metric='cosine', learning_rate=0.01,\n",
    "                        n_epochs=2000, spread=5, min_dist=0.5, random_state=42)\n",
    "    X = model[model.wv.vocab]\n",
    "    embedding = reducer.fit_transform(X)\n",
    "\n",
    "    df = pd.DataFrame(embedding)\n",
    "    df['token'] = model.wv.vocab\n",
    "    df.columns  = ['x', 'y', 'token']\n",
    "    return df\n",
    "\n",
    "word_set = {w for w in wn_plot['word'].str.lower().unique() if w in best_model.vocab}\n",
    "restrict_w2v(best_model, word_set)\n",
    "best_umap = train_umap(best_model)\n",
    "best_umap"
   ]
  },
  {
   "cell_type": "code",
   "execution_count": 18,
   "metadata": {},
   "outputs": [],
   "source": [
    "best_umap_try = best_umap.head(300)"
   ]
  },
  {
   "cell_type": "code",
   "execution_count": 19,
   "metadata": {},
   "outputs": [],
   "source": [
    "import matplotlib\n",
    "from matplotlib.pyplot import cm\n",
    "\n",
    "cat_unique = list(wn_plot.category.unique())\n",
    "n_cat = len(cat_unique)\n",
    "\n",
    "markers = [\".\", \"o\" ,\"v\" , \"^\" , \"<\" , \">\" , \"1\" , \"2\" , \"3\" , \"4\" , \"8\" , \"s\" , \"p\" , \"P\" , \"*\" ,\n",
    "           \"h\" , \"H\" , \"+\" , \"x\" , \"X\" , \"D\" , \"d\" , \"|\" , \"_\"]\n",
    "markers = markers[:n_cat]\n",
    "    \n",
    "colors = list(matplotlib.colors.cnames.keys())\n",
    "colors=cm.rainbow(np.linspace(0,1,n_cat))"
   ]
  },
  {
   "cell_type": "code",
   "execution_count": 21,
   "metadata": {},
   "outputs": [
    {
     "name": "stderr",
     "output_type": "stream",
     "text": [
      "No handles with labels found to put in legend.\n"
     ]
    },
    {
     "data": {
      "image/png": "[encoded data removed]",
      "text/plain": [
       "<Figure size 1800x864 with 1 Axes>"
      ]
     },
     "metadata": {
      "needs_background": "light"
     },
     "output_type": "display_data"
    }
   ],
   "source": [
    "text = []\n",
    "for cat, color, marker in zip(cat_unique, colors, markers):\n",
    "    keys = wn_plot['word'][wn_plot['category'] == cat].values\n",
    "    df_reduced = best_umap_try[best_umap_try['token'].isin(keys)]\n",
    "    if not df_reduced.empty:\n",
    "        i = 0\n",
    "        for index,row in df_reduced.iterrows():\n",
    "            i+=1\n",
    "            plt.scatter(row['x'], row['y'], c=np.array([color]), alpha=0.7, label=cat if i == 1 else \"\", \n",
    "                        marker=marker, s=100, edgecolors='black')\n",
    "            text.append(plt.annotate(row['token'], alpha=0.6, xy=(row['x'], row['y']), ha='right', va='bottom', size=14))\n",
    "adjust_text(text)\n",
    "plt.legend(fontsize='small', loc=2)\n",
    "plt.title('Wordnet categories')\n",
    "plt.show()"
   ]
  }
 ],
 "metadata": {
  "kernelspec": {
   "display_name": "Python 3",
   "language": "python",
   "name": "python3"
  },
  "language_info": {
   "codemirror_mode": {
    "name": "ipython",
    "version": 3
   },
   "file_extension": ".py",
   "mimetype": "text/x-python",
   "name": "python",
   "nbconvert_exporter": "python",
   "pygments_lexer": "ipython3",
   "version": "3.7.6"
  }
 },
 "nbformat": 4,
 "nbformat_minor": 4
}
